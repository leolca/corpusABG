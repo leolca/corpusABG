{
 "cells": [
  {
   "cell_type": "code",
   "execution_count": 2,
   "metadata": {
    "kernel": "Bash"
   },
   "outputs": [],
   "source": [
    "# check if ABG corpus was already downloaded\n",
    "# if not, download it\n",
    "if [ ! -f /tmp/Corpus_ABG.csv ]; then \n",
    "  wget -q https://raw.githubusercontent.com/SauronGuide/corpusABG/master/Corpus_ABG_Completo_Versao3.csv -O /tmp/Corpus_ABG.csv\n",
    "fi"
   ]
  },
  {
   "cell_type": "markdown",
   "metadata": {
    "kernel": "Bash"
   },
   "source": [
    "Check ABG Corpus file type."
   ]
  },
  {
   "cell_type": "code",
   "execution_count": 3,
   "metadata": {
    "kernel": "Bash"
   },
   "outputs": [
    {
     "name": "stdout",
     "output_type": "stream",
     "text": [
      "/tmp/Corpus_ABG.csv: UTF-8 Unicode (with BOM) text, with CRLF line terminators\n"
     ]
    }
   ],
   "source": [
    "file /tmp/Corpus_ABG.csv"
   ]
  },
  {
   "cell_type": "markdown",
   "metadata": {
    "kernel": "Bash"
   },
   "source": [
    "Since it uses CRLF line terminators, it was probably created on Windows. This double line terminator is unnacessary and carries an extra byte (```\\r```, carriage return) that might appear as ```^M``` on Linux and create further problem.\n",
    "\n",
    "The BOM marker is also redundant, since it is possible to infer the endianness by a simple analysis of the data. The BOM marker (in UTF-8) is made of the three inicial bytes ```0xEF```,```0xBB```,```0xBF```.\n",
    "\n",
    "So let's start by removing both of them."
   ]
  },
  {
   "cell_type": "code",
   "execution_count": 4,
   "metadata": {
    "kernel": "Bash"
   },
   "outputs": [],
   "source": [
    "tail --bytes=+4 /tmp/Corpus_ABG.csv | tr -d '\\r' > /tmp/CorpusABG.csv"
   ]
  },
  {
   "cell_type": "markdown",
   "metadata": {
    "kernel": "Bash"
   },
   "source": [
    "Unfortunately the ABG corpus has many erros. We will try to fix some of them and leave many behind.\n",
    "\n",
    "The first error we found is empty lines, that appear as: ```,,,,,,,,,,,,,,,,```.\n",
    "\n",
    "Lets list them and remove them. We will use grep to find them and the parameter ```-n``` to print the line number, along the match."
   ]
  },
  {
   "cell_type": "code",
   "execution_count": 5,
   "metadata": {
    "kernel": "Bash"
   },
   "outputs": [
    {
     "name": "stdout",
     "output_type": "stream",
     "text": [
      "\u001b[32m\u001b[K20608\u001b[m\u001b[K\u001b[36m\u001b[K:\u001b[m\u001b[K\u001b[01;31m\u001b[K,\u001b[m\u001b[K,,,,,,,,,,,,,,,\n",
      "\u001b[32m\u001b[K20747\u001b[m\u001b[K\u001b[36m\u001b[K:\u001b[m\u001b[K\u001b[01;31m\u001b[K,\u001b[m\u001b[K,,,,,,,,,,,,,,,\n",
      "\u001b[32m\u001b[K20957\u001b[m\u001b[K\u001b[36m\u001b[K:\u001b[m\u001b[K\u001b[01;31m\u001b[K,\u001b[m\u001b[K,,,,,,,,,,,,,,,\n",
      "\u001b[32m\u001b[K48422\u001b[m\u001b[K\u001b[36m\u001b[K:\u001b[m\u001b[K\u001b[01;31m\u001b[K,\u001b[m\u001b[K,,,,,,,,,,,,,,,\n",
      "\u001b[32m\u001b[K48764\u001b[m\u001b[K\u001b[36m\u001b[K:\u001b[m\u001b[K\u001b[01;31m\u001b[K,\u001b[m\u001b[K,,,,,,,,,,,,,,,\n",
      "\u001b[32m\u001b[K49034\u001b[m\u001b[K\u001b[36m\u001b[K:\u001b[m\u001b[K\u001b[01;31m\u001b[K,\u001b[m\u001b[K,,,,,,,,,,,,,,,\n",
      "\u001b[32m\u001b[K49705\u001b[m\u001b[K\u001b[36m\u001b[K:\u001b[m\u001b[K\u001b[01;31m\u001b[K,\u001b[m\u001b[K,,,,,,,,,,,,,,,\n",
      "\u001b[32m\u001b[K49838\u001b[m\u001b[K\u001b[36m\u001b[K:\u001b[m\u001b[K\u001b[01;31m\u001b[K,\u001b[m\u001b[K,,,,,,,,,,,,,,,\n",
      "\u001b[32m\u001b[K50175\u001b[m\u001b[K\u001b[36m\u001b[K:\u001b[m\u001b[K\u001b[01;31m\u001b[K,\u001b[m\u001b[K,,,,,,,,,,,,,,,\n",
      "\u001b[32m\u001b[K51587\u001b[m\u001b[K\u001b[36m\u001b[K:\u001b[m\u001b[K\u001b[01;31m\u001b[K,\u001b[m\u001b[K,,,,,,,,,,,,,,,\n",
      "\u001b[32m\u001b[K53205\u001b[m\u001b[K\u001b[36m\u001b[K:\u001b[m\u001b[K\u001b[01;31m\u001b[K,\u001b[m\u001b[K,,,,,,,,,,,,,,,\n",
      "\u001b[32m\u001b[K92625\u001b[m\u001b[K\u001b[36m\u001b[K:\u001b[m\u001b[K\u001b[01;31m\u001b[K,\u001b[m\u001b[K,   ,,,,,,,,,,,,,,\n"
     ]
    }
   ],
   "source": [
    "grep -n '^,' /tmp/CorpusABG.csv "
   ]
  },
  {
   "cell_type": "markdown",
   "metadata": {
    "kernel": "Bash"
   },
   "source": [
    "Now, lets remove those lines. We're using the same command from above and cutting the result to get only the line number. Then we peform a loop on those numbers to create a string with everything we will remove using ```sed```."
   ]
  },
  {
   "cell_type": "code",
   "execution_count": 6,
   "metadata": {
    "kernel": "Bash"
   },
   "outputs": [],
   "source": [
    "LINES=\"\"; \n",
    "for i in `grep -n '^,' /tmp/CorpusABG.csv | cut -d: -f1`; do \n",
    "  LINES=\"${LINES}${i}d;\"; \n",
    "done; \n",
    "sed -ie \"${LINES}\" /tmp/CorpusABG.csv"
   ]
  },
  {
   "cell_type": "markdown",
   "metadata": {
    "kernel": "Bash"
   },
   "source": [
    "The corpus has a sequence of commas ```,,,,,``` in the end of each line. We will remove it, since it is unused."
   ]
  },
  {
   "cell_type": "code",
   "execution_count": 7,
   "metadata": {
    "kernel": "Bash"
   },
   "outputs": [],
   "source": [
    "sed -i 's/,,,,,$//g' /tmp/CorpusABG.csv"
   ]
  },
  {
   "cell_type": "markdown",
   "metadata": {
    "kernel": "Bash"
   },
   "source": [
    "The fields (columns) in the ABG corpus are listed on the first line."
   ]
  },
  {
   "cell_type": "code",
   "execution_count": 8,
   "metadata": {
    "kernel": "Bash"
   },
   "outputs": [
    {
     "name": "stdout",
     "output_type": "stream",
     "text": [
      "ID,PALAVRA,CATMORF,LEMA,TRANSCRICAO,ACENTUACAO,ESTSILABICA,CATACENTUAL,FREQGERAL,FREQORAL,FREQESCRITA,Freq_Nivel\n"
     ]
    }
   ],
   "source": [
    "head -n 1 /tmp/CorpusABG.csv "
   ]
  },
  {
   "cell_type": "markdown",
   "metadata": {
    "kernel": "Bash"
   },
   "source": [
    "There are 12 fields: ID (1), PALAVRA (2), CATMORF (3), LEMA (4), TRANSCRICAO (5), ACENTUACAO (6), ESTSILABICA (7), CATACENTUAL (8), FREQGERAL (9), FREQORAL (10), FREQESCRITA (11), Freq_Nivel (12).\n",
    "\n",
    "Another type of error we found in the database is lines that don't have exactly 12 fields (3 have more than 12 and 3 have less than 12). Probably the authors have inserted erroneous commas or have missed some, creating a malformed file. The script bellow present the rows that do not have 12 fields. We also print the line number, so we may once again remove the bad data."
   ]
  },
  {
   "cell_type": "code",
   "execution_count": 9,
   "metadata": {
    "kernel": "Bash"
   },
   "outputs": [
    {
     "name": "stdout",
     "output_type": "stream",
     "text": [
      "24089:24093,Jereissati,   F   jereissati,   &je-reJ-sa-Ti*,   &je-reJ-s1-Ty*,   &CV-CVG-CV-CV*,   parox?tona,6,   0o,6,2\n",
      "35806:35816,Fuentes,   F   Fuentes,   &fE-tes*,   &fE-t4s*,   &CV-CVS*,   ox?tona,3,   0o,3,2\n",
      "46495:46508,prociss?es,   NP,,   prociss?es,   &pro-si-sOJs*,   &pro-si-s#Js*,   &CCV-CV-CVGS*,   ox?tona,2,2,   0e,2\n",
      "51341:51359,Josh,   F   Josh,   &jo-Sy*,   &j9-Sy*,   &CV-CV*,   parox?tona,2,   0o,2,2\n",
      "54571:54607,Juvenile,   NOM,   Juvenile,   &ju-ve-ni-le*,   &ju-ve-n7-ly*,   &CV-CV-CV-CV*,   parox?tona,1,   0o,1,,54607\n",
      "77325:77959,bulut,   F,   bulut,   &bu-lut*,   &bu-l$t*,   &CV-CVC*,   ox?tona,1,   0o,1,1,,1,   0o,1,1\n"
     ]
    }
   ],
   "source": [
    "cat /tmp/CorpusABG.csv | sed 's/,\\+\\s*$//' | awk -F, 'NF!=12{print NR\":\"$0}'"
   ]
  },
  {
   "cell_type": "markdown",
   "metadata": {
    "kernel": "Bash"
   },
   "source": [
    "Lets then remove those lines, just as we did before."
   ]
  },
  {
   "cell_type": "code",
   "execution_count": 10,
   "metadata": {
    "kernel": "Bash"
   },
   "outputs": [],
   "source": [
    "LINES=\"\"; \n",
    "for i in `sed 's/,\\+\\s*$//' < /tmp/Corpus_ABG.csv | awk -F, 'NF!=12{print NR\":\"$0}' | cut -d: -f1`; do \n",
    "  LINES=\"${LINES}${i}d;\"; \n",
    "done; \n",
    "sed -ie \"${LINES}\" /tmp/CorpusABG.csv"
   ]
  },
  {
   "cell_type": "markdown",
   "metadata": {
    "kernel": "Bash"
   },
   "source": [
    "There are also rows where the FREQGERAL is zero or not a number. "
   ]
  },
  {
   "cell_type": "code",
   "execution_count": 11,
   "metadata": {
    "kernel": "Bash"
   },
   "outputs": [
    {
     "name": "stdout",
     "output_type": "stream",
     "text": [
      "24086:24093,Jereissati,   F   jereissati,   &je-reJ-sa-Ti*,   &je-reJ-s1-Ty*,   &CV-CVG-CV-CV*,   parox?tona,6,   0o,6,2\n",
      "35802:35816,Fuentes,   F   Fuentes,   &fE-tes*,   &fE-t4s*,   &CV-CVS*,   ox?tona,3,   0o,3,2\n",
      "46490:46508,prociss?es,   NP,,   prociss?es,   &pro-si-sOJs*,   &pro-si-s#Js*,   &CCV-CV-CVGS*,   ox?tona,2,2,   0e,2\n",
      "51329:51359,Josh,   F   Josh,   &jo-Sy*,   &j9-Sy*,   &CV-CV*,   parox?tona,2,   0o,2,2\n"
     ]
    }
   ],
   "source": [
    "awk -F, '$9<1{print NR\":\"$0}' < /tmp/CorpusABG.csv"
   ]
  },
  {
   "cell_type": "markdown",
   "metadata": {
    "kernel": "Bash"
   },
   "source": [
    "We're going to remove these data as well."
   ]
  },
  {
   "cell_type": "code",
   "execution_count": 12,
   "metadata": {
    "kernel": "Bash"
   },
   "outputs": [],
   "source": [
    "LINES=\"\"; \n",
    "for i in `awk -F, '$9<1{print NR\":\"$0}' < /tmp/CorpusABG.csv | cut -d: -f1`; do \n",
    "  LINES=\"${LINES}${i}d;\"; \n",
    "done; \n",
    "sed -ie \"${LINES}\" /tmp/CorpusABG.csv"
   ]
  },
  {
   "cell_type": "markdown",
   "metadata": {
    "kernel": "Bash"
   },
   "source": [
    "There are other frequency fields (FREQORAL (10), FREQESCRITA (11), Freq_Nivel (12)) and theit values should be numeric and positive. But many have non valid values."
   ]
  },
  {
   "cell_type": "code",
   "execution_count": 13,
   "metadata": {
    "kernel": "Bash"
   },
   "outputs": [
    {
     "name": "stdout",
     "output_type": "stream",
     "text": [
      "71043\n"
     ]
    }
   ],
   "source": [
    "awk -F, '($10<1||$11<1||$12<1){print NR\":\"$0}' < /tmp/CorpusABG.csv | wc -l"
   ]
  },
  {
   "cell_type": "markdown",
   "metadata": {
    "kernel": "Bash"
   },
   "source": [
    "This number represents a large amount of the total dada. We will leave it be."
   ]
  },
  {
   "cell_type": "code",
   "execution_count": 14,
   "metadata": {
    "kernel": "Bash"
   },
   "outputs": [
    {
     "name": "stdout",
     "output_type": "stream",
     "text": [
      ".76726931052358735095\n"
     ]
    }
   ],
   "source": [
    "TOTAL=$(wc -l /tmp/CorpusABG.csv | cut -d' ' -f1)\n",
    "COUNTNN=$(awk -F, '($10<1||$11<1||$12<1){print NR\":\"$0}' < /tmp/CorpusABG.csv | wc -l)\n",
    "echo \"$COUNTNN/$TOTAL\" | bc -l"
   ]
  },
  {
   "cell_type": "markdown",
   "metadata": {
    "kernel": "Bash"
   },
   "source": [
    "The morphological category (column 3) and stress category (column 8) are categorical variables, they might have values in a finite set and their value assigning each sample to a different group. Lets check the values used in the corpus.\n",
    "\n",
    "\n",
    "Morphological category (column 3):"
   ]
  },
  {
   "cell_type": "code",
   "execution_count": 15,
   "metadata": {
    "kernel": "Bash"
   },
   "outputs": [
    {
     "name": "stdout",
     "output_type": "stream",
     "text": [
      "  36563 NOM\n",
      "  32776 V\n",
      "  11681 ADJ\n",
      "   5067 F\n",
      "   2188 V+P\n",
      "   1456 C\n",
      "   1061 ADV\n",
      "    717 \n",
      "    430 G\n",
      "    184 P\n",
      "    179 I\n",
      "     80 PREP+P\n",
      "     55 CONJ\n",
      "     42 NUM\n",
      "     39 PREP\n",
      "     38 PREP+DET\n",
      "     27 DET\n",
      "      5 PREP+ADV\n",
      "      1 V+p\n",
      "      1 FNOM\n",
      "      1 f\n",
      "      1 CATMORF\n"
     ]
    }
   ],
   "source": [
    "awk -F',[ ]*' '{print $3}' /tmp/CorpusABG.csv | sort | uniq -c | sort -rn"
   ]
  },
  {
   "cell_type": "markdown",
   "metadata": {
    "kernel": "Bash"
   },
   "source": [
    "We see there 717 with no morphological category assigned, there is one \"V+p\" that might be \"V+P\" and a \"f\" that might be \"F\". We might easily correct those two."
   ]
  },
  {
   "cell_type": "code",
   "execution_count": 16,
   "metadata": {
    "kernel": "Bash"
   },
   "outputs": [],
   "source": [
    "awk -F',[ ]*' 'BEGIN{OFS=\", \"} ($3==\"f\"){$3=\"F\"} ($3==\"V+p\"){$3=\"V+P\"} {print}' /tmp/CorpusABG.csv > /tmp/tmpABG\n",
    "mv /tmp/tmpABG /tmp/CorpusABG.csv"
   ]
  },
  {
   "cell_type": "markdown",
   "metadata": {
    "kernel": "Bash"
   },
   "source": [
    "The list of the 717 of entries with empty morphological category (column 3) is given bellow:"
   ]
  },
  {
   "cell_type": "code",
   "execution_count": 17,
   "metadata": {
    "kernel": "Bash"
   },
   "outputs": [
    {
     "name": "stdout",
     "output_type": "stream",
     "text": [
      "143 legal\t\t395 crian?as\t\t634 logo\n",
      "149 segundo\t\t396 pol?cia\t\t635 estados\n",
      "150 vida\t\t397 sala\t\t636 velho\n",
      "151 outros\t\t398 p?blico\t\t637 m?dico\n",
      "152 nunca\t\t399 enquanto\t\t638 a??o\n",
      "153 foram\t\t400 nosso\t\t639 mal\n",
      "154 ?poca\t\t401 junto\t\t640 votos\n",
      "155 ia\t\t\t402 sul\t\t\t641 sociedade\n",
      "156 S?o\t\t\t403 falava\t\t642 alunos\n",
      "157 disse\t\t404 quarto\t\t643 relacionadas\n",
      "158 est?o\t\t405 situa??o\t\t644 pequena\n",
      "159 fui\t\t\t406 talvez\t\t645 aquelas\n",
      "160 tipo\t\t407 social\t\t646 debate\n",
      "161 ir\t\t\t408 conhece\t\t647 gostoso\n",
      "162 quer\t\t409 seguran?a\t\t648 trabalhando\n",
      "163 dentro\t\t410 umas\t\t649 antigamente\n",
      "164 pessoal\t\t411 idade\t\t650 quiser\n",
      "165 ficou\t\t412 m?s\t\t\t651 dilma\n",
      "166 d?\t\t\t413 dados\t\t652 papel\n",
      "167 ver\t\t\t414 for\t\t\t653 l?ngua\n",
      "168 dizer\t\t415 podem\t\t654 equipe\n",
      "169 falei\t\t416 Mas\t\t\t655 saiu\n",
      "170 maior\t\t417 bairros\t\t656 seguinte\n",
      "171 seus\t\t418 importante\t\t657 cinema\n",
      "172 entendeu\t\t419 filha\t\t658 pensar\n",
      "173 teve\t\t420 pouquinho\t\t659 ruim\n",
      "174 jeito\t\t421 conhe?o\t\t660 eleitoral\n",
      "175 tanto\t\t422 curso\t\t661 cidades\n",
      "176 essas\t\t423 processo\t\t662 ideia\n",
      "177 aos\t\t\t424 carioca\t\t663 estudo\n",
      "178 lado\t\t425 sistema\t\t664 esta\n",
      "179 carro\t\t426 irm?\t\t665 irm?os\n",
      "180 hist?ria\t\t427 trabalha\t\t666 mostra\n",
      "181 perto\t\t428 afirmou\t\t667 Se\n",
      "182 pa?s\t\t429 valor\t\t668 minhas\n",
      "183 senhora\t\t430 existe\t\t669 entendendo\n",
      "184 melhor\t\t431 turno\t\t670 respeito\n",
      "185 hora\t\t432 pais\t\t671 morreu\n",
      "186 tal\t\t\t433 fato\t\t672 novas\n",
      "187 cada\t\t434 amigo\t\t673 alto\n",
      "188 aquela\t\t435 tive\t\t674 pre?o\n",
      "189 mim\t\t\t436 sido\t\t675 preciso\n",
      "190 antes\t\t437 principalmente\t676 principais\n",
      "191 sim\t\t\t438 m?o\t\t\t677 popula??o\n",
      "192 brasil\t\t439 PAULO\t\t678 tiver\n",
      "193 presidente\t\t440 poss?vel\t\t679 desta\n",
      "194 contra\t\t441 f?cil\t\t680 palavra\n",
      "195 pro\t\t\t442 mudou\t\t681 prefeito\n",
      "196 te\t\t\t443 brasileiro\t\t682 leste\n",
      "197 estado\t\t444 pesquisa\t\t683 diretor\n",
      "198 cara\t\t445 pr?ximo\t\t684 gra?as\n",
      "199 aquele\t\t446 Estado\t\t685 lazer\n",
      "200 fez\t\t\t447 uso\t\t\t686 ler\n",
      "201 gosta\t\t448 cerca\t\t687 mudan?a\n",
      "202 algum\t\t449 per?odo\t\t688 tivesse\n",
      "203 ?gua\t\t450 tinham\t\t689 justi?a\n",
      "204 v?\t\t\t451 espa?o\t\t690 super\n",
      "205 daqui\t\t452 entrar\t\t691 telefone\n",
      "206 rua\t\t\t453 contato\t\t692 col?gio\n",
      "207 forma\t\t454 estudar\t\t693 dizendo\n",
      "208 desde\t\t455 homem\t\t694 clube\n",
      "209 caso\t\t456 empresas\t\t695 ?ltimos\n",
      "210 trabalhar\t\t457 menina\t\t696 entender\n",
      "211 semana\t\t458 programa\t\t697 por?m\n",
      "212 fora\t\t459 tarde\t\t698 come?ar\n",
      "213 dif?cil\t\t460 vila\t\t699 vinha\n",
      "214 vamos\t\t461 afirma\t\t700 necessidade\n",
      "215 certo\t\t462 posso\t\t701 usar\n",
      "216 queria\t\t463 acabou\t\t702 p?ssaro\n",
      "217 verdade\t\t464 in?cio\t\t703 terra\n",
      "218 problema\t\t465 manh?\t\t704 comiss?o\n",
      "220 senhor\t\t466 acaba\t\t705 vejo\n",
      "221 Dilma\t\t467 metr?\t\t706 bilh?es\n",
      "222 diferente\t\t468 sentido\t\t707 crise\n",
      "223 primeira\t\t469 setembro\t\t708 percebe\n",
      "224 concordando\t\t470 acontece\t\t709 casos\n",
      "225 filho\t\t471 praia\t\t710 atual\n",
      "226 novo\t\t472 consegue\t\t711 presente\n",
      "227 dar\t\t\t473 inf?ncia\t\t712 nenhuma\n",
      "228 qual\t\t474 trabalhava\t\t713 cozinha\n",
      "229 dinheiro\t\t475 opini?o\t\t714 ajuda\n",
      "230 vem\t\t\t476 projeto\t\t715 hor?rio\n",
      "231 uns\t\t\t477 v?rias\t\t716 p?blica\n",
      "232 paulistano\t\t478 capital\t\t717 menino\n",
      "233 rio\t\t\t479 apesar\t\t718 tendo\n",
      "234 regi?o\t\t480 p?\t\t\t719 t?cnico\n",
      "235 deve\t\t481 monte\t\t720 transporte\n",
      "236 interior\t\t482 comigo\t\t721 liberdade\n",
      "237 frente\t\t483 vontade\t\t722 desses\n",
      "238 qualquer\t\t484 banco\t\t723 buscar\n",
      "239 outras\t\t485 igreja\t\t724 escolas\n",
      "240 conta\t\t486 sabia\t\t725 professores\n",
      "242 final\t\t487 falo\t\t726 dava\n",
      "243 numa\t\t488 deixar\t\t727 simples\n",
      "244 olha\t\t489 alta\t\t728 fazenda\n",
      "246 ap?s\t\t490 pegou\t\t729 tentar\n",
      "247 DE\t\t\t491 produ??o\t\t730 houve\n",
      "248 grupo\t\t492 este\t\t731 acesso\n",
      "249 noite\t\t493 n?mero\t\t732 italiano\n",
      "250 t?o\t\t\t494 s?rie\t\t733 jornal\n",
      "251 esses\t\t495 pega\t\t734 entrou\n",
      "252 quase\t\t496 aula\t\t735 avenida\n",
      "253 falando\t\t497 v?rios\t\t736 shopping\n",
      "254 dias\t\t498 marido\t\t737 algo\n",
      "255 Paulo\t\t499 poderia\t\t738 aumento\n",
      "256 rela??o\t\t500 pois\t\t739 fizeram\n",
      "257 quanto\t\t501 servi?o\t\t740 novos\n",
      "258 porta\t\t502 problemas\t\t741 amiga\n",
      "260 filhos\t\t503 comprar\t\t742 leva\n",
      "261 sotaque\t\t504 palavras\t\t743 movimento\n",
      "262 Brasil\t\t505 voltar\t\t744 sob\n",
      "263 alguns\t\t506 festa\t\t745 constru??o\n",
      "264 mulher\t\t507 prefeitura\t\t746 praticamente\n",
      "265 causa\t\t508 brasileira\t\t747 recursos\n",
      "266 chegou\t\t509 realmente\t\t748 sexta\n",
      "267 morar\t\t510 cabe?a\t\t749 ter?\n",
      "268 ?nibus\t\t511 levar\t\t750 a??es\n",
      "269 No\t\t\t512 m?sica\t\t751 morei\n",
      "270 pol?tica\t\t513 comecei\t\t752 entra\n",
      "271 t?\t\t\t514 experi?ncia\t\t753 deveria\n",
      "272 algu?m\t\t515 teria\t\t754 depende\n",
      "273 crian?a\t\t516 gostaria\t\t755 passando\n",
      "274 ningu?m\t\t517 federal\t\t756 corpo\n",
      "275 seja\t\t518 pr?dio\t\t757 casas\n",
      "276 boa\t\t\t519 lei\t\t\t758 parque\n",
      "277 A?cio\t\t520 pa?ses\t\t759 aluno\n",
      "279 ai\t\t\t521 s?bado\t\t760 exatamente\n",
      "280 mesma\t\t522 podia\t\t761 texto\n",
      "281 entendi\t\t523 ensino\t\t762 roupa\n",
      "282 ser?\t\t524 portugu?s\t\t763 continua\n",
      "283 t?m\t\t\t525 claro\t\t764 naquele\n",
      "284 seria\t\t526 pelas\t\t765 deixou\n",
      "285 veio\t\t527 demais\t\t766 entanto\n",
      "286 falam\t\t528 campo\t\t767 p?e\n",
      "287 apenas\t\t529 deste\t\t768 rela??es\n",
      "288 suas\t\t530 naquela\t\t769 jardim\n",
      "290 toda\t\t531 pr?prio\t\t770 estad?o\n",
      "291 embora\t\t532 povo\t\t771 caf?\n",
      "292 poder\t\t533 igual\t\t772 agosto\n",
      "294 da?\t\t\t534 filme\t\t773 imagem\n",
      "295 voc?s\t\t535 normal\t\t774 pol?ticos\n",
      "296 falta\t\t536 medo\t\t775 ganhar\n",
      "297 sou\t\t\t537 obra\t\t776 pior\n",
      "298 lembro\t\t538 come?a\t\t777 Como\n",
      "299 fazendo\t\t539 pagar\t\t778 brincava\n",
      "300 ?rea\t\t540 chama\t\t779 entende\n",
      "301 mercado\t\t541 bonito\t\t780 viajar\n",
      "302 irm?o\t\t542 sai\t\t\t781 coloca\n",
      "303 come?ou\t\t543 geral\t\t782 especial\n",
      "304 deu\t\t\t544 Segundo\t\t783 vit?ria\n",
      "305 horas\t\t545 resultado\t\t784 comida\n",
      "306 algumas\t\t546 contar\t\t785 terceiro\n",
      "307 durante\t\t547 modo\t\t786 ingl?s\n",
      "308 centro\t\t548 cultura\t\t787 aonde\n",
      "309 amigos\t\t549 emprego\t\t788 barcelona\n",
      "311 todas\t\t550 ru?do\t\t789 leite\n",
      "312 jogo\t\t551 maneira\t\t790 disputa\n",
      "313 fiquei\t\t552 mudar\t\t791 vendo\n",
      "314 fim\t\t\t553 grandes\t\t792 ministro\n",
      "315 deixa\t\t554 aberta\t\t793 De\n",
      "316 qu?\t\t\t555 Ele\t\t\t794 trabalhei\n",
      "317 empresa\t\t556 vi\t\t\t795 conseguiu\n",
      "318 acordo\t\t557 forte\t\t796 voltou\n",
      "319 meses\t\t558 inclusive\t\t797 reuni?o\n",
      "320 volta\t\t559 preto\t\t798 achei\n",
      "321 elas\t\t560 futebol\t\t799 dando\n",
      "322 sair\t\t561 janeiro\t\t800 levou\n",
      "323 muitos\t\t562 hospital\t\t801 internet\n",
      "324 lugares\t\t563 folha\t\t802 cinquenta\n",
      "325 campanha\t\t564 conhecer\t\t803 r?pido\n",
      "326 paulista\t\t565 aten??o\t\t804 linha\n",
      "327 fazia\t\t566 Marina\t\t805 casamento\n",
      "328 eram\t\t567 longe\t\t806 pensa\n",
      "329 sendo\t\t568 partido\t\t807 setor\n",
      "330 al?m\t\t569 interessante\t808 apartamento\n",
      "331 meus\t\t570 jogar\t\t809 mundial\n",
      "332 quest?o\t\t571 contou\t\t810 brasileiros\n",
      "333 saber\t\t572 ?ltimo\t\t811 favor\n",
      "334 passar\t\t573 candidato\t\t812 ?nica\n",
      "335 outubro\t\t574 aqueles\t\t813 caminho\n",
      "336 chegar\t\t575 elei??o\t\t814 queda\n",
      "337 nome\t\t576 encontro\t\t815 peguei\n",
      "338 estar\t\t577 menor\t\t816 Um\n",
      "339 mora\t\t578 quais\t\t817 longo\n",
      "340 dez\t\t\t579 elei??es\t\t818 livre\n",
      "341 precisa\t\t580 classe\t\t819 informa??es\n",
      "342 c?\t\t\t581 m?dia\t\t820 medida\n",
      "343 milh?es\t\t582 principal\t\t821 maria\n",
      "344 educa??o\t\t583 norte\t\t822 narrativa\n",
      "345 neg?cio\t\t584 lembra\t\t823 complicado\n",
      "346 quero\t\t585 pr?pria\t\t824 companhia\n",
      "347 barulho\t\t586 estavam\t\t825 tranquilo\n",
      "348 momento\t\t587 sociais\t\t826 nota\n",
      "349 maioria\t\t588 nasceu\t\t827 plano\n",
      "350 aconteceu\t\t589 televis?o\t\t828 come?o\n",
      "351 tr?nsito\t\t590 tirar\t\t829 faixa\n",
      "352 atr?s\t\t591 moradores\t\t830 tema\n",
      "353 partir\t\t592 temos\t\t831 petista\n",
      "354 passa\t\t593 errado\t\t832 quarta\n",
      "355 ficava\t\t594 viagem\t\t833 site\n",
      "356 muitas\t\t595 apoio\t\t834 geralmente\n",
      "357 segunda\t\t596 tucano\t\t835 inteiro\n",
      "358 ponto\t\t597 professora\t\t836 conseguir\n",
      "359 nova\t\t598 com\t\t\t837 gest?o\n",
      "360 parece\t\t599 mooca\t\t838 solu??o\n",
      "361 Para\t\t600 livro\t\t839 costa\n",
      "362 nenhum\t\t601 fazem\t\t840 som\n",
      "363 v?o\t\t\t602 renda\t\t841 lista\n",
      "364 feito\t\t603 tomar\t\t842 possibilidade\n",
      "365 aquilo\t\t604 for?a\t\t843 via\n",
      "366 fundo\t\t605 vim\t\t\t844 engra?ado\n",
      "367 sa?de\t\t606 moram\t\t845 certa\n",
      "368 domingo\t\t607 vista\t\t846 morou\n",
      "369 tenha\t\t608 colocar\t\t847 obras\n",
      "370 fosse\t\t609 fa?o\t\t848 ordem\n",
      "371 local\t\t610 andar\t\t849 sele??o\n",
      "372 pegar\t\t611 base\t\t850 Lula\n",
      "373 pontos\t\t612 Rio\t\t\t851 relato\n",
      "374 neste\t\t613 comer\t\t852 feita\n",
      "375 diferen?a\t\t614 internacional\t853 morte\n",
      "376 pelos\t\t615 time\t\t854 estadual\n",
      "377 havia\t\t616 n?vel\t\t855 direitos\n",
      "378 deus\t\t617 mulheres\t\t856 teatro\n",
      "379 gostava\t\t618 decis?o\t\t857 devem\n",
      "380 faculdade\t\t619 vieram\t\t858 a?cio\n",
      "381 minutos\t\t620 pequeno\t\t859 origem\n",
      "382 economia\t\t621 nacional\t\t860 Neves\n",
      "383 passou\t\t622 diferentes\t\t861 carros\n",
      "384 cima\t\t623 qualidade\t\t862 celular\n",
      "385 direito\t\t624 pol?tico\t\t863 tia\n",
      "386 morava\t\t625 dessas\t\t864 ficam\n",
      "387 chega\t\t626 governador\t\t865 an?lise\n",
      "388 passado\t\t627 crescimento\t\t866 caixa\n",
      "389 fiz\t\t\t628 ?ltima\t\t867 parar\n",
      "390 Na\t\t\t629 ajudar\t\t868 conhecimento\n"
     ]
    },
    {
     "name": "stdout",
     "output_type": "stream",
     "text": [
      "391 professor\t\t630 entrevista\t\t869 obrigada\n",
      "392 viol?ncia\t\t631 condi??es\t\t870 Petrobras\n",
      "393 viu\t\t\t632 certeza\t\t871 guerra\n",
      "394 zona\t\t633 baixo\t\t872 poucos\n"
     ]
    }
   ],
   "source": [
    "awk -F',[ ]*' '($3==\"\"){print $1,$2}' /tmp/CorpusABG.csv | column"
   ]
  },
  {
   "cell_type": "markdown",
   "metadata": {
    "kernel": "Bash"
   },
   "source": [
    "Stress category (column 8):"
   ]
  },
  {
   "cell_type": "code",
   "execution_count": 18,
   "metadata": {
    "kernel": "Bash"
   },
   "outputs": [
    {
     "name": "stdout",
     "output_type": "stream",
     "text": [
      "  55262 parox?tona\n",
      "  21694 ox?tona\n",
      "   6800 paroxitona\n",
      "   3470 oxitona\n",
      "   3392 proparox?tona\n",
      "   1530 mono\n",
      "    396 proparoxitona\n",
      "     40 4\n",
      "      2 PARox?tona\n",
      "      2 ox?tono\n",
      "      1 quatro\n",
      "      1 parox?ton\n",
      "      1 parox?ona\n",
      "      1 CATACENTUAL\n"
     ]
    }
   ],
   "source": [
    "awk -F',[ ]*' '{print $8}' /tmp/CorpusABG.csv | sort | uniq -c | sort -rn"
   ]
  },
  {
   "cell_type": "markdown",
   "metadata": {
    "kernel": "Bash"
   },
   "source": [
    "There are 40 entries with value 4 for stress category, one entry with value 'quatro' (might be the same as 4) and there are many mistyped names which we might correct with a simple substitution."
   ]
  },
  {
   "cell_type": "code",
   "execution_count": 19,
   "metadata": {
    "kernel": "Bash"
   },
   "outputs": [],
   "source": [
    "# fix stress category\n",
    "sed -i 's/ox?tona/oxitona/g' /tmp/CorpusABG.csv\n",
    "sed -i 's/ox?tono/oxitona/g' /tmp/CorpusABG.csv\n",
    "sed -i 's/PARoxitona/paroxitona/g' /tmp/CorpusABG.csv\n",
    "sed -i 's/parox?ona/paroxitona/g' /tmp/CorpusABG.csv\n",
    "sed -i 's/parox?ton/paroxitona/g' /tmp/CorpusABG.csv"
   ]
  },
  {
   "cell_type": "markdown",
   "metadata": {
    "kernel": "Bash"
   },
   "source": [
    "Now, lets check some of those entries with value 4 in stress category."
   ]
  },
  {
   "cell_type": "code",
   "execution_count": 20,
   "metadata": {
    "kernel": "Bash"
   },
   "outputs": [
    {
     "name": "stdout",
     "output_type": "stream",
     "text": [
      "719,t?cnico,,   t?cnico,   &t5-ky-ni-ko*,   &t5-ky-ny-kw*,   &CV-CV-CV-CV*,4,500,151,349,3\n",
      "1485,t?cnica,   NOM,   t?cnica,   &t5-ky-ni-ka*,   &t5-ky-ny-k@*,   &CV-CV-CV-CV*,4,231,70,161,3\n",
      "2666,t?cnicos,   ADJ,   t?cnicos,   &t5-ky-ni-kos*,   &t5-ky-ny-kws*,   &CV-CV-CV-CVS*,4,121,13,108,3\n",
      "4111,t?cnicas,   ADJ,   t?cnicas,   &t5-ky-ni-kas*,   &t5-ky-ny-k@s*,   &CV-CV-CV-CVC*,4,73,11,62,2\n",
      "5060,d?ficit,   NOM,   d?ficit,   &d5-fi-si-ty*,   &d5-fy-sy-ty*,   &CV-CV-CV-CV*,4,56,3,53,2\n"
     ]
    }
   ],
   "source": [
    "awk -F',[ ]*' '($8==4){print}' /tmp/CorpusABG.csv | head -n 5"
   ]
  },
  {
   "cell_type": "markdown",
   "metadata": {
    "kernel": "Bash"
   },
   "source": [
    "And the complete list of words with value 4 (or 'quatro') in stress category is:"
   ]
  },
  {
   "cell_type": "code",
   "execution_count": 21,
   "metadata": {
    "kernel": "Bash"
   },
   "outputs": [
    {
     "name": "stdout",
     "output_type": "stream",
     "text": [
      "719 t?cnico\t\t31949 Polit?cnica\t56961 antiss?ptico\n",
      "1485 t?cnica\t\t34472 eletrot?cnico\t57174 antiss?pticos\n",
      "2666 t?cnicos\t\t34935 ?tnicas\t\t57581 apocal?pticas\n",
      "4111 t?cnicas\t\t41512 aut?ctones\t59961 c?psula\n",
      "5060 d?ficit\t\t42759 eletrot?cnica\t64142 el?ptico\n",
      "13979 l?xico\t\t43225 el?ptica\t\t64157 epil?ptica\n",
      "16379 polit?cnica\t44164 ex-t?cnico\t64278 epil?pticos\n",
      "16904 ?tnica\t\t46546 logar?tmica\t72143 lepid?pteros\n",
      "19590 inc?gnita\t\t50151 pan?ptico\t\t74419 g?ngsteres\n",
      "21275 ?tnicos\t\t51463 r?tmico\t\t77274 multi?tnico\n",
      "23465 ?tnico\t\t51627 sociot?cnica\t83538 d?couvert\n",
      "26420 inc?gnito\t\t56107 h?bitat\t\t84891 pirot?cnicos\n",
      "28814 apocal?ptica\t56835 anal?pticos\t87837 Polit?cnico\n",
      "29173 c?psulas\t\t56954 antiss?ptica\n"
     ]
    }
   ],
   "source": [
    "awk -F',[ ]*' '($8==4||$8==\"quatro\"){print $1,$2}' /tmp/CorpusABG.csv | column"
   ]
  },
  {
   "cell_type": "markdown",
   "metadata": {
    "kernel": "Bash"
   },
   "source": [
    "It seems all of them are proparoxytone ('proparoxitona') in fact. So lets correct them."
   ]
  },
  {
   "cell_type": "code",
   "execution_count": 22,
   "metadata": {
    "kernel": "Bash"
   },
   "outputs": [],
   "source": [
    "awk -F',[ ]*' 'BEGIN{OFS=\", \"} ($8==4||$8==\"quatro\"){$8=\"proparoxitona\"} {print}' /tmp/CorpusABG.csv > /tmp/tmpABG\n",
    "mv /tmp/tmpABG /tmp/CorpusABG.csv"
   ]
  },
  {
   "cell_type": "markdown",
   "metadata": {
    "kernel": "Bash"
   },
   "source": [
    "Now lets make an histogram for the stress category."
   ]
  },
  {
   "cell_type": "code",
   "execution_count": 23,
   "metadata": {
    "kernel": "Bash"
   },
   "outputs": [],
   "source": [
    "awk -F',[ ]*' '{print $8}' /tmp/CorpusABG.csv | sort | uniq -c | sort -rn | \n",
    "  head -n -1 | nl| \n",
    "  gnuplot -e \"set terminal png; set output 'images/stress_category.png'; set xlabel 'categoria acentual'; set ylabel 'frequencia'; set style fill solid; set boxwidth 1; set title 'corpus abg'; set xtics rotate by 45 right; plot '/dev/stdin' using 1:2:xtic(3) with boxes notitle\""
   ]
  },
  {
   "cell_type": "markdown",
   "metadata": {
    "kernel": "Bash"
   },
   "source": [
    "![](images/stress_category.png)"
   ]
  },
  {
   "cell_type": "markdown",
   "metadata": {
    "kernel": "Bash"
   },
   "source": [
    "Every row should have 12 fields, but there are two rows with a different number. One with 16 and another with 17."
   ]
  },
  {
   "cell_type": "code",
   "execution_count": 24,
   "metadata": {
    "kernel": "Bash"
   },
   "outputs": [
    {
     "name": "stdout",
     "output_type": "stream",
     "text": [
      "  92590 12\n",
      "      1 16\n",
      "      1 17\n"
     ]
    }
   ],
   "source": [
    "awk -F'[ ]*,[ ]*' 'BEGIN{OFS=\",\"} {print NF}' /tmp/CorpusABG.csv | sort | uniq -c"
   ]
  },
  {
   "cell_type": "markdown",
   "metadata": {
    "kernel": "Bash"
   },
   "source": [
    "These rows are presented bellow:"
   ]
  },
  {
   "cell_type": "code",
   "execution_count": 25,
   "metadata": {
    "kernel": "Bash"
   },
   "outputs": [
    {
     "name": "stdout",
     "output_type": "stream",
     "text": [
      "54607,Juvenile,   NOM,   Juvenile,   &ju-ve-ni-le*,   &ju-ve-n7-ly*,   &CV-CV-CV-CV*,   paroxitona,1,   0o,1,,54607,,,\n",
      "77959,bulut,   F,   bulut,   &bu-lut*,   &bu-l$t*,   &CV-CVC*,   oxitona,1,   0o,1,1,,1,   0o,1,1\n"
     ]
    }
   ],
   "source": [
    "awk -F'[ ]*,[ ]*' 'BEGIN{OFS=\",\"} (NF==16||NF==17){print}' /tmp/CorpusABG.csv"
   ]
  },
  {
   "cell_type": "markdown",
   "metadata": {
    "kernel": "Bash"
   },
   "source": [
    "Lets correct those lines. Squeezing repeates of commas (,) and removing comma (,) in the end of the line. After lets print only the 12 first fields, since the line for **bulut** has a repeaded values of ones in the end."
   ]
  },
  {
   "cell_type": "code",
   "execution_count": 26,
   "metadata": {
    "kernel": "Bash"
   },
   "outputs": [],
   "source": [
    "awk -F'[ ]*,[ ]*' 'BEGIN{OFS=\",\"} (NF>12){system(\"echo \\\"\"$0\"\\\" | tr -s ',' | sed 's/,$//'\")} (NF==12){print}' /tmp/CorpusABG.csv > /tmp/abgtmp\n",
    "mv /tmp/abgtmp /tmp/CorpusABG.csv \n",
    "awk -F'[ ]*,[ ]*' 'BEGIN{OFS=\",\"} (NF==12){print} (NF>12){print $1,$2,$3,$4,$5,$6,$7,$8,$9,$10,$11,$12}' /tmp/CorpusABG.csv > /tmp/abgtmp\n",
    "mv /tmp/abgtmp /tmp/CorpusABG.csv "
   ]
  },
  {
   "cell_type": "markdown",
   "metadata": {
    "kernel": "Bash"
   },
   "source": [
    "Fields 9, 10, 11 and 12 should be numeric, since they represent frequencies. Lets check how many are not numeric."
   ]
  },
  {
   "cell_type": "code",
   "execution_count": 27,
   "metadata": {
    "kernel": "Bash"
   },
   "outputs": [
    {
     "name": "stdout",
     "output_type": "stream",
     "text": [
      "number of non-numeric values in fields: 9:0, 10:56110, 11:14933, 12:0\n"
     ]
    }
   ],
   "source": [
    "tail -n +2 /tmp/CorpusABG.csv | awk -F'[ ]*,[ ]*' 'BEGIN{OFS=\",\"} (!($9~/^[0-9]+$/)){count9++} (!($10~/^[0-9]+$/)){count10++} (!($11~/^[0-9]+$/)){count11++} (!($12~/^[0-9]+$/)){count12++} END{printf \"number of non-numeric values in fields: 9:%d, 10:%d, 11:%d, 12:%d\\n\",count9,count10,count11,count12}'"
   ]
  },
  {
   "cell_type": "markdown",
   "metadata": {
    "kernel": "Bash"
   },
   "source": [
    "Lets check what is written in these fields that were supposed to be numeric."
   ]
  },
  {
   "cell_type": "code",
   "execution_count": 28,
   "metadata": {
    "kernel": "Bash"
   },
   "outputs": [
    {
     "name": "stdout",
     "output_type": "stream",
     "text": [
      "  14933 0e\n",
      "  56109 0o\n",
      "      1 o\n"
     ]
    }
   ],
   "source": [
    "tail -n +2 /tmp/CorpusABG.csv | awk -F'[ ]*,[ ]*' 'BEGIN{OFS=\",\"} (!($9~/^[0-9]+$/)){print $9} (!($10~/^[0-9]+$/)){print $10} (!($11~/^[0-9]+$/)){print $11} (!($12~/^[0-9]+$/)){print $12}' | sort | uniq -c"
   ]
  },
  {
   "cell_type": "markdown",
   "metadata": {
    "kernel": "Bash"
   },
   "source": [
    "It seems we may replace those values (0e, 0o and o) by 0 (zero). So lets do it."
   ]
  },
  {
   "cell_type": "code",
   "execution_count": 29,
   "metadata": {
    "kernel": "Bash"
   },
   "outputs": [],
   "source": [
    "awk -F'[ ]*,[ ]*' 'BEGIN{OFS=\",\"} (NR>1&&!($9~/^[0-9]+$/)){$9=0} (NR>1&&!($10~/^[0-9]+$/)){$10=0} (NR>1&&!($11~/^[0-9]+$/)){$11=0} (NR>1&&!($12~/^[0-9]+$/)){$12=0} {print}' /tmp/CorpusABG.csv > /tmp/tmpabg \n",
    "mv /tmp/tmpabg /tmp/CorpusABG.csv "
   ]
  },
  {
   "cell_type": "markdown",
   "metadata": {
    "kernel": "Bash"
   },
   "source": [
    "Many entries have ```?``` in the word (column 2) or lemma (column 5) transcription. The amount is:"
   ]
  },
  {
   "cell_type": "code",
   "execution_count": 30,
   "metadata": {
    "kernel": "Bash"
   },
   "outputs": [
    {
     "name": "stdout",
     "output_type": "stream",
     "text": [
      "18007\n"
     ]
    }
   ],
   "source": [
    "awk -F',[ ]*' '($2~/?/)||($4~/?/){print $2, $4, $5}' /tmp/CorpusABG.csv | wc -l"
   ]
  },
  {
   "cell_type": "markdown",
   "metadata": {
    "kernel": "Bash"
   },
   "source": [
    "and some examples are given bellow:"
   ]
  },
  {
   "cell_type": "code",
   "execution_count": 31,
   "metadata": {
    "kernel": "Bash"
   },
   "outputs": [
    {
     "name": "stdout",
     "output_type": "stream",
     "text": [
      "l? l? &l1*\n",
      "tamb?m tamb?m &tA-b6*\n",
      "est? est? &es-t1*\n",
      "s?o s?o &sAW*\n",
      "j? j? &j1*\n",
      "s? s? &s!*\n",
      "? ? a&a*\n",
      "at? at? &a-t5*\n",
      "?s ?s &as*\n",
      "m?e m?e &mA-e*\n"
     ]
    }
   ],
   "source": [
    "awk -F',[ ]*' '($2~/?/)||($4~/?/){print $2, $4, $5}' /tmp/CorpusABG.csv | head"
   ]
  },
  {
   "cell_type": "markdown",
   "metadata": {
    "kernel": "Bash"
   },
   "source": [
    "In the ABG Corpus repository there is a file ```Corpus_Tag_Freq_Trans.txt``` (probably a intermediary file) which has some data that might be used to fix those ```?``` in the corpus file. \n",
    "\n",
    "Lets first download this file:"
   ]
  },
  {
   "cell_type": "code",
   "execution_count": 32,
   "metadata": {
    "kernel": "Bash"
   },
   "outputs": [],
   "source": [
    "if [ ! -f /tmp/Acentuador.zip ]; then \n",
    "  wget -q https://github.com/SauronGuide/corpusABG/raw/master/7-%20Acentuador.zip -O /tmp/Acentuador.zip\n",
    "fi \n",
    "#unzip -p /tmp/Acentuador.zip \"7- Acentuador/Corpus_Tag_Freq_Trans.txt\" > /tmp/Corpus_Tag_Freq_Trans.txt\n",
    "unzip -p /tmp/Acentuador.zip \"7- Acentuador/Corpus_Transcrito.xlsx\" > /tmp/Corpus_Transcrito.xlsx"
   ]
  },
  {
   "cell_type": "markdown",
   "metadata": {
    "kernel": "Bash"
   },
   "source": [
    "Now we're going to convert the .xlsx file into a .csv file by using libreoffice."
   ]
  },
  {
   "cell_type": "code",
   "execution_count": 33,
   "metadata": {
    "kernel": "Bash"
   },
   "outputs": [
    {
     "name": "stdout",
     "output_type": "stream",
     "text": [
      "convert /tmp/Corpus_Transcrito.xlsx -> /tmp/Corpus_Transcrito.csv using filter : Text - txt - csv (StarCalc)\n",
      "Overwriting: /tmp/Corpus_Transcrito.csv\n"
     ]
    }
   ],
   "source": [
    "libreoffice --headless --convert-to csv --outdir /tmp/ /tmp/Corpus_Transcrito.xlsx"
   ]
  },
  {
   "cell_type": "markdown",
   "metadata": {
    "kernel": "Bash"
   },
   "source": [
    "Lets check the type of file created."
   ]
  },
  {
   "cell_type": "code",
   "execution_count": 34,
   "metadata": {
    "kernel": "Bash"
   },
   "outputs": [
    {
     "name": "stdout",
     "output_type": "stream",
     "text": [
      "/tmp/Corpus_Transcrito.csv: Non-ISO extended-ASCII text\n"
     ]
    }
   ],
   "source": [
    "file /tmp/Corpus_Transcrito.csv "
   ]
  },
  {
   "cell_type": "markdown",
   "metadata": {
    "kernel": "Bash"
   },
   "source": [
    "It is a problematic file. We're gonna assume it was coded in ISO 8859-1, which was standard for old Windows in Latin America and then convert it to UTF-8 using *translit* option (if can't find the right symbol in the target coding, chose the most visually similar)."
   ]
  },
  {
   "cell_type": "code",
   "execution_count": 35,
   "metadata": {
    "kernel": "Bash"
   },
   "outputs": [],
   "source": [
    "iconv -f ISO-8859-1 -t UTF-8//TRANSLIT < /tmp/Corpus_Transcrito.csv  > /tmp/Corpus_Transcrito_utf8.csv"
   ]
  },
  {
   "cell_type": "markdown",
   "metadata": {
    "kernel": "Bash"
   },
   "source": [
    "Lets create a list of all entries that still need a fix."
   ]
  },
  {
   "cell_type": "code",
   "execution_count": 36,
   "metadata": {
    "kernel": "Bash"
   },
   "outputs": [],
   "source": [
    "awk -F',[ ]*' 'BEGIN{OFS=\",\"} ($2~/?/){print NR, $2, $4, $5, $9, $10, $11}' /tmp/CorpusABG.csv > /tmp/needfixlist"
   ]
  },
  {
   "cell_type": "markdown",
   "metadata": {
    "kernel": "Bash"
   },
   "source": [
    "And not lets make a script to fix it.\n",
    "\n",
    "For each entry that has ```?``` in it, which is listed in file ```/tmp/needfixlist``` created above, we will find the corresponding entry (same pronounciation) and replace the mispelled word by the vertion in the downloaded file. If we find the corresponding word, we will fix it and, if the lemma is equal to the word, we will also fix the lema."
   ]
  },
  {
   "cell_type": "code",
   "execution_count": 38,
   "metadata": {
    "kernel": "Bash"
   },
   "outputs": [],
   "source": [
    "rm -f /tmp/not_found.csv\n",
    "while read line; do\n",
    "  LINNUM=$(echo $line | awk -F',' '{print $1}')\n",
    "  TRANSC=$(echo $line | awk -F',' '{print $4}')\n",
    "  PWORD=$(echo $line | awk -F',' '{print $2}')\n",
    "  #TRANSS=\"${TRANSC//[-&*]}\"\n",
    "  F1=$(echo $line | awk -F',' '{print $5}')\n",
    "  F2=$(echo $line | awk -F',' '{print $6}')\n",
    "  F3=$(echo $line | awk -F',' '{print $7}')\n",
    "  WORD=$(awk -F'[ ]*,[ ]*' -v prn=\"$TRANSC\" -v f1=\"$F1\" -v f2=\"$F2\" -v f3=\"$F3\" 'BEGIN{OFS=\",\"} $4==prn&&($8==f1||($8!~/^[0-9]+$/&&f1==0))&&($9==f2||($9!~/^[0-9]+$/&&f2==0))&&($10==f3||($10!~/^[0-9]+$/&&f3==0)){print $1}' /tmp/Corpus_Transcrito_utf8.csv)\n",
    "  for word in $WORD;\n",
    "  do\n",
    "    if [ ${#word} == ${#PWORD} ];\n",
    "      then\n",
    "      THEWORD=\"$word\"\n",
    "    fi;\n",
    "  done\n",
    "  if [ ! -z \"$THEWORD\" ]; then\n",
    "     awk -F',[ ]*' -v linnum=\"$LINNUM\" -v word=\"$THEWORD\" 'BEGIN{OFS=\",\"} (NR==linnum&&$2==$4){$4=tolower(word)} NR==linnum{$2=tolower(word)} {$1=$1}1' /tmp/CorpusABG.csv > /tmp/tmpabg\n",
    "     mv /tmp/tmpabg /tmp/CorpusABG.csv\n",
    "  else\n",
    "     echo \"$PWORD, $TRANSC\" >> /tmp/not_found.csv\n",
    "  fi\n",
    "  THEWORD=\"\"\n",
    "done < /tmp/needfixlist"
   ]
  },
  {
   "cell_type": "markdown",
   "metadata": {
    "kernel": "Bash"
   },
   "source": [
    "Still there are many entries that still need fix."
   ]
  },
  {
   "cell_type": "code",
   "execution_count": 39,
   "metadata": {
    "kernel": "Bash"
   },
   "outputs": [
    {
     "name": "stdout",
     "output_type": "stream",
     "text": [
      ".20504874063221953006\n"
     ]
    }
   ],
   "source": [
    "echo $(wc -l /tmp/not_found.csv | cut -d ' ' -f1)\"/\"$(wc -l /tmp/needfixlist | cut -d ' ' -f1) | bc -l"
   ]
  },
  {
   "cell_type": "code",
   "execution_count": 40,
   "metadata": {
    "kernel": "Bash"
   },
   "outputs": [
    {
     "name": "stdout",
     "output_type": "stream",
     "text": [
      "3639 /tmp/not_found.csv\n"
     ]
    }
   ],
   "source": [
    "wc -l /tmp/not_found.csv "
   ]
  },
  {
   "cell_type": "markdown",
   "metadata": {
    "kernel": "Bash"
   },
   "source": [
    "3639 entries (20.5%) were not fixed.\n",
    "\n",
    "Lets see 10 random entries that were not fixed:"
   ]
  },
  {
   "cell_type": "code",
   "execution_count": 41,
   "metadata": {
    "kernel": "Bash"
   },
   "outputs": [
    {
     "name": "stdout",
     "output_type": "stream",
     "text": [
      "policial-rob?, &po-li-si-aW-ro-bo*\n",
      "encoura?ado, &E-koW-ra-sa-do*\n",
      "h?ngaros, &%-ga-ros*\n",
      "circula??o, &sir-ku-la-sAW*\n",
      "rememora??o, &he-me-mo-ra-sAW*\n",
      "an?lises, &a-n1-li-es*\n",
      "incipit?rio, &I-si-pi-t1-rJo*\n",
      "DESIST?NCIA, &de-zis-tE-sJa*\n",
      "manipul?-lo, &ma-ni-pu-l1-lo*\n",
      "Execu??es, &e-ze-ku-sOJs*\n"
     ]
    }
   ],
   "source": [
    "shuf -n 10 /tmp/not_found.csv"
   ]
  },
  {
   "cell_type": "code",
   "execution_count": 43,
   "metadata": {
    "kernel": "Bash"
   },
   "outputs": [],
   "source": [
    "# add number of phonemes and syllables\n",
    "awk -F','  'BEGIN{OFS=\",\"} NR==1{printf \"%s\",$0; printf \"%s\",\",NUMFONES,NUMSILABAS\\n\"} NR>1{$2=tolower($2); $4=tolower($4); gsub(/^\\&|\\*$/,\"\",$5); gsub(/^\\&|\\*$/,\"\",$6); gsub(/^\\&|\\*$/,\"\",$7); printf \"%s,\",$0; gsub(/-/,\"\",$5); printf \"%d,%d\\n\", length($5), gsub(/-/,\"\",$7)+1}' /tmp/CorpusABG.csv > /tmp/CorpusABGv2.csv"
   ]
  },
  {
   "cell_type": "markdown",
   "metadata": {
    "kernel": "Bash"
   },
   "source": [
    "using a spell correction to correct entries with ```?```"
   ]
  },
  {
   "cell_type": "code",
   "execution_count": null,
   "metadata": {
    "kernel": "Bash"
   },
   "outputs": [],
   "source": [
    "awk -F, 'BEGIN{OFS=FS} $2~/\\?/{\"echo \\\"\"$2\"\\\" | ./spell.py\"|& getline $2} $4~/\\?/{\"echo \\\"\"$4\"\\\" | ./spell.py\"|& getline $4} {$1=$1; print}' /tmp/CorpusABGv2.csv > /tmp/CorpusABGv2spell.csv"
   ]
  },
  {
   "cell_type": "markdown",
   "metadata": {
    "kernel": "Bash"
   },
   "source": [
    "The substitutions made in field 2 are presented bellow:"
   ]
  },
  {
   "cell_type": "code",
   "execution_count": 44,
   "metadata": {
    "kernel": "Bash"
   },
   "outputs": [
    {
     "name": "stdout",
     "output_type": "stream",
     "text": [
      "< regi?o\t\t< dic??o\t\t< disposi??es\n",
      "> região\t\t> dicção\t\t> disposições\n",
      "< ningu?m\t\t< flex?vel\t\t< a?ucarado\n",
      "> ninguém\t\t> flexível\t\t> açucarado\n",
      "< qu?\t\t\t< cal?ado\t\t< s?c\n",
      "> que\t\t\t> calado\t\t> sc\n",
      "< opini?o\t\t< desconstru??o\t\t< rebeli?es\n",
      "> opinião\t\t> desconstrução\t\t> rebeliões\n",
      "< produ??o\t\t< injusti?a\t\t< radiois?topo\n",
      "> produção\t\t> injustiça\t\t> radioisótopo\n",
      "< s?rie\t\t\t< sedu??o\t\t< reconstr?i\n",
      "> série\t\t\t> sedução\t\t> reconstrói\n",
      "< servi?o\t\t< viol?ncias\t\t< brit?nicas\n",
      "> serviço\t\t> violências\t\t> britânicas\n",
      "< portugu?s\t\t< destr?i\t\t< desconex?o\n",
      "> português\t\t> destrói\t\t> desconexo\n",
      "< pr?prio\t\t< descri??es\t\t< comunica??o\n",
      "> próprio\t\t> descrições\t\t> comunicação\n",
      "< aten??o\t\t< g?meos\t\t< cal?ad?es\n",
      "> atenção\t\t> gêmeos\t\t> calçadões\n",
      "< condi??es\t\t< escorpi?o\t\t< injusti?ada\n",
      "> condições\t\t> escorpião\t\t> injustiçada\n",
      "< justi?a\t\t< uni?es\t\t< posti?os\n",
      "> justiça\t\t> uniões\t\t> postiços\n",
      "< constru??o\t\t< extradi??o\t\t< desperdi?a\n",
      "> construção\t\t> extradição\t\t> desperdiça\n",
      "< reuni?o\t\t< redu??es\t\t< degluti??o\n",
      "> reunião\t\t> reduções\t\t> deglutido\n",
      "< solu??o\t\t< cal?ados\t\t< debru?am\n",
      "> solução\t\t> calçados\t\t> debruçam\n",
      "< redu??o\t\t< proposi??o\t\t< compaix?o\n",
      "> redução\t\t> proposição\t\t> compaixão\n",
      "< servi?os\t\t< ?i\t\t\t< educa??o\n",
      "> serviços\t\t> ei\t\t\t> educação\n",
      "< posi??o\t\t< devolu??o\t\t< isl?micas\n",
      "> posição\t\t> devolução\t\t> islâmicas\n",
      "< regi?es\t\t< l?xico\t\t< arquitet?nicos\n",
      "> regiões\t\t> léxico\t\t> arquitetônicos\n",
      "< m?ximo\t\t< defini??es\t\t< tr?nsitos\n",
      "> máximo\t\t> definições\t\t> trânsitos\n",
      "< edi??o\t\t< interlocu??o\t\t< espi?o\n",
      "> edição\t\t> interlocução\t\t> espião\n",
      "< tradi??o\t\t< puni??es\t\t< farmac?uticos\n",
      "> tradição\t\t> punições\t\t> farmacêuticos\n",
      "< oposi??o\t\t< pol?micos\t\t< foli?es\n",
      "> oposição\t\t> polêmicos\t\t> foliões\n",
      "< op??es\t\t< reparti??o\t\t< bu?uel\n",
      "> opções\t\t> repartição\t\t> bunuel\n",
      "< c?mara\t\t< mesti?o\t\t< desnutri??o\n",
      "> câmara\t\t> mestiço\t\t> desnutrição\n",
      "< avi?o\t\t\t< id?nticos\t\t< socioecon?micos\n",
      "> avião\t\t\t> idênticos\t\t> socioeconômicos\n",
      "< descri??o\t\t< jurisdi??o\t\t< reuni?ozinha\n",
      "> descrição\t\t> jurisdição\t\t> reuniãozinha\n",
      "< constru??es\t\t< suposi??o\t\t< exibi??es\n",
      "> construções\t\t> suposição\t\t> exibições\n",
      "< religi?o\t\t< qu?o\t\t\t< embri?es\n",
      "> religião\t\t> quão\t\t\t> embriões\n",
      "< uni?o\t\t\t< pi?o\t\t\t< si?o\n",
      "> união\t\t\t> piso\t\t\t> sido\n",
      "< evolu??o\t\t< corti?os\t\t< mesti?os\n",
      "> evolução\t\t> cortiços\t\t> mestiços\n",
      "< transcri??o\t\t< emerg?ncias\t\t< guardi?o\n",
      "> transcrição\t\t> emergências\t\t> guardião\n",
      "< competi??o\t\t< execu??es\t\t< condu??es\n",
      "> competição\t\t> execuções\t\t> conduítes\n",
      "< ?\t\t\t< prescri??o\t\t< locu??o\n",
      "> a\t\t\t> prescrição\t\t> locução\n",
      "< exposi??o\t\t< sumi?o\t\t< desperdi?ada\n",
      "> exposição\t\t> sumiço\t\t> desperdiçada\n",
      "< ocasi?o\t\t< viv?ncias\t\t< absolvi??o\n",
      "> ocasião\t\t> vivências\t\t> absolvição\n",
      "< defini??o\t\t< oxig?nio\t\t< mec?nicas\n",
      "> definição\t\t> oxigênio\t\t> mecânicas\n",
      "< disposi??o\t\t< perdi??o\t\t< reinscri??o\n",
      "> disposição\t\t> perdido\t\t> reinscrição\n",
      "< condu??o\t\t< ambi??es\t\t< pi?arras\n",
      "> condução\t\t> ambições\t\t> pigarras\n",
      "< cal?ada\t\t< decomposi??o\t\t< basti?o\n",
      "> calçada\t\t> decomposição\t\t> bastido\n",
      "< posi??es\t\t< maci?o\t\t< ca?ulinha\n",
      "> posições\t\t> maciço\t\t> caçulinha\n",
      "< reuni?es\t\t< medi??o\t\t< #name?\n",
      "> reuniões\t\t> medido\t\t> name\n",
      "< ca?ula\t\t< suposi??es\t\t< amaldi?oado\n",
      "> caçula\t\t> suposições\t\t> amaldiçoado\n",
      "< reprodu??o\t\t< cal?as\t\t< pseud?nimos\n",
      "> reprodução\t\t> calças\t\t> pseudônimos\n",
      "< assist?ncia\t\t< instru??es\t\t< feiti?os\n",
      "> assistência\t\t> instruções\t\t> feitios\n",
      "< come?amos\t\t< adi??o\t\t< microrregi?o\n",
      "> começamos\t\t> adiado\t\t> microrregião\n",
      "< revolu??o\t\t< al?amento\t\t< c?nicas\n",
      "> revolução\t\t> aluamento\t\t> cênicas\n",
      "< aquisi??o\t\t< indefini??o\t\t< mudan?as\n",
      "> aquisição\t\t> indefinição\t\t> mudanças\n",
      "< cal?a\t\t\t< v?mitos\t\t< din?micos\n",
      "> calma\t\t\t> vômitos\t\t> dinâmicos\n",
      "< come?am\t\t< tradu??es\t\t< fu?ar\n",
      "> começam\t\t> traduções\t\t> fumar\n",
      "< m?xima\t\t< sobreposi??o\t\t< injusti?ado\n",
      "> máxima\t\t> sobreposição\t\t> injustiçado\n",
      "< paix?o\t\t< aquisi??es\t\t< exist?ncia\n",
      "> paixão\t\t> aquisições\t\t> existência\n",
      "< composi??o\t\t< gavi?es\t\t< anat?micas\n",
      "> composição\t\t> gaviões\t\t> anatômicas\n",
      "< t?xi\t\t\t< injusti?as\t\t< inefici?ncias\n",
      "> táxi\t\t\t> injustiças\t\t> ineficiências\n",
      "< tradu??o\t\t< reparti??es\t\t< pre?o\n",
      "> tradução\t\t> repartições\t\t> preço\n",
      "< li??o\t\t\t< discri??o\t\t< consecu??o\n",
      "> livro\t\t\t> discrição\t\t> consecução\n",
      "< introdu??o\t\t< vi?osa\t\t< aferi??o\n",
      "> introdução\t\t> viçosa\t\t> aferido\n",
      "< aux?lio\t\t< inc?ndios\t\t< cer?micas\n",
      "> auxílio\t\t> incêndios\t\t> cerâmicas\n",
      "< proibi??o\t\t< cal??o\t\t< expedi??es\n",
      "> proibido\t\t> calado\t\t> expedições\n",
      "< restri??es\t\t< preposi??o\t\t< am?rica-rj\n",
      "< transi??o\t\t> preposição\t\t> américarj\n",
      "> restrições\t\t< audi??o\t\t< gastron?micas\n",
      "> transição\t\t> audição\t\t> gastronômicas\n",
      "< solu??es\t\t< apari??es\t\t< preposi??es\n",
      "> soluções\t\t> aparições\t\t> preposições\n",
      "< inscri??o\t\t< tri?ngulo\t\t< terap?uticos\n",
      "> inscrição\t\t> triângulo\t\t> terapêuticos\n",
      "< finan?as\t\t< rom?nticos\t\t< transit?rio\n",
      "> finanças\t\t> românticos\t\t> transitório\n",
      "< tradi??es\t\t< pol?micas\t\t< al?ar\n",
      "> tradições\t\t> polêmicas\t\t> aliar\n",
      "< reflex?o\t\t< amaz?nicos\t\t< manifesta??es\n",
      "> reflexão\t\t> amazônicos\t\t> manifestações\n",
      "< resolu??o\t\t< org?nicos\t\t< fara?nicas\n",
      "> resolução\t\t> orgânicos\t\t> faraônicas\n",
      "< puni??o\t\t< demoli??o\t\t< beyonc?\n",
      "> punição\t\t> demolição\t\t> beyond\n",
      "< opini?es\t\t< afli??o\t\t< per?odo\n",
      "> opiniões\t\t> aflição\t\t> período\n",
      "< d?ficit\t\t< oposi??es\t\t< cal?adista\n",
      "> déficit\t\t> oposições\t\t> calçadista\n",
      "< atl?tico-mg\t\t< rebeli?o\t\t< regi?ozinha\n",
      "> atléticomg\t\t> rebelião\t\t> regiãozinha\n",
      "< lembran?as\t\t< compet?ncias\t\t< heran?as\n",
      "> lembranças\t\t> competências\t\t> heranças\n",
      "< avi?es\t\t< coincid?ncias\t\t< servi?al\n",
      "> aviões\t\t> coincidências\t\t> serviçal\n",
      "< restri??o\t\t< r?veillon\t\t< pr?ximas\n",
      "> restrição\t\t> réveillon\t\t> próximas\n",
      "< execu??o\t\t< mesorregi?es\t\t< sec??o\n",
      "> execução\t\t> mesorregiões\t\t> seco\n",
      "< conex?o\t\t< proibi??es\t\t< ing?nuos\n",
      "> conexão\t\t> proibições\t\t> ingênuos\n",
      "< constr?i\t\t< interfer?ncias\t< mats?s\n",
      "> constrói\t\t> interferências\t> massas\n",
      "< repeti??o\t\t< tamb?m\t\t< imposi??es\n",
      "> repetição\t\t> também\t\t> imposições\n",
      "< cren?as\t\t< do?ura\t\t< aluvi?o\n",
      "> crenças\t\t> doçura\t\t> aluvio\n",
      "< exibi??o\t\t< contraposi??o\t\t< tribut?ria\n",
      "> exibição\t\t> contraposição\t\t> tributária\n",
      "< produ??es\t\t< bai?o\t\t\t< munic?pios\n",
      "> produções\t\t> baixo\t\t\t> municípios\n",
      "< ocasi?es\t\t< avi?ozinho\t\t< sexualiza??o\n",
      "> ocasiões\t\t> aviãozinho\t\t> sexualizado\n",
      "< subsist?ncia\t\t< aut?nomos\t\t< indisposi??o\n",
      "> subsistência\t\t> autônomos\t\t> indisposição\n",
      "< cirurgi?o\t\t< gavi?o\t\t< demoli??es\n",
      "> cirurgião\t\t> gavião\t\t> demolições\n",
      "< cr?nicas\t\t< sem?nticos\t\t< suc??o\n",
      "> crônicas\t\t> semânticos\t\t> suco\n",
      "< pr?mios\t\t< reedi??o\t\t< caracter?sticas\n",
      "> prêmios\t\t> reedição\t\t> características\n",
      "< g?neros\t\t< fu?ando\t\t< maci?amente\n",
      "> gêneros\t\t> fumando\t\t> maciçamente\n",
      "< c?maras\t\t< requi?o\t\t< len?os\n",
      "> câmaras\t\t> requião\t\t> lentos\n",
      "< eletr?nicos\t\t< transposi??o\t\t< tabeli?o\n",
      "> eletrônicos\t\t> transposição\t\t> tabelião\n",
      "< instru??o\t\t< resolu??es\t\t< comp?ndios\n",
      "> instrução\t\t> resoluções\t\t> compêndios\n",
      "< contradi??es\t\t< medi??es\t\t< dedu??o\n",
      "> contradições\t\t> medições\t\t> dedução\n",
      "< d?i\t\t\t< muni??es\t\t< mudan?a\n",
      "> di\t\t\t> munições\t\t> mudança\n",
      "< expedi??o\t\t< predisposi??o\t\t< inflex?o\n",
      "> expedição\t\t> predisposição\t\t> inflexão\n",
      "< lideran?as\t\t< fundi??o\t\t< prescri??es\n",
      "> lideranças\t\t> fundição\t\t> prescrições\n",
      "< confec??o\t\t< maci?a\t\t< tibiri??\n",
      "> confecção\t\t> maciça\t\t> tibiriçá\n",
      "< evid?ncias\t\t< revolu??es\t\t< germ?nicos\n",
      "> evidências\t\t> revoluções\t\t> germânicos\n",
      "< l?mpadas\t\t< lampi?o\t\t< al?ada\n",
      "> lâmpadas\t\t> lampião\t\t> aliada\n",
      "< exposi??es\t\t< fronteiri?a\t\t< n?mero\n",
      "> exposições\t\t> fronteiriça\t\t> número\n",
      "< her?i\t\t\t< recomposi??o\t\t< ?mbitos\n",
      "> herói\t\t\t> recomposição\t\t> âmbitos\n",
      "< alian?as\t\t< fronteiri?o\t\t< anci?o\n",
      "> alianças\t\t> fronteiriço\t\t> ancião\n",
      "< legi?o\t\t< niter?i\t\t< selec??o\n",
      "> legião\t\t> niterói\t\t> selecão\n",
      "< seguran?as\t\t< desperdi?ado\t\t< cron?metros\n",
      "> seguranças\t\t> desperdiçado\t\t> cronômetros\n",
      "< super?vit\t\t< interdi??o\t\t< divulga??o\n",
      "> superávit\t\t> interdição\t\t> divulgado\n",
      "< provid?ncias\t\t< socioecon?micas\t< anti-her?i\n",
      "> providências\t\t> socioeconômicas\t> antiherói\n",
      "< edi??es\t\t< proposi??es\t\t< repeti??es\n",
      "> edições\t\t> proposições\t\t> repetições\n",
      "< religi?es\t\t< p?naltis\t\t< gramaticaliza??o\n",
      "> religiões\t\t> pênaltis\t\t> gramaticalizado\n",
      "< nutri??o\t\t< transcri??es\t\t< cal?am\n",
      "> nutrição\t\t> transcrições\t\t> calam\n",
      "< muni??o\t\t< indu??o\t\t< irritadi?as\n",
      "> munição\t\t> indulto\t\t> irritadiças\n",
      "< cuyab?\t\t< aboli??o\t\t< pressuposi??o\n",
      "> cuiabá\t\t> abolição\t\t> pressuposição\n",
      "< reposi??o\t\t< reboli?o\t\t< bi?o\n",
      "> reposição\t\t> reboliço\t\t> bico\n",
      "< acad?micos\t\t< anfitri?es\t\t< celid?nias\n",
      "> acadêmicos\t\t> anfitriões\t\t> celidônias\n"
     ]
    },
    {
     "name": "stdout",
     "output_type": "stream",
     "text": [
      "< cal?adas\t\t< term?metros\t\t< novi?a\n",
      "> calçadas\t\t> termômetros\t\t> noviça\n",
      "< prefer?ncias\t\t< m?ller\t\t< cadei?o\n",
      "> preferências\t\t> muller\t\t> cadeião\n",
      "< competi??es\t\t< obsess?es\t\t< sobreposi??es\n",
      "> competições\t\t> obsessões\t\t> sobreposições\n",
      "< resid?ncias\t\t< mani?oba\t\t< cr?nicos\n",
      "> residências\t\t> maniçoba\t\t> crônicos\n",
      "< licen?as\t\t< mesti?agem\t\t< realiza??es\n",
      "> licenças\t\t> mestiçagem\t\t> realizações\n",
      "< descal?o\t\t< cal?amento\t\t< prospec??o\n",
      "> descalço\t\t> calçamento\t\t> prospecção\n",
      "< inscri??es\t\t< neurocirurgi?o\t< transg?neros\n",
      "> inscrições\t\t> neurocirurgião\t> transgêneros\n",
      "< din?micas\t\t< desservi?o\t\t< hortali?as\n",
      "> dinâmicas\t\t> desserviço\t\t> hortaliças\n",
      "< dami?o\t\t< antag?nicos\t\t< redefini??o\n",
      "> damião\t\t> antagônicos\t\t> redefinição\n",
      "< v?nus\t\t\t< desperdi?ou\t\t< desuni?o\n",
      "> vênus\t\t\t> desperdiçou\t\t> desunido\n",
      "< influ?ncias\t\t< pux?o\t\t\t< predi?o\n",
      "> influências\t\t> puxão\t\t\t> predigo\n",
      "< obsess?o\t\t< super-her?i\t\t< dentu?o\n",
      "> obsessão\t\t> superherói\t\t> dentuço\n",
      "< caix?o\t\t< descal?a\t\t< coment?rios\n",
      "> caixão\t\t> descalça\t\t> comentários\n",
      "< composi??es\t\t< desperdi?ar\t\t< a?ucareira\n",
      "> composições\t\t> desperdiçar\t\t> açucareira\n",
      "< contradi??o\t\t< mec?nicos\t\t< ouri?o\n",
      "> contradição\t\t> mecânicos\t\t> ouriço\n",
      "< dissolu??o\t\t< peti??es\t\t< el?i\n",
      "> dissolução\t\t> petições\t\t> eli\n",
      "< isl?micos\t\t< dedu??es\t\t< ?mbito\n",
      "> islâmicos\t\t> deduções\t\t> âmbito\n",
      "< corti?o\t\t< lix?o\t\t\t< injusti?ados\n",
      "> cortiço\t\t> lixo\t\t\t> injustiçados\n",
      "< conex?es\t\t< heterog?neos\t\t< est?ncias\n",
      "> conexões\t\t> heterogêneos\t\t> estâncias\n",
      "< cirurgi?es\t\t< debru?aram\t\t< say?o\n",
      "> cirurgiões\t\t> debruçaram\t\t> sayão\n",
      "< pot?ncias\t\t< cogni??o\t\t< concess?o\n",
      "> potências\t\t> cognição\t\t> concessão\n",
      "< apari??o\t\t< sinf?nicos\t\t< superposi??o\n",
      "> aparição\t\t> sinfônicos\t\t> superposição\n",
      "< imposi??o\t\t< embri?o\t\t< transforma??es\n",
      "> imposição\t\t> embrião\t\t> transformações\n",
      "< sebasti?o\t\t< obstru??o\t\t< manic?mios\n",
      "> sebastião\t\t> obstrução\t\t> manicômios\n",
      "< cal?ad?o\t\t< maldi??o\t\t< tuy?\n",
      "> calado\t\t> maldição\t\t> tuy\n",
      "< ambi??o\t\t< inquisi??o\t\t< ti?o\n",
      "> ambição\t\t> inquisição\t\t> tipo\n",
      "< li??es\t\t< agri?o\t\t< esperidi?o\n",
      "> livres\t\t> agrião\t\t> esperidião\n",
      "< peti??o\t\t< a?ucar\t\t< come?ariam\n",
      "> petição\t\t> açucar\t\t> começariam\n",
      "< reconstru??o\t\t< assist?ncias\t\t< micro?nibus\n",
      "> reconstrução\t\t> assistências\t\t> microônibus\n"
     ]
    }
   ],
   "source": [
    "diff <(awk -F, '{print $2}' /tmp/CorpusABGv2.csv) <(awk -F, '{print $2}' /tmp/CorpusABGv2spell.csv) | grep -v \"^---\" | grep -v \"^[0-9c0-9]\" | column "
   ]
  },
  {
   "cell_type": "markdown",
   "metadata": {
    "kernel": "Bash"
   },
   "source": [
    "Unfortunately, some of them went wrong...\n",
    "\n",
    "cal?ado > calado\n",
    "\n",
    "s?c > sc\n",
    "\n",
    "al?ar > aliar\n",
    "\n",
    "lix?o > lixo\n",
    "\n",
    "etc"
   ]
  },
  {
   "cell_type": "markdown",
   "metadata": {
    "kernel": "Bash"
   },
   "source": [
    "There are many entries in the database which have at least one empty field.\n",
    "\n",
    "there are still many entries which were not fixed"
   ]
  },
  {
   "cell_type": "code",
   "execution_count": 45,
   "metadata": {
    "kernel": "Bash"
   },
   "outputs": [
    {
     "name": "stdout",
     "output_type": "stream",
     "text": [
      "3222\n"
     ]
    }
   ],
   "source": [
    "awk -F, '$2~/\\?/{print $2}' /tmp/CorpusABGv2spell.csv | wc -l"
   ]
  },
  {
   "cell_type": "markdown",
   "metadata": {
    "kernel": "Bash"
   },
   "source": [
    "for example:"
   ]
  },
  {
   "cell_type": "code",
   "execution_count": 46,
   "metadata": {
    "kernel": "Bash"
   },
   "outputs": [
    {
     "name": "stdout",
     "output_type": "stream",
     "text": [
      "condi??o\t\t\tbeb?o\n",
      "justi?a\t\t\t\t?s\n",
      "opini?o\t\t\t\treprercuss?o\n",
      "uni?o\t\t\t\t?ngulos\n",
      "servi?os\t\t\tsarad?es\n",
      "atl?tico-mg\t\t\tcompreend?-los\n",
      "produ??o\t\t\tinterse??es\n",
      "servi?o\t\t\t\tliter?rios\n",
      "?\t\t\t\tequalit?rio\n",
      "introdu??o\t\t\tcolch?o\n"
     ]
    }
   ],
   "source": [
    "awk -F, '$2~/\\?/{print $2}' /tmp/CorpusABGv2spell.csv | column | head"
   ]
  },
  {
   "cell_type": "markdown",
   "metadata": {
    "kernel": "Bash"
   },
   "source": [
    "As we may check, now every entry has 14 fields."
   ]
  },
  {
   "cell_type": "code",
   "execution_count": 1,
   "metadata": {
    "kernel": "Bash"
   },
   "outputs": [
    {
     "name": "stdout",
     "output_type": "stream",
     "text": [
      "  92592 14\n"
     ]
    }
   ],
   "source": [
    "awk -F'[ ]*,[ ]*' 'BEGIN{OFS=\",\"} {print NF}' /tmp/CorpusABGv2spell.csv | sort | uniq -c"
   ]
  },
  {
   "cell_type": "markdown",
   "metadata": {
    "kernel": "Bash"
   },
   "source": [
    "And there are empty fields (717 of them) only on the 3rd field (morphological category)."
   ]
  },
  {
   "cell_type": "code",
   "execution_count": 2,
   "metadata": {
    "kernel": "Bash"
   },
   "outputs": [
    {
     "name": "stdout",
     "output_type": "stream",
     "text": [
      "    717 3\n"
     ]
    }
   ],
   "source": [
    "awk -F',[ ]*' 'BEGIN{OFS=\",\"} {for (i = 1; i <= NF; i++) if ($i==\"\") print i}' /tmp/CorpusABGv2spell.csv | sort | uniq -c"
   ]
  },
  {
   "cell_type": "markdown",
   "metadata": {
    "kernel": "Bash"
   },
   "source": [
    "## Syllables frequency\n",
    "\n",
    "Lets break the transcription on the hyphen (-) and count the occurrence of syllables."
   ]
  },
  {
   "cell_type": "code",
   "execution_count": 3,
   "metadata": {
    "kernel": "Bash"
   },
   "outputs": [
    {
     "name": "stdout",
     "output_type": "stream",
     "text": [
      "   9291 a\t     33 DJas\t      6 5r\t      2 nip\t      1 oJs\n",
      "   7220 do\t     32 TJe\t      6 4\t      2 nex\t      1 OJ\n",
      "   6682 ta\t     32 rU\t      5 zus\t      2 neWf\t      1 ob\n",
      "   5937 ka\t     32 reW\t      5 zIs\t      2 nat\t      1 nyO\n",
      "   5536 Ti\t     32 pJe\t      5 zIg\t      2 nAs\t      1 nyIg\n",
      "   5319 de\t     32 n$\t      5 zaJs\t      2 naS\t      1 nya\n",
      "   5277 se\t     32 jir\t      5 WE\t      2 Nan\t      1 nWan\n",
      "   5276 da\t     32 bJE\t      5 W1\t      2 naJr\t      1 nUs\n",
      "   5052 te\t     32 b5\t      5 vri\t      2 naf\t      1 nun\n",
      "   4315 ra\t     31 z5\t      5 vEs\t      2 nad\t      1 noz\n",
      "   4095 ko\t     31 rir\t      5 tW7\t      2 nab\t      1 nol\n",
      "   3979 he\t     31 ran\t      5 tr1s\t      2 n7W\t      1 noh\n",
      "   3742 to\t     31 p$\t      5 toWr\t      2 n6\t      1 nod\n",
      "   3741 si\t     31 LoW\t      5 tley\t      2 mys\t      1 NO\n",
      "   3629 na\t     31 kr7\t      5 TJos\t      2 mWos\t      1 nJu\n",
      "   3597 ma\t     31 jJas\t      5 TJE\t      2 muy\t      1 nJov\n",
      "   3597 li\t     31 his\t      5 tay\t      2 mul\t      1 nJOs\n",
      "   3481 e\t     31 h1\t      5 tAWs\t      2 mri\t      1 nJors\n",
      "   3350 Di\t     31 fJo\t      5 t1r\t      2 moWd\t      1 nJak\n",
      "   3252 kO\t     31 d!\t      5 t$r\t      2 mJ1\t      1 niWr\n",
      "   3075 I\t     31 bla\t      5 sop\t      2 mix\t      1 nIt\n",
      "   3018 la\t     31 bAW\t      5 sOJ\t      2 mit\t      1 nit\n",
      "   3005 va\t     30 zJas\t      5 soJ\t      2 mid\t      1 nirs\n",
      "   2987 za\t     30 tr!\t      5 Sli\t      2 man\t      1 niJ\n",
      "   2619 pa\t     30 tOJs\t      5 sJer\t      2 mAd\t      1 nif\n",
      "   2589 mE\t     30 rO\t      5 seWs\t      2 m8\t      1 neWp\n",
      "   2523 es\t     30 p!s\t      5 sep\t      2 m1W\t      1 nep\n",
      "   2440 o\t     30 pr5\t      5 SaJ\t      2 lWo\t      1 Nek\n",
      "   2416 mi\t     30 joW\t      5 sad\t      2 lWar\t      1 nek\n",
      "   2341 mo\t     30 j1\t      5 S5\t      2 lW\t      1 NeJt\n",
      "   2338 E\t     30 gO\t      5 !s\t      2 lut\t      1 nef\n",
      "   2279 ni\t     29 van\t      5 rJO\t      2 l!s\t      1 naWx\n",
      "   2237 sa\t     29 prJo\t      5 rIg\t      2 loWr\t      1 NAWs\n",
      "   2185 pe\t     29 oJ\t      5 rey\t      2 loWJ\t      1 naWf\n",
      "   2164 ri\t     29 lJA\t      5 prar\t      2 lof\t      1 nAt\n",
      "   2117 sAW\t     29 kJe\t      5 pr8\t      2 lJOs\t      1 NAs\n",
      "   2109 ga\t     29 jas\t      5 pop\t      2 lJeS\t      1 nap\n",
      "   1987 me\t     29 fur\t      5 plar\t      2 lJan\t      1 nals\n",
      "   1964 le\t     29 fO\t      5 pJO\t      2 liWs\t      1 NaJs\n",
      "   1871 i\t     29 brar\t      5 pJar\t      2 lik\t      1 naJls\n",
      "   1861 ne\t     29 b!\t      5 peWs\t      2 lez\t      1 naj\n",
      "   1859 no\t     28 vaJ\t      5 pan\t      2 less\t      1 nAd\n",
      "   1836 dos\t     28 rJor\t      5 p5s\t      2 leJW\t      1 N7s\n",
      "   1834 vi\t     28 men\t      5 oz\t      2 leh\t      1 N7\n",
      "   1797 lo\t     28 jos\t      5 NOJs\t      2 leb\t      1 N6\n",
      "   1734 fi\t     28 har\t      5 nJO\t      2 laWs\t      1 n5W\n",
      "   1716 ba\t     27 Wo\t      5 nIg\t      2 laWb\t      1 N5\n",
      "   1635 zi\t     27 tU\t      5 NEJ\t      2 LaW\t      1 n4W\n",
      "   1575 so\t     27 tres\t      5 ned\t      2 lAs\t      1 n4\n",
      "   1552 po\t     27 t$\t      5 naWs\t      2 lars\t      1 n3\n",
      "   1545 rAW\t     27 nus\t      5 n5r\t      2 l4\t      1 N!\n",
      "   1530 pre\t     27 nO\t      5 mIs\t      2 kyk\t      1 myers\n",
      "   1516 das\t     27 nir\t      5 mez\t      2 kWos\t      1 mWo\n",
      "   1444 pro\t     27 m$\t      5 meJs\t      2 kuz\t      1 mWay\n",
      "   1438 tra\t     27 loJ\t      5 mars\t      2 kSJa\t      1 mut\n",
      "   1429 aW\t     27 jJe\t      5 maJW\t      2 kSI\t      1 muk\n",
      "   1367 re\t     27 fro\t      5 loWJs\t      2 krys\t      1 mud\n",
      "   1364 tu\t     26 tr7\t      5 lJes\t      2 kry\t      1 m!s\n",
      "   1346 des\t     26 proJ\t      5 leJs\t      2 kruJ\t      1 moya\n",
      "   1332 mos\t     26 pOJ\t      5 lay\t      2 kror\t      1 moWs\n",
      "   1299 Na\t     26 NoW\t      5 l5r\t      2 krJe\t      1 mols\n",
      "   1295 rJa\t     26 nJos\t      5 L1\t      2 krI\t      1 mOg\n",
      "   1274 ro\t     26 ly\t      5 kWaJs\t      2 kret\t      1 mlI\n",
      "   1246 ve\t     26 Ler\t      5 kSi\t      2 kreJ\t      1 mlet\n",
      "   1187 sJa\t     26 l8\t      5 k!s\t      2 krar\t      1 mJya\n",
      "   1187 ku\t     26 Je\t      5 krJar\t      2 kraJg\t      1 mJO\n",
      "   1179 su\t     26 hJa\t      5 krJA\t      2 kr$\t      1 mJEt\n",
      "   1152 bi\t     26 gla\t      5 krA\t      2 kors\t      1 mJers\n",
      "   1136 je\t     26 f!\t      5 kJos\t      2 kno\t      1 mJer\n",
      "   1126 sJo\t     26 duW\t      5 kars\t      2 klW7\t      1 mJah\n",
      "   1114 pi\t     26 bI\t      5 k9\t      2 klub\t      1 mJ7\n",
      "   1111 No\t     25 zir\t      5 joy\t      2 kloW\t      1 miz\n",
      "   1040 ky\t     25 vu\t      5 J1\t      2 kleW\t      1 miWr\n",
      "   1037 fe\t     25 ven\t      5 Ig\t      2 klaJr\t      1 miss\n",
      "   1033 fa\t     25 toJ\t      5 grJa\t      2 kl1W\t      1 mim\n",
      "    983 ji\t     25 raJ\t      5 gox\t      2 kJes\t      1 mills\n",
      "    974 vo\t     25 mus\t      5 gAs\t      2 kJar\t      1 miJ\n",
      "    970 A\t     25 maJs\t      5 g2\t      2 kJA\t      1 mIh\n",
      "    942 bo\t     25 Les\t      5 frI\t      2 kit\t      1 mId\n",
      "    939 tes\t     25 gli\t      5 fred\t      2 kip\t      1 mib\n",
      "    919 be\t     25 fos\t      5 frAs\t      2 kik\t      1 meyi\n",
      "    913 ha\t     25 faJ\t      5 eWr\t      2 kiJ\t      1 meyer\n",
      "    891 ke\t     25 boJ\t      5 ed\t      2 kId\t      1 merh\n",
      "    886 go\t     25 ad\t      5 drO\t      2 keJs\t      1 meg\n",
      "    868 per\t     24 vra\t      5 dr$\t      2 kAp\t      1 mayW\n",
      "    844 tE\t     24 laJ\t      5 DJer\t      2 kaJW\t      1 max\n",
      "    838 ki\t     24 klaW\t      5 di\t      2 kaJd\t      1 maWt\n",
      "    831 res\t     24 keW\t      5 dEs\t      2 kab\t      1 mass\n",
      "    822 tos\t     24 kaJs\t      5 baJs\t      2 k5r\t      1 maS\n",
      "    809 u\t     24 gEJ\t      5 b1r\t      2 jJad\t      1 map\n",
      "    788 ze\t     24 biW\t      5 art\t      2 Jers\t      1 mans\n",
      "    783 ter\t     23 moJ\t      5 an\t      2 jers\t      1 malls\n",
      "    779 ho\t     23 lor\t      5 9\t      2 Jer\t      1 maJr\n",
      "    765 sE\t     23 gWaW\t      5 5Js\t      2 jels\t      1 maJd\n",
      "    760 tas\t     23 gle\t      5 %\t      2 jek\t      1 m7W\n",
      "    754 sOJs\t     22 vy\t      4 zur\t      2 jeh\t      1 m3\n",
      "    751 Sa\t     22 SeW\t      4 zop\t      2 jan\t      1 m%\n",
      "    750 du\t     22 s$\t      4 zJos\t      2 Jak\t      1 lyas\n",
      "    716 zo\t     22 rOJs\t      4 zJA\t      2 jaJr\t      1 lWAsk\n",
      "    710 tA\t     22 n!s\t      4 zAg\t      2 j7\t      1 lWas\n",
      "    710 kA\t     22 l7s\t      4 Wi\t      2 j5s\t      1 lWA\n",
      "    707 gy\t     22 brJa\t      4 W7\t      2 J5\t      1 luz\n",
      "    674 ver\t     21 vor\t      4 v!r\t      2 !J\t      1 luy\n",
      "    665 rJo\t     21 suJ\t      4 voJ\t      2 iz\t      1 luW\n",
      "    660 mA\t     21 sU\t      4 vid\t      2 ills\t      1 lUSs\n",
      "    658 py\t     21 psAW\t      4 vAs\t      2 iJ\t      1 lug\n",
      "    654 gra\t     21 mur\t      4 vaJr\t      2 hWas\t      1 luf\n",
      "    653 r1\t     21 muJ\t      4 Us\t      2 hoz\t      1 lub\n",
      "    638 ar\t     21 luJ\t      4 triW\t      2 hoyaW\t      1 loz\n",
      "    631 AW\t     21 kr1\t      4 tr9\t      2 hot\t      1 loWt\n",
      "    630 pu\t     21 kl1\t      4 tAg\t      2 hoJ\t      1 loWs\n",
      "    612 for\t     21 j$\t      4 t1W\t      2 hob\t      1 lov\n",
      "    609 kar\t     21 h7\t      4 sub\t      2 hJos\t      1 loss\n",
      "    604 kos\t     21 gW7s\t      4 Sro\t      2 hJes\t      1 lors\n",
      "    602 lu\t     21 grAW\t      4 soJs\t      2 hir\t      1 lop\n",
      "    601 tro\t     20 rur\t      4 SoJ\t      2 hik\t      1 loj\n",
      "    598 ja\t     20 rJA\t      4 Sna\t      2 hEs\t      1 lOg\n",
      "    593 mu\t     20 r7s\t      4 sla\t      2 hed\t      1 LOes\n",
      "    572 dor\t     20 prJe\t      4 SJA\t      2 hap\t      1 ll\n",
      "    566 hi\t     20 pEJ\t      4 sih\t      2 haJW\t      1 lJyah\n",
      "    565 kas\t     20 nuJ\t      4 sek\t      2 gWay\t      1 lJw\n",
      "    564 tar\t     20 nJas\t      4 Sef\t      2 gWAW\t      1 lJot\n",
      "    562 gu\t     20 in\t      4 s6\t      2 groWp\t      1 lJO\n",
      "    549 mar\t     20 huJ\t      4 s4\t      2 grJas\t      1 lJev\n",
      "    544 7\t     20 doJ\t      4 rov\t      2 grey\t      1 lJEs\n",
      "    543 ser\t     20 6\t      4 riWs\t      2 greg\t      1 lJash\n",
      "    542 vAW\t     20 #\t      4 rIs\t      2 greb\t      1 l!J\n",
      "    542 fo\t     19 zaJ\t      4 rEt\t      2 graWs\t      1 lIz\n",
      "    536 Ty\t     19 SE\t      4 rak\t      2 grAt\t      1 lix\n",
      "    530 t1\t     19 ren\t      4 r1r\t      2 grass\t      1 liWr\n",
      "    523 rEJ\t     19 pr1\t      4 prJas\t      2 gran\t      1 lit\n",
      "    521 ras\t     19 plas\t      4 priW\t      2 graf\t      1 liS\n",
      "    512 zE\t     19 l6\t      4 prir\t      2 goWs\t      1 lIp\n",
      "    506 by\t     19 her\t      4 prEJ\t      2 goWr\t      1 lin\n",
      "    494 por\t     19 dU\t      4 p!r\t      2 goJs\t      1 lih\n",
      "    493 tri\t     19 drAW\t      4 plis\t      2 gOJ\t      1 lig\n",
      "    492 bu\t     19 broW\t      4 plaJ\t      2 gmE\t      1 lid\n"
     ]
    },
    {
     "name": "stdout",
     "output_type": "stream",
     "text": [
      "    484 dE\t     19 ay\t      4 pJes\t      2 glJos\t      1 lib\n",
      "    476 La\t     19 As\t      4 pJE\t      2 gler\t      1 leWrs\n",
      "    468 veW\t     19 2\t      4 pIs\t      2 gleJ\t      1 lEt\n",
      "    461 bra\t     19 1W\t      4 pin\t      2 glAd\t      1 lEs\n",
      "    431 DJa\t     18 zen\t      4 pIg\t      2 gl$\t      1 lep\n",
      "    429 tor\t     18 truJ\t      4 pen\t      2 gJe\t      1 leJr\n",
      "    421 Si\t     18 sen\t      4 oWr\t      2 giW\t      1 leJb\n",
      "    418 kre\t     18 SaW\t      4 nur\t      2 gIs\t      1 leg\n",
      "    416 Dis\t     18 pru\t      4 not\t      2 gis\t      1 lef\n",
      "    412 1\t     18 plJa\t      4 Nor\t      2 gAg\t      1 lays\n",
      "    404 tAW\t     18 plaW\t      4 NJa\t      2 g4\t      1 laWr\n",
      "    402 par\t     18 n9\t      4 niWs\t      2 g$s\t      1 LaWd\n",
      "    400 Dy\t     18 lJas\t      4 Nis\t      2 frW7\t      1 lAt\n",
      "    396 lA\t     18 Jor\t      4 neWr\t      2 frJos\t      1 lat\n",
      "    395 lis\t     18 jJos\t      4 Nes\t      2 frJas\t      1 laJt\n",
      "    393 oW\t     18 hay\t      4 nay\t      2 frJar\t      1 laj\n",
      "    389 vE\t     18 freJ\t      4 nah\t      2 frJA\t      1 lAg\n",
      "    386 naW\t     18 en\t      4 mUs\t      2 freWd\t      1 laf\n",
      "    384 ty\t     18 brO\t      4 mra\t      2 frer\t      1 lab\n",
      "    384 rA\t     18 briW\t      4 mOt\t      2 fren\t      1 l7n\n",
      "    383 toW\t     18 bres\t      4 mon\t      2 freJs\t      1 L5\n",
      "    382 nos\t     17 Sris\t      4 mJes\t      2 foWr\t      1 l3\n",
      "    381 ber\t     17 SJa\t      4 mJE\t      2 fOt\t      1 l#\n",
      "    370 tre\t     17 s8\t      4 mJar\t      2 fOJs\t      1 kyW\n",
      "    368 Se\t     17 preJ\t      4 mig\t      2 fluJr\t      1 kyh\n",
      "    368 Ja\t     17 piW\t      4 mak\t      2 flip\t      1 kWes\n",
      "    361 jo\t     17 lJar\t      4 m2\t      2 flI\t      1 kWav\n",
      "    360 sA\t     17 leW\t      4 m$W\t      2 fles\t      1 kWaJ\n",
      "    347 ju\t     17 lAd\t      4 loy\t      2 flar\t      1 kWah\n",
      "    346 pO\t     17 kres\t      4 led\t      2 fJev\t      1 kWAd\n",
      "    344 nA\t     17 k$\t      4 laz\t      2 fJes\t      1 kWab\n",
      "    342 hes\t     17 hJo\t      4 lad\t      2 fez\t      1 kW2\n",
      "    340 pri\t     17 fraW\t      4 kut\t      2 fet\t      1 kuyp\n",
      "    336 teJ\t     17 dOJs\t      4 kSJo\t      2 fAs\t      1 kun\n",
      "    336 as\t     17 brAW\t      4 kroW\t      2 faJr\t      1 kum\n",
      "    335 ros\t     17 $W\t      4 krJo\t      2 f6\t      1 kuJt\n",
      "    335 pE\t     16 We\t      4 kr9\t      2 f5r\t      1 kuJr\n",
      "    335 nis\t     16 vJA\t      4 kol\t      2 f2\t      1 kub\n",
      "    328 kor\t     16 tWar\t      4 kluJr\t      2 f1r\t      1 kSu\n",
      "    324 t!\t     16 tWA\t      4 klaWs\t      2 ez\t      1 ksos\n",
      "    322 deJ\t     16 ted\t      4 keys\t      2 eyes\t      1 ksJas\n",
      "    321 sI\t     16 sy\t      4 ket\t      2 ex\t      1 ksJA\n",
      "    319 or\t     16 !r\t      4 kaJr\t      2 est\t      1 ksi\n",
      "    314 lJa\t     16 pus\t      4 k6\t      2 ert\t      1 ksa\n",
      "    311 leJ\t     16 pU\t      4 k1r\t      2 erj\t      1 krUb\n",
      "    309 sEJ\t     16 pers\t      4 juJs\t      2 ells\t      1 kroys\n",
      "    306 lar\t     16 mAs\t      4 jJor\t      2 eh\t      1 kross\n",
      "    305 So\t     16 liW\t      4 jJO\t      2 Ed\t      1 krok\n",
      "    303 fu\t     16 gWaJ\t      4 jIg\t      2 Dyb\t      1 kroJ\n",
      "    302 pli\t     16 glJa\t      4 jet\t      2 duz\t      1 krod\n",
      "    296 nas\t     16 dres\t      4 J!\t      2 d!s\t      1 krJE\n",
      "    295 las\t     16 bros\t      4 hy\t      2 droJd\t      1 krit\n",
      "    294 bri\t     15 vre\t      4 hJe\t      2 dreW\t      1 krer\n",
      "    291 kri\t     15 v5\t      4 h$s\t      2 dr5s\t      1 kraW\n",
      "    290 der\t     15 Tys\t      4 gWiW\t      2 dr1W\t      1 kr2\n",
      "    282 zar\t     15 tus\t      4 gris\t      2 doy\t      1 kr$s\n",
      "    282 los\t     15 t6\t      4 grid\t      2 dOs\t      1 koy\n",
      "    280 nu\t     15 rWa\t      4 gr7\t      2 doJs\t      1 koWt\n",
      "    278 rJos\t     15 n%\t      4 gr5\t      2 DJO\t      1 koWs\n",
      "    273 lE\t     15 mEt\t      4 gI\t      2 d!J\t      1 kOt\n",
      "    271 Nas\t     15 LOJs\t      4 gays\t      2 Diz\t      1 kols\n",
      "    271 n1\t     15 lJE\t      4 gan\t      2 DiWr\t      1 koJs\n",
      "    268 Nos\t     15 k!r\t      4 g8\t      2 DIs\t      1 koJr\n",
      "    267 bre\t     15 jJA\t      4 g5r\t      2 DiJ\t      1 koJn\n",
      "    266 zA\t     15 hEJ\t      4 frJo\t      2 Dig\t      1 kOg\n",
      "    265 voW\t     15 gun\t      4 frAW\t      2 dI\t      1 klWo\n",
      "    265 kWa\t     15 deWs\t      4 fat\t      2 dEt\t      1 klWa\n",
      "    263 rE\t     15 day\t      4 f%\t      2 deh\t      1 kluW\n",
      "    260 kaW\t     15 daJ\t      4 eWs\t      2 deb\t      1 klJa\n",
      "    259 vas\t     15 buW\t      4 ers\t      2 days\t      1 kleo\n",
      "    256 eW\t     15 blu\t      4 eJs\t      2 dAg\t      1 klAW\n",
      "    254 vJa\t     15 bJos\t      4 drJA\t      2 d7W\t      1 klass\n",
      "    253 TI\t     15 bir\t      4 driW\t      2 d1r\t      1 klAs\n",
      "    253 pos\t     14 vras\t      4 drar\t      2 byr\t      1 kl7s\n",
      "    250 gre\t     14 TIs\t      4 dr7\t      2 bWar\t      1 kJess\n",
      "    249 rJas\t     14 TIg\t      4 dog\t      2 bug\t      1 kiss\n",
      "    248 kla\t     14 t7s\t      4 dli\t      2 b!s\t      1 kish\n",
      "    248 jEJ\t     14 poJ\t      4 dley\t      2 brJAd\t      1 keWp\n",
      "    247 trAs\t     14 ok\t      4 DIg\t      2 breS\t      1 kEt\n",
      "    243 lI\t     14 N1\t      4 dAWs\t      2 braJt\t      1 kels\n",
      "    241 saW\t     14 mJas\t      4 daJs\t      2 braJs\t      1 kEd\n",
      "    241 kOs\t     14 mEs\t      4 d7s\t      2 bov\t      1 keb\n",
      "    241 ge\t     14 krE\t      4 d4\t      2 bOd\t      1 kaw\n",
      "    239 zAW\t     14 kir\t      4 bWo\t      2 bOb\t      1 karl\n",
      "    238 mas\t     14 j4\t      4 bser\t      2 bloW\t      1 kaos\n",
      "    238 jJa\t     14 hI\t      4 brus\t      2 blJa\t      1 kals\n",
      "    237 trA\t     14 guJs\t      4 bris\t      2 blik\t      1 kal\n",
      "    237 nar\t     14 guJr\t      4 brE\t      2 blEd\t      1 kaf\n",
      "    236 seJ\t     14 groW\t      4 br7\t      2 bled\t      1 k8\n",
      "    236 fU\t     14 gros\t      4 br!\t      2 blaJr\t      1 k3J\n",
      "    236 dy\t     14 fJas\t      4 bOs\t      2 blaJ\t      1 k$r\n",
      "    235 vA\t     14 bJe\t      4 blog\t      2 bJar\t      1 Jyat\n",
      "    234 nJa\t     14 aJr\t      4 blO\t      2 biz\t      1 jWA\n",
      "    233 koW\t     14 1s\t      4 bers\t      2 biWs\t      1 jur\n",
      "    233 is\t     13 truJr\t      4 bayer\t      2 bey\t      1 jUp\n",
      "    233 bar\t     13 trEJ\t      4 bay\t      2 bev\t      1 juk\n",
      "    232 os\t     13 teJs\t      4 bAs\t      2 bed\t      1 jUg\n",
      "    230 veJs\t     13 t1s\t      4 b$W\t      2 bat\t      1 j!s\n",
      "    228 vos\t     13 rus\t      4 Ag\t      2 bad\t      1 JoW\n",
      "    227 taW\t     13 r1s\t      3 zun\t      2 bab\t      1 jOs\n",
      "    224 guJ\t     13 prA\t      3 zog\t      2 b8\t      1 jors\n",
      "    223 tru\t     13 plE\t      3 zJE\t      2 b6s\t      1 joJ\n",
      "    221 ves\t     13 pJos\t      3 zJar\t      2 b5W\t      1 jOh\n",
      "    221 gar\t     13 naJ\t      3 zey\t      2 b5r\t      1 jog\n",
      "    221 bA\t     13 kys\t      3 zers\t      2 ays\t      1 job\n",
      "    220 mer\t     13 kl7\t      3 zeJs\t      2 ayr\t      1 JO\n",
      "    220 jE\t     13 kl5\t      3 zAs\t      2 ayo\t      1 jnoW\n",
      "    220 hu\t     13 gWi\t      3 z5s\t      2 aya\t      1 jJyad\n",
      "    219 sO\t     13 gras\t      3 z5r\t      2 av\t      1 jJAg\n",
      "    219 nes\t     13 glu\t      3 Wis\t      2 ark\t      1 jIz\n",
      "    218 gA\t     13 gles\t      3 Ward\t      2 ap\t      1 jiy\n",
      "    217 Is\t     13 frus\t      3 WA\t      2 am\t      1 jIs\n",
      "    214 soW\t     13 fr1\t      3 vros\t      2 aJg\t      1 jirls\n",
      "    214 reJ\t     13 fAW\t      3 vreJ\t      2 $s\t      1 Jip\n",
      "    213 zoW\t     13 dr5\t      3 vrAW\t      2 \t      1 jik\n",
      "    211 Tis\t     13 DJar\t      3 vol\t      1 zy\t      1 jij\n",
      "    210 ris\t     13 brJo\t      3 vJes\t      1 zWo\t      1 jeWs\n",
      "    210 rar\t     13 breJ\t      3 v5W\t      1 zWar\t      1 JeW\n",
      "    210 kis\t     13 boy\t      3 up\t      1 zWA\t      1 jess\n",
      "    207 m1\t     13 blI\t      3 Ug\t      1 zul\t      1 jEg\n",
      "    206 paW\t     13 blA\t      3 Tyar\t      1 z!s\t      1 jEd\n",
      "    203 t7\t     13 at\t      3 tWas\t      1 zoWr\t      1 JE\n",
      "    202 raW\t     12 zU\t      3 tSes\t      1 zOs\t      1 jaz\n",
      "    201 zu\t     12 vJas\t      3 trW7\t      1 zok\t      1 jays\n",
      "    200 Lo\t     12 TJA\t      3 trEs\t      1 zod\t      1 jaWss\n",
      "    200 dAW\t     12 teWs\t      3 tr2\t      1 zla\t      1 Jat\n",
      "    199 keJ\t     12 seJs\t      3 tok\t      1 zJOs\t      1 jAt\n",
      "    197 l!\t     12 rJes\t      3 toJs\t      1 zJes\t      1 jat\n",
      "    197 feJ\t     12 rik\t      3 tey\t      1 zJ\t      1 jAs\n",
      "    192 zos\t     12 rah\t      3 tells\t      1 zig\t      1 jak\n",
      "    192 tWa\t     12 pys\t      3 tat\t      1 zeWp\t      1 jaJs\n",
      "    190 tO\t     12 pur\t      3 tAs\t      1 zev\t      1 jah\n",
      "    190 fy\t     12 play\t      3 t8\t      1 zEt\t      1 J7\n",
      "    189 gos\t     12 pl7\t      3 t4\t      1 zEs\t      1 j5r\n",
      "    188 fra\t     12 od\t      3 SWo\t      1 zep\t      1 j2\n"
     ]
    },
    {
     "name": "stdout",
     "output_type": "stream",
     "text": [
      "    188 aJs\t     12 nJE\t      3 sWo\t      1 zay\t      1 j1s\n",
      "    186 fre\t     12 m1r\t      3 sWas\t      1 zAWs\t      1 iyah\n",
      "    184 zer\t     12 lJer\t      3 Sre\t      1 zav\t      1 iWls\n",
      "    184 mO\t     12 lIs\t      3 Sot\t      1 zAt\t      1 Iv\n",
      "    184 kuW\t     12 kWo\t      3 Sor\t      1 zat\t      1 Ist\n",
      "    183 Ne\t     12 koWr\t      3 sob\t      1 zars\t      1 Iss\n",
      "    183 l7\t     12 klJE\t      3 SO\t      1 zaJr\t      1 iss\n",
      "    180 sJas\t     12 klis\t      3 slo\t      1 zah\t      1 irs\n",
      "    180 mes\t     12 klA\t      3 sli\t      1 zaf\t      1 Ip\n",
      "    179 gWa\t     12 kJo\t      3 sle\t      1 zab\t      1 ip\n",
      "    179 er\t     12 jO\t      3 SJor\t      1 z9\t      1 ild\n",
      "    179 dA\t     12 JA\t      3 sip\t      1 z6s\t      1 ih\n",
      "    177 pA\t     12 hey\t      3 sid\t      1 z$\t      1 ig\n",
      "    176 roW\t     12 geW\t      3 Set\t      1 z#\t      1 if\n",
      "    176 DJo\t     12 g1s\t      3 sat\t      1 WyIg\t      1 id\n",
      "    174 zas\t     12 frJa\t      3 sAs\t      1 WO\t      1 hWo\n",
      "    174 gas\t     12 bJA\t      3 san\t      1 WEs\t      1 huJr\n",
      "    173 pra\t     12 b6\t      3 sab\t      1 Way\t      1 huI\n",
      "    172 ru\t     12 ak\t      3 s7W\t      1 WaJs\t      1 h!s\n",
      "    171 tEJ\t     12 1r\t      3 s5s\t      1 Wad\t      1 hreJ\n",
      "    169 sar\t     11 Wos\t      3 s1W\t      1 W5s\t      1 hrE\n",
      "    167 sis\t     11 vO\t      3 S1s\t      1 W5\t      1 hra\n",
      "    166 les\t     11 vJer\t      3 roy\t      1 w\t      1 hoy\n",
      "    166 kro\t     11 tSe\t      3 riS\t      1 vWa\t      1 hoWl\n",
      "    166 doW\t     11 trJo\t      3 rez\t      1 vus\t      1 hOs\n",
      "    165 kra\t     11 tlA\t      3 red\t      1 vur\t      1 hors\n",
      "    164 ses\t     11 TJas\t      3 ray\t      1 vroW\t      1 hoJr\n",
      "    164 Le\t     11 sey\t      3 rAt\t      1 vrov\t      1 hleJ\n",
      "    160 pla\t     11 saJs\t      3 raf\t      1 vrOJs\t      1 hJu\n",
      "    159 TJa\t     11 S7\t      3 rad\t      1 vrJo\t      1 hJosp\n",
      "    159 Jo\t     11 rer\t      3 r5s\t      1 vrJa\t      1 hJors\n",
      "    159 5\t     11 psOJs\t      3 prJos\t      1 vriW\t      1 hJers\n",
      "    158 poW\t     11 piz\t      3 press\t      1 vrir\t      1 hJer\n",
      "    156 t5\t     11 p5r\t      3 pr5s\t      1 vrar\t      1 hJAW\n",
      "    156 kes\t     11 Os\t      3 pr4\t      1 vrA\t      1 hJar\n",
      "    156 kAW\t     11 nWo\t      3 pot\t      1 vr5\t      1 hJad\n",
      "    155 neJ\t     11 lOJs\t      3 plus\t      1 vr1W\t      1 hJA\n",
      "    155 loW\t     11 lJos\t      3 plJar\t      1 vr1\t      1 hIs\n",
      "    154 rI\t     11 l5s\t      3 plI\t      1 vr!\t      1 hip\n",
      "    153 seW\t     11 ksAW\t      3 plays\t      1 voy\t      1 hIg\n",
      "    153 k1\t     11 krus\t      3 pl!\t      1 voss\t      1 hEt\n",
      "    152 vis\t     11 kr5\t      3 pJaz\t      1 vOJs\t      1 hep\n",
      "    152 dra\t     11 kom\t      3 pet\t      1 voJr\t      1 hen\n",
      "    152 dar\t     11 kluJ\t      3 pad\t      1 vlut\t      1 heg\n",
      "    150 eS\t     11 jy\t      3 p2\t      1 vlO\t      1 hayA\n",
      "    149 kur\t     11 juJ\t      3 oWt\t      1 vlo\t      1 haWh\n",
      "    148 ple\t     11 jJar\t      3 ot\t      1 vJor\t      1 haS\n",
      "    148 maW\t     11 Jar\t      3 nyi\t      1 vJeW\t      1 hAp\n",
      "    147 zes\t     11 hWa\t      3 nWos\t      1 vJAs\t      1 haJo\n",
      "    147 O\t     11 h!\t      3 nWas\t      1 viv\t      1 haj\n",
      "    147 mis\t     11 gOJs\t      3 NWa\t      1 vIs\t      1 hah\n",
      "    147 bor\t     11 gaJ\t      3 NU\t      1 vip\t      1 had\n",
      "    145 zJa\t     11 g7s\t      3 n!r\t      1 vin\t      1 h5s\n",
      "    145 Su\t     11 foJ\t      3 noWs\t      1 viJ\t      1 h1s\n",
      "    145 eJ\t     11 dWo\t      3 nOJs\t      1 vez\t      1 !h\n",
      "    144 sas\t     11 dler\t      3 noJs\t      1 veWs\t      1 gzag\n",
      "    144 mor\t     11 ders\t      3 noJr\t      1 vEt\t      1 gyp\n",
      "    143 us\t     11 brir\t      3 nJes\t      1 vay\t      1 gyo\n",
      "    142 nU\t     11 ben\t      3 neWs\t      1 vAWs\t      1 gyes\n",
      "    142 m5\t     10 zJO\t      3 ness\t      1 vav\t      1 gyAg\n",
      "    142 goW\t     10 zJe\t      3 neJW\t      1 vak\t      1 gWos\n",
      "    140 lO\t     10 Wu\t      3 neJs\t      1 vah\t      1 gWir\n",
      "    139 jis\t     10 v6\t      3 naz\t      1 vAg\t      1 gWeW\n",
      "    138 baJ\t     10 v!\t      3 n8\t      1 v9\t      1 gWes\n",
      "    136 zis\t     10 trE\t      3 n1r\t      1 v7W\t      1 gWE\n",
      "    136 vI\t     10 tl5\t      3 mWA\t      1 v7r\t      1 gWe\n",
      "    136 neW\t     10 TJes\t      3 mWa\t      1 v7n\t      1 gW8\n",
      "    135 noW\t     10 tek\t      3 muz\t      1 v4\t      1 gW7W\n",
      "    135 jeJ\t     10 sJO\t      3 mUd\t      1 v3\t      1 guz\n",
      "    135 fer\t     10 sJes\t      3 mJA\t      1 v2\t      1 guJW\n",
      "    134 peJ\t     10 SJe\t      3 mik\t      1 v1s\t      1 gui\n",
      "    133 pI\t     10 roJ\t      3 mIg\t      1 v1r\t      1 gUg\n",
      "    133 d1\t     10 pJer\t      3 mg\t      1 uz\t      1 gues\n",
      "    131 zJo\t     10 nJor\t      3 meWs\t      1 uy\t      1 gruy\n",
      "    131 dro\t     10 lIg\t      3 mek\t      1 uWWW\t      1 grOs\n",
      "    130 deW\t     10 ksu\t      3 maWs\t      1 uWW\t      1 groJs\n",
      "    129 heJ\t     10 kso\t      3 maJls\t      1 ut\t      1 groj\n",
      "    128 sur\t     10 kros\t      3 m7s\t      1 urt\t      1 grJe\n",
      "    127 vaW\t     10 krJan\t      3 m6\t      1 urss\t      1 griz\n",
      "    127 fes\t     10 kiW\t      3 m4\t      1 urd\t      1 griW\n",
      "    127 bro\t     10 kIg\t      3 m#\t      1 un\t      1 grir\n",
      "    126 nor\t     10 k2\t      3 lW7\t      1 uls\t      1 grIg\n",
      "    125 r7\t     10 im\t      3 lot\t      1 ulk\t      1 gret\n",
      "    125 hA\t     10 gWas\t      3 lJers\t      1 uld\t      1 grAWs\n",
      "    123 !\t     10 gW7\t      3 lek\t      1 Uk\t      1 graJs\n",
      "    122 pas\t     10 grar\t      3 lav\t      1 uJW\t      1 graJ\n",
      "    122 meJ\t     10 glas\t      3 lak\t      1 uJt\t      1 grad\n",
      "    122 l1\t     10 ger\t      3 laJs\t      1 Uh\t      1 gr4\n",
      "    122 kU\t     10 fuW\t      3 kWE\t      1 Uf\t      1 goyEJ\n",
      "    122 k7\t     10 fJe\t      3 kWAW\t      1 uf\t      1 gov\n",
      "    122 has\t     10 Es\t      3 kWas\t      1 Ub\t      1 got\n",
      "    121 naJs\t     10 dWar\t      3 kWan\t      1 tys\t      1 gOs\n",
      "    121 bas\t     10 dur\t      3 kSe\t      1 Tyas\t      1 gors\n",
      "    120 tur\t     10 dru\t      3 ksar\t      1 tWi\t      1 goh\n",
      "    120 fJa\t     10 drJa\t      3 ks7\t      1 tw\t      1 gOg\n",
      "    120 EJ\t     10 d6\t      3 krO\t      1 tuz\t      1 gno\n",
      "    118 lAW\t     10 d$\t      3 kren\t      1 tUs\t      1 gma\n",
      "    118 bJo\t     10 blJo\t      3 krAW\t      1 tup\t      1 glUd\n",
      "    117 jJo\t     10 ars\t      3 kr!\t      1 tun\t      1 glU\n",
      "    116 U\t      9 zaWs\t      3 kOp\t      1 tuJs\t      1 gl!s\n",
      "    115 teW\t      9 vla\t      3 kop\t      1 tuf\t      1 glos\n",
      "    115 n5\t      9 vers\t      3 kob\t      1 tud\t      1 glJe\n",
      "    115 klu\t      9 vaJs\t      3 kly\t      1 tSup\t      1 glis\n",
      "    114 vJo\t      9 v5r\t      3 klos\t      1 tSoW\t      1 gleb\n",
      "    114 mJa\t      9 Tyz\t      3 kley\t      1 tSo\t      1 glAW\n",
      "    114 dEJ\t      9 tuJr\t      3 kler\t      1 tSIg\t      1 gl5s\n",
      "    113 s1\t      9 tSer\t      3 klay\t      1 tSek\t      1 gJo\n",
      "    113 pes\t      9 trWa\t      3 klaJ\t      1 tSed\t      1 gji\n",
      "    113 moW\t      9 trus\t      3 kJev\t      1 tSaJ\t      1 geJs\n",
      "    113 kaJ\t      9 TJer\t      3 kJer\t      1 t!s\t      1 gEd\n",
      "    113 fir\t      9 TJAs\t      3 kEs\t      1 trWar\t      1 gat\n",
      "    113 bys\t      9 SEJ\t      3 kaz\t      1 truz\t      1 garh\n",
      "    112 fla\t      9 rJar\t      3 kAt\t      1 troz\t      1 gap\n",
      "    111 jer\t      9 r6\t      3 kAs\t      1 troy\t      1 gaJr\n",
      "    111 hE\t      9 r$r\t      3 kap\t      1 trov\t      1 gah\n",
      "    110 nJo\t      9 pleJ\t      3 k7r\t      1 trOs\t      1 g9\n",
      "    109 var\t      9 pl1\t      3 k1Ws\t      1 trols\t      1 g7W\n",
      "    108 nAW\t      9 pJas\t      3 k%\t      1 troJd\t      1 g6J\n",
      "    107 iW\t      9 paJs\t      3 k#\t      1 troh\t      1 g4s\n",
      "    106 veJ\t      9 nWA\t      3 joWr\t      1 trOg\t      1 g1W\n",
      "    106 $\t      9 nik\t      3 jOJs\t      1 trJos\t      1 g1r\n",
      "    105 SA\t      9 Ni\t      3 jJer\t      1 trJes\t      1 g#\n",
      "    105 plo\t      9 net\t      3 jiz\t      1 trJer\t      1 fyIg\n",
      "    105 n7\t      9 NE\t      3 jit\t      1 trJE\t      1 fyf\n",
      "    105 gri\t      9 maz\t      3 JI\t      1 trJe\t      1 fuss\n",
      "    105 gAW\t      9 Lis\t      3 jey\t      1 trJA\t      1 fuS\n",
      "    105 DI\t      9 lip\t      3 Jes\t      1 triS\t      1 fUd\n",
      "    105 bli\t      9 LEJ\t      3 jeJs\t      1 trir\t      1 f!s\n",
      "    104 ner\t      9 LE\t      3 jed\t      1 trip\t      1 fryer\n",
      "    104 muW\t      9 l1s\t      3 jay\t      1 trim\t      1 fry\n",
      "    104 gro\t      9 ksOJs\t      3 j6\t      1 trik\t      1 frut\n",
      "    103 gWar\t      9 kJas\t      3 J1s\t      1 trid\t      1 fruJr\n",
      "    102 uW\t      9 kers\t      3 iv\t      1 trey\t      1 frOt\n",
      "    102 jus\t      9 j!\t      3 it\t      1 tred\t      1 fros\n",
      "    102 dri\t      9 hiW\t      3 Ik\t      1 traz\t      1 frOJs\n"
     ]
    },
    {
     "name": "stdout",
     "output_type": "stream",
     "text": [
      "    102 baW\t      9 h$\t      3 ik\t      1 traS\t      1 frJed\n",
      "    100 beW\t      9 gys\t      3 huy\t      1 trab\t      1 fris\n",
      "     99 frA\t      9 gur\t      3 huJs\t      1 toz\t      1 frid\n",
      "     99 boW\t      9 grI\t      3 hOJs\t      1 toy\t      1 frar\n",
      "     96 lJo\t      9 glJo\t      3 hiz\t      1 toWt\t      1 fraJ\n",
      "     96 kE\t      9 fun\t      3 hiS\t      1 toS\t      1 fr5\n",
      "     96 d7\t      9 fJan\t      3 heJs\t      1 ton\t      1 fr1s\n",
      "     95 kI\t      9 fIs\t      3 han\t      1 toJr\t      1 foy\n",
      "     95 faW\t      9 et\t      3 haJs\t      1 tog\t      1 foWs\n",
      "     95 fA\t      9 dWos\t      3 haf\t      1 tof\t      1 fOk\n",
      "     94 ler\t      9 dros\t      3 h7s\t      1 tmJe\t      1 flyIg\n",
      "     94 jU\t      9 dras\t      3 h6\t      1 tmaW\t      1 flyI\n",
      "     93 mAW\t      9 DJE\t      3 gWaJs\t      1 tlus\t      1 flWos\n",
      "     92 TiW\t      9 dAs\t      3 guy\t      1 tlO\t      1 flWa\n",
      "     92 p5\t      9 dad\t      3 grU\t      1 tlJer\t      1 flW7\n",
      "     91 zeJ\t      9 buJr\t      3 grO\t      1 tlJe\t      1 floJ\n",
      "     91 sJE\t      9 braW\t      3 greW\t      1 tlis\t      1 flog\n",
      "     91 pres\t      9 br1s\t      3 grEJ\t      1 tli\t      1 flO\n",
      "     91 m7\t      9 boWr\t      3 gray\t      1 tlet\t      1 flJa\n",
      "     91 fri\t      9 bles\t      3 grAd\t      1 tl2\t      1 fleW\n",
      "     91 brA\t      9 bEs\t      3 gni\t      1 tl!\t      1 fleJ\n",
      "     90 puW\t      8 zoJ\t      3 glA\t      1 tjet\t      1 flat\n",
      "     90 plA\t      8 WI\t      3 gl!\t      1 TJers\t      1 flas\n",
      "     90 geJ\t      8 Wes\t      3 gaz\t      1 TJefs\t      1 flan\n",
      "     90 bO\t      8 Wer\t      3 gAWs\t      1 TJef\t      1 fl5\n",
      "     89 hO\t      8 v5s\t      3 fys\t      1 TJad\t      1 fl$\n",
      "     89 beJ\t      8 Ud\t      3 fuJ\t      1 tjA\t      1 fiz\n",
      "     88 nE\t      8 trWo\t      3 fruJ\t      1 TiWs\t      1 fin\n",
      "     88 l5\t      8 trU\t      3 frey\t      1 Tiv\t      1 fils\n",
      "     88 jes\t      8 trJas\t      3 frEJ\t      1 Tit\t      1 feWr\n",
      "     88 hoW\t      8 tr!J\t      3 fleJs\t      1 tIs\t      1 feWJW\n",
      "     88 gU\t      8 traJr\t      3 fl!\t      1 tir\t      1 fers\n",
      "     87 ker\t      8 tOs\t      3 fJed\t      1 TiJs\t      1 feJs\n",
      "     87 bE\t      8 tors\t      3 fik\t      1 TiJ\t      1 feJk\n",
      "     85 s7\t      8 top\t      3 fIg\t      1 Tig\t      1 fed\n",
      "     85 pJa\t      8 Tin\t      3 f9\t      1 Tif\t      1 faWt\n",
      "     84 zI\t      8 Tik\t      3 Et\t      1 tI\t      1 fAWs\n",
      "     84 z1\t      8 tEs\t      3 esp\t      1 teWz\t      1 fan\n",
      "     84 Li\t      8 t9\t      3 em\t      1 tess\t      1 falls\n",
      "     84 kru\t      8 t5r\t      3 eJW\t      1 tEp\t      1 fak\n",
      "     84 kli\t      8 t2\t      3 eb\t      1 tels\t      1 faJW\n",
      "     83 suW\t      8 sp\t      3 dWas\t      1 tEg\t      1 faJrs\n",
      "     83 Sar\t      8 SOJs\t      3 dW\t      1 tays\t      1 fag\n",
      "     83 fE\t      8 siWs\t      3 duJ\t      1 taWt\t      1 fab\n",
      "     82 sor\t      8 SiW\t      3 drOJs\t      1 taWr\t      1 f7s\n",
      "     82 siW\t      8 r!J\t      3 droJ\t      1 tars\t      1 f6s\n",
      "     81 taJs\t      8 raz\t      3 drJe\t      1 tak\t      1 f5s\n",
      "     81 sir\t      8 r8\t      3 dris\t      1 taJW\t      1 f4\n",
      "     81 kle\t      8 proW\t      3 drey\t      1 tag\t      1 f1s\n",
      "     81 far\t      8 pras\t      3 dr1s\t      1 tab\t      1 f$r\n",
      "     80 grA\t      8 poJs\t      3 don\t      1 Ta\t      1 ev\n",
      "     80 fle\t      8 ples\t      3 dok\t      1 t9J\t      1 eSs\n",
      "     78 TJo\t      8 pl1s\t      3 DJ\t      1 T9\t      1 ess\n",
      "     78 p1\t      8 pJA\t      3 Dit\t      1 t5s\t      1 esk\n",
      "     78 bru\t      8 ny\t      3 Did\t      1 t#\t      1 esg\n",
      "     77 gr1\t      8 ners\t      3 dep\t      1 sWor\t      1 erd\n",
      "     77 fiW\t      8 nak\t      3 ded\t      1 sWe\t      1 Ep\n",
      "     76 NeJ\t      8 n2\t      3 d9\t      1 sWar\t      1 elp\n",
      "     75 jEs\t      8 n1W\t      3 d5W\t      1 SWa\t      1 elf\n",
      "     74 prE\t      8 m!r\t      3 d5r\t      1 sW\t      1 eJss\n",
      "     74 jA\t      8 moWr\t      3 d0\t      1 sup\t      1 EJs\n",
      "     73 ble\t      8 mOJs\t      3 bym\t      1 Suk\t      1 eJrd\n",
      "     72 nI\t      8 mJe\t      3 bWe\t      1 suJr\t      1 eJd\n",
      "     72 mI\t      8 mers\t      3 brU\t      1 SuJ\t      1 Eg\n",
      "     72 krJa\t      8 may\t      3 brJos\t      1 suj\t      1 eg\n",
      "     72 heW\t      8 m5r\t      3 brAs\t      1 sUd\t      1 dyy\n",
      "     71 sos\t      8 lWa\t      3 boys\t      1 Sub\t      1 DyW\n",
      "     71 paJ\t      8 lur\t      3 bot\t      1 S!s\t      1 Dyr\n",
      "     71 bJa\t      8 Lor\t      3 bloJ\t      1 srI\t      1 Dyf\n",
      "     70 miW\t      8 lJAs\t      3 blaW\t      1 srek\t      1 duy\n",
      "     69 Tir\t      8 liz\t      3 blar\t      1 Sra\t      1 dUs\n",
      "     69 kus\t      8 len\t      3 bl5\t      1 sra\t      1 dSEJ\n",
      "     69 d5\t      8 kreW\t      3 bJer\t      1 soz\t      1 drus\n",
      "     68 tros\t      8 kOJs\t      3 bje\t      1 soy\t      1 drug\n",
      "     68 jiW\t      8 klas\t      3 bJas\t      1 soWf\t      1 droW\n",
      "     68 gaW\t      8 klar\t      3 big\t      1 SOs\t      1 drJo\n",
      "     67 v1\t      8 kIs\t      3 bet\t      1 sOg\t      1 drJes\n",
      "     66 NAW\t      8 key\t      3 beJs\t      1 Sno\t      1 drJE\n",
      "     66 g1\t      8 k1s\t      3 ban\t      1 Smu\t      1 drJas\n",
      "     66 fas\t      8 jWa\t      3 baJr\t      1 SmEJ\t      1 driy\n",
      "     65 tuJ\t      8 jaW\t      3 bah\t      1 SmE\t      1 driss\n",
      "     65 SeJ\t      8 jaJ\t      3 bAg\t      1 Sme\t      1 drip\n",
      "     65 mU\t      8 gWA\t      3 bag\t      1 Smar\t      1 drik\n",
      "     65 lan\t      8 guW\t      3 bAd\t      1 SmA\t      1 drIg\n",
      "     65 kris\t      8 gUs\t      3 b1s\t      1 Sma\t      1 drid\n",
      "     64 fI\t      8 grE\t      3 af\t      1 Slu\t      1 drens\n",
      "     64 DiW\t      8 graW\t      3 Ad\t      1 slu\t      1 drej\n",
      "     63 z7\t      8 gon\t      3 7W\t      1 Slo\t      1 drE\n",
      "     63 sJar\t      8 goJ\t      3 3\t      1 sleJ\t      1 draJs\n",
      "     63 hos\t      8 fus\t      2 zuJs\t      1 slAW\t      1 draJls\n",
      "     63 bis\t      8 froW\t      2 zuJ\t      1 slAs\t      1 drag\n",
      "     62 zEJ\t      8 frJe\t      2 zov\t      1 Sla\t      1 dr!\n",
      "     62 viW\t      8 fres\t      2 zeWs\t      1 Sl7\t      1 doyEJ\n",
      "     62 v7\t      8 fran\t      2 zet\t      1 sJOs\t      1 doWs\n",
      "     62 flo\t      8 fluJ\t      2 zem\t      1 SJO\t      1 doWr\n",
      "     62 f7\t      8 flor\t      2 zek\t      1 SJev\t      1 doWg\n",
      "     62 dO\t      8 fl1\t      2 zed\t      1 sJers\t      1 dot\n",
      "     61 p!\t      8 fJA\t      2 z6\t      1 sJerj\t      1 dOg\n",
      "     61 LeJ\t      8 faWs\t      2 z$s\t      1 SJer\t      1 dmO\n",
      "     61 bur\t      8 f$\t      2 v!W\t      1 sJen\t      1 dless\n",
      "     60 z!\t      8 d$s\t      2 vuJ\t      1 sJat\t      1 dles\n",
      "     60 Wa\t      8 bWa\t      2 vres\t      1 SJar\t      1 dlA\n",
      "     60 Los\t      8 bl1\t      2 voWs\t      1 sJalb\t      1 dla\n",
      "     60 Las\t      8 ard\t      2 vok\t      1 siWr\t      1 DJyar\n",
      "     60 kJa\t      8 ah\t      2 vlI\t      1 SIt\t      1 DJor\n",
      "     60 k!\t      7 vys\t      2 vIg\t      1 sit\t      1 DJap\n",
      "     60 glo\t      7 vJos\t      2 vey\t      1 sist\t      1 DJan\n",
      "     60 Dir\t      7 vJar\t      2 vet\t      1 SIs\t      1 Diy\n",
      "     59 vEJ\t      7 v8\t      2 vek\t      1 siS\t      1 Dih\n",
      "     59 pJo\t      7 uJ\t      2 vad\t      1 Sip\t      1 deye\n",
      "     59 jAW\t      7 troJ\t      2 v1z\t      1 sin\t      1 dey\n",
      "     59 gru\t      7 trJar\t      2 v1W\t      1 Sik\t      1 det\n",
      "     58 vuW\t      7 traJs\t      2 Ut\t      1 sik\t      1 dess\n",
      "     58 rJE\t      7 tr5\t      2 usp\t      1 siJr\t      1 dels\n",
      "     58 r5\t      7 tah\t      2 uh\t      1 SIg\t      1 dEJs\n",
      "     58 n!\t      7 sus\t      2 TyS\t      1 sif\t      1 deJr\n",
      "     58 lU\t      7 sIs\t      2 tWos\t      1 sie\t      1 deJk\n",
      "     57 vir\t      7 sIg\t      2 tuW\t      1 Seya\t      1 DeJ\n",
      "     57 TJO\t      7 set\t      2 tUg\t      1 SeWs\t      1 dehs\n",
      "     57 rJe\t      7 say\t      2 tseW\t      1 seWf\t      1 dav\n",
      "     57 dre\t      7 s5r\t      2 tSEJ\t      1 Sev\t      1 daS\n",
      "     57 bes\t      7 ry\t      2 tSaW\t      1 sev\t      1 dap\n",
      "     56 ur\t      7 rj\t      2 tSa\t      1 SEt\t      1 dak\n",
      "     56 treJ\t      7 reJs\t      2 tS5\t      1 SEs\t      1 daJr\n",
      "     56 raJs\t      7 r$\t      2 tS\t      1 sers\t      1 dag\n",
      "     56 pis\t      7 pon\t      2 trolls\t      1 sem\t      1 d5s\n",
      "     56 Lar\t      7 plos\t      2 troJt\t      1 sells\t      1 d2\n",
      "     56 LA\t      7 pir\t      2 trOJs\t      1 seh\t      1 d1s\n",
      "     56 k5\t      7 nWar\t      2 treW\t      1 sef\t      1 d$W\n",
      "     56 f1\t      7 nJer\t      2 trEd\t      1 seb\t      1 d%\n",
      "     55 tras\t      7 NaW\t      2 trak\t      1 sax\t      1 d#\n",
      "     55 sJe\t      7 n7s\t      2 traf\t      1 SAWs\t      1 bye\n",
      "     55 mEJ\t      7 n1s\t      2 trad\t      1 saWs\t      1 byars\n",
      "     55 jar\t      7 mOd\t      2 toyo\t      1 saWrs\t      1 bWas\n"
     ]
    },
    {
     "name": "stdout",
     "output_type": "stream",
     "text": [
      "     55 blo\t      7 mJos\t      2 toWs\t      1 SaWJ\t      1 buz\n",
      "     54 s!\t      7 mAWs\t      2 tov\t      1 SaWd\t      1 buyW\n",
      "     54 g5\t      7 mad\t      2 tlo\t      1 Sars\t      1 but\n",
      "     53 LAW\t      7 m5s\t      2 tles\t      1 sars\t      1 bUs\n",
      "     53 kuJ\t      7 lyo\t      2 tled\t      1 SAp\t      1 burs\n",
      "     52 zO\t      7 luJr\t      2 tlas\t      1 sals\t      1 bun\n",
      "     52 kWA\t      7 Lu\t      2 tlAd\t      1 saJW\t      1 bulls\n",
      "     52 jI\t      7 lir\t      2 tjer\t      1 SaJss\t      1 buJW\n",
      "     52 fru\t      7 LeW\t      2 TJar\t      1 SaJs\t      1 buJn\n",
      "     52 frO\t      7 kWaW\t      2 Tip\t      1 SaJrs\t      1 bso\n",
      "     52 DJA\t      7 kUs\t      2 teWr\t      1 sah\t      1 bSe\n",
      "     51 zOJs\t      7 ksJa\t      2 teS\t      1 sAg\t      1 bse\n",
      "     51 sJA\t      7 kov\t      2 tem\t      1 sag\t      1 bryIg\n",
      "     51 Ser\t      7 kok\t      2 tEf\t      1 saf\t      1 bryAt\n",
      "     51 Sas\t      7 klI\t      2 tEd\t      1 s9\t      1 bruy\n",
      "     51 brI\t      7 kay\t      2 taz\t      1 s7s\t      1 bruJ\n",
      "     50 NA\t      7 kaWs\t      2 tam\t      1 s7r\t      1 brOs\n",
      "     50 klo\t      7 kat\t      2 taj\t      1 s6W\t      1 brOJs\n",
      "     50 frE\t      7 k$s\t      2 tad\t      1 s4W\t      1 brJoz\n",
      "     49 SI\t      7 jun\t      2 sWA\t      1 s2W\t      1 brJas\n",
      "     49 peW\t      7 jEJs\t      2 sW7\t      1 s1s\t      1 brJar\n",
      "     49 niW\t      7 J$\t      2 sUs\t      1 s$W\t      1 brJA\n",
      "     49 lus\t      7 It\t      2 sun\t      1 S$\t      1 briS\n",
      "     49 koJ\t      7 hU\t      2 sUg\t      1 rys\t      1 brin\n",
      "     49 jor\t      7 haW\t      2 Srys\t      1 ryIg\t      1 brik\n",
      "     49 gor\t      7 gres\t      2 Sri\t      1 ryA\t      1 brig\n",
      "     49 g!\t      7 gi\t      2 SreJ\t      1 rWas\t      1 brEt\n",
      "     49 f5\t      7 gaJs\t      2 soWs\t      1 rW7\t      1 brAt\n",
      "     48 pAW\t      7 freW\t      2 sot\t      1 rW\t      1 brap\n",
      "     48 daW\t      7 f!r\t      2 Sop\t      1 rut\t      1 brah\n",
      "     48 bos\t      7 fJos\t      2 Solls\t      1 rUs\t      1 brad\n",
      "     47 zuW\t      7 fJar\t      2 Sm5\t      1 ruj\t      1 br5\n",
      "     47 traW\t      7 fEJ\t      2 slot\t      1 rub\t      1 b!r\n",
      "     47 Ses\t      7 ey\t      2 sJosp\t      1 rs\t      1 boz\n",
      "     47 SAW\t      7 dreJ\t      2 sJor\t      1 ror\t      1 boyJsh\n",
      "     47 r!\t      7 dr1\t      2 SJes\t      1 rols\t      1 boyer\n",
      "     47 maJ\t      7 den\t      2 SiJ\t      1 roJd\t      1 boWt\n",
      "     47 bU\t      7 breW\t      2 siJ\t      1 rof\t      1 boWs\n",
      "     47 aJ\t      7 bran\t      2 sig\t      1 rJu\t      1 boWJW\n",
      "     47 8\t      7 braJ\t      2 Sid\t      1 rJen\t      1 boss\n",
      "     46 riW\t      7 br1\t      2 sess\t      1 rJ1\t      1 bol\n",
      "     46 p7\t      7 b$r\t      2 sEs\t      1 rit\t      1 bok\n",
      "     46 mOs\t      7 b$\t      2 Sers\t      1 rin\t      1 boJs\n",
      "     45 trar\t      6 zJer\t      2 Sek\t      1 rIk\t      1 bob\n",
      "     45 pr!\t      6 zik\t      2 seJg\t      1 riJ\t      1 bmo\n",
      "     45 nWa\t      6 Was\t      2 seg\t      1 rig\t      1 bme\n",
      "     44 trJa\t      6 W\t      2 Sed\t      1 rif\t      1 bma\n",
      "     44 laW\t      6 v!s\t      2 sed\t      1 rib\t      1 bly\n",
      "     44 bus\t      6 vro\t      2 sAWs\t      1 ret\t      1 blus\n",
      "     43 vJe\t      6 vik\t      2 Sat\t      1 rEs\t      1 blur\n",
      "     43 trI\t      6 ult\t      2 sAt\t      1 rays\t      1 blOs\n",
      "     43 Sy\t      6 tran\t      2 saSs\t      1 rAs\t      1 blos\n",
      "     43 mir\t      6 tr8\t      2 saS\t      1 rAd\t      1 blok\n",
      "     43 lJe\t      6 tler\t      2 SaJr\t      1 r7W\t      1 bliz\n",
      "     43 jeW\t      6 TJOs\t      2 saJd\t      1 r6s\t      1 bliW\n",
      "     43 b1\t      6 ti\t      2 SAd\t      1 r4\t      1 blis\n",
      "     42 noJ\t      6 tan\t      2 Sad\t      1 r0\t      1 blId\n",
      "     42 nEJ\t      6 syW\t      2 s2\t      1 r%\t      1 bley\n",
      "     42 Nar\t      6 SU\t      2 s1b\t      1 pyt\t      1 blEs\n",
      "     42 lEJ\t      6 s!r\t      2 S!\t      1 pyOg\t      1 bler\n",
      "     42 flu\t      6 sOs\t      2 r!s\t      1 pyO\t      1 blEJ\n",
      "     41 zeW\t      6 Smo\t      2 roz\t      1 pUs\t      1 bleh\n",
      "     41 tWo\t      6 Smi\t      2 rot\t      1 puls\t      1 blAW\n",
      "     41 sJos\t      6 SJo\t      2 roJs\t      1 puh\t      1 blAt\n",
      "     41 s5\t      6 sap\t      2 rJer\t      1 pug\t      1 blat\n",
      "     41 meW\t      6 saJr\t      2 rJah\t      1 pud\t      1 bl7\n",
      "     41 fis\t      6 r2\t      2 riy\t      1 psO\t      1 bl0\n",
      "     41 bras\t      6 pr!s\t      2 rek\t      1 psi\t      1 bJI\n",
      "     41 bEJ\t      6 pay\t      2 raWs\t      1 pr!Wr\t      1 bJes\n",
      "     40 nJe\t      6 oWs\t      2 rat\t      1 prUs\t      1 bJen\n",
      "     40 m!\t      6 ors\t      2 r9\t      1 pr!r\t      1 bJals\n",
      "     40 Jas\t      6 op\t      2 r#\t      1 proWs\t      1 b!J\n",
      "     40 gE\t      6 on\t      2 pWa\t      1 prJor\t      1 bit\n",
      "     40 dan\t      6 Og\t      2 p!W\t      1 prJA\t      1 bik\n",
      "     39 zor\t      6 Nu\t      2 puz\t      1 prIs\t      1 biJs\n",
      "     39 kWar\t      6 nan\t      2 pub\t      1 prio\t      1 bIg\n",
      "     39 ir\t      6 n5s\t      2 pte\t      1 prev\t      1 bib\n",
      "     39 foW\t      6 n$W\t      2 prJar\t      1 preS\t      1 bells\n",
      "     39 7s\t      6 my\t      2 prIz\t      1 prer\t      1 bek\n",
      "     38 troW\t      6 met\t      2 prIt\t      1 pray\t      1 beJt\n",
      "     38 sWa\t      6 med\t      2 pris\t      1 prat\t      1 beJg\n",
      "     38 prJa\t      6 m9\t      2 prin\t      1 pr$\t      1 bEd\n",
      "     38 ley\t      6 m1s\t      2 prAW\t      1 poWk\t      1 bayo\n",
      "     38 kan\t      6 luJs\t      2 praJ\t      1 poWJW\t      1 baye\n",
      "     38 h5\t      6 let\t      2 pr9\t      1 pov\t      1 baWd\n",
      "     38 DJos\t      6 lers\t      2 pr5Js\t      1 pOs\t      1 basTi\n",
      "     38 buJ\t      6 Lan\t      2 poWr\t      1 pors\t      1 baSs\n",
      "     38 b7\t      6 lah\t      2 pOJs\t      1 poJr\t      1 baS\n",
      "     37 zaW\t      6 l2\t      2 pOg\t      1 pof\t      1 bars\n",
      "     37 trO\t      6 l$r\t      2 plJe\t      1 pod\t      1 balls\n",
      "     37 taJ\t      6 kup\t      2 plJA\t      1 ploW\t      1 b5s\n",
      "     37 Sos\t      6 kul\t      2 pley\t      1 plok\t      1 b2\n",
      "     37 prO\t      6 kras\t      2 player\t      1 plIg\t      1 b1W\n",
      "     37 ney\t      6 kles\t      2 pl5\t      1 pleW\t      1 az\n",
      "     37 kon\t      6 kleJ\t      2 pl3\t      1 pler\t      1 ayWr\n",
      "     37 kEJ\t      6 kl!\t      2 pJor\t      1 plEJ\t      1 ayW\n",
      "     37 hAW\t      6 k1W\t      2 pit\t      1 plaz\t      1 ayev\n",
      "     37 haJ\t      6 j5\t      2 pik\t      1 plAW\t      1 ayes\n",
      "     37 fli\t      6 hus\t      2 pep\t      1 plAt\t      1 aye\n",
      "     37 aWs\t      6 hor\t      2 pek\t      1 pJEs\t      1 ayA\n",
      "     36 SoW\t      6 gWo\t      2 peJs\t      1 pje\t      1 aWJ\n",
      "     36 S1\t      6 greJ\t      2 ped\t      1 pJaf\t      1 att\n",
      "     36 pros\t      6 glaW\t      2 pak\t      1 pja\t      1 At\n",
      "     36 mJo\t      6 gay\t      2 p8\t      1 piWs\t      1 ast\n",
      "     36 gus\t      6 fras\t      2 p6\t      1 pid\t      1 ass\n",
      "     36 dus\t      6 fr7\t      2 p5W\t      1 pez\t      1 asp\n",
      "     36 DJe\t      6 flWo\t      2 p4\t      1 pEs\t      1 ash\n",
      "     35 traJ\t      6 fler\t      2 p1W\t      1 peS\t      1 aS\n",
      "     35 tr1\t      6 flaW\t      2 p$W\t      1 pels\t      1 arS\n",
      "     35 ters\t      6 flA\t      2 ox\t      1 peg\t      1 arf\n",
      "     35 juW\t      6 fJeld\t      2 ork\t      1 pEd\t      1 Ar\n",
      "     35 ges\t      6 faz\t      2 ord\t      1 paz\t      1 alt\n",
      "     35 g7\t      6 ep\t      2 olf\t      1 paWs\t      1 alp\n",
      "     34 ten\t      6 ek\t      2 old\t      1 pass\t      1 alls\n",
      "     34 Sis\t      6 Dys\t      2 Ok\t      1 pap\t      1 alf\n",
      "     34 saJ\t      6 drU\t      2 oJW\t      1 pal\t      1 ald\n",
      "     34 plu\t      6 drI\t      2 oh\t      1 paes\t      1 al\n",
      "     34 OJs\t      6 draW\t      2 of\t      1 pAd\t      1 Ak\n",
      "     34 l$\t      6 drA\t      2 nyAg\t      1 p9s\t      1 Ah\n",
      "     34 Jos\t      6 dle\t      2 nyA\t      1 p9\t      1 ag\n",
      "     34 dWa\t      6 dek\t      2 nW7\t      1 p4W\t      1 a&a\n",
      "     33 zWa\t      6 bW7\t      2 nuz\t      1 p1g\t      1 7r\n",
      "     33 ziW\t      6 brJe\t      2 NUs\t      1 p#\t      1 7h\n",
      "     33 tris\t      6 brEJ\t      2 nuJr\t      1 oya\t      1 5h\n",
      "     33 trAW\t      6 blas\t      2 nov\t      1 oy\t      1 4W\n",
      "     33 tle\t      6 bJO\t      2 nJi\t      1 oWd\t      1 1Js\n",
      "     33 prI\t      6 ab\t      2 nJess\t      1 oS\t      1 $r\n",
      "     33 flE\t      6 5W\t      2 NJas\t      1 olt\t      1 $l\n",
      "     33 feW\t      6 5s\t      2 nJA\t      1 ol\n"
     ]
    }
   ],
   "source": [
    "tail -n +2 /tmp/CorpusABGv2spell.csv | awk -F',' '{n=split($5,syl,\"-\"); for (i = 0; ++i <= n;) print syl[i]}' | sort | uniq -c | sort -rn | column"
   ]
  },
  {
   "cell_type": "code",
   "execution_count": 4,
   "metadata": {
    "kernel": "Bash"
   },
   "outputs": [
    {
     "ename": "",
     "evalue": "1",
     "output_type": "error",
     "traceback": []
    }
   ],
   "source": [
    "tail -n +2 /tmp/CorpusABGv2spell.csv | awk -F',' '{n=split($5,syl,\"-\"); for (i = 0; ++i <= n;) print syl[i]}' | sort | uniq -c | sort -rn | tee >/tmp/syllables_freq_abg >(nl | gnuplot -e \"set terminal png; set output '/tmp/syllables_freq_abg_loglog.png'; set xlabel 'syllables'; set ylabel 'frequency'; set logscale xy; plot '/dev/stdin' with lines title 'abgcorpus'\") >(column)"
   ]
  },
  {
   "cell_type": "code",
   "execution_count": 8,
   "metadata": {
    "kernel": "Bash"
   },
   "outputs": [],
   "source": [
    "cp /tmp/syllables_freq_abg_loglog.png images/\n",
    "cp /tmp/syllables_freq_abg ."
   ]
  },
  {
   "cell_type": "markdown",
   "metadata": {
    "kernel": "Bash"
   },
   "source": [
    "![](images/syllables_freq_abg_loglog.png)"
   ]
  },
  {
   "cell_type": "markdown",
   "metadata": {
    "kernel": "Bash"
   },
   "source": [
    "Lets consider now only syllabes in the beggining of a word. The frequency and plot are presented bellow."
   ]
  },
  {
   "cell_type": "code",
   "execution_count": 6,
   "metadata": {
    "kernel": "Bash"
   },
   "outputs": [
    {
     "name": "stdout",
     "output_type": "stream",
     "text": [
      "   7466 a\t     20 p$\t      4 k!r\t      2 Diz\t      1 lig\n",
      "   3400 he\t     20 naW\t      4 kok\t      2 DiWr\t      1 let\n",
      "   2856 de\t     20 in\t      4 klaWs\t      2 di\t      1 Les\n",
      "   2838 e\t     20 haJ\t      4 keW\t      2 dep\t      1 lEs\n",
      "   2757 I\t     20 gO\t      4 kay\t      2 dAW\t      1 Ler\n",
      "   2654 kO\t     20 fur\t      4 kAW\t      2 dAs\t      1 leJr\n",
      "   2284 es\t     20 bis\t      4 kars\t      2 d7s\t      1 leJb\n",
      "   2002 E\t     19 zu\t      4 jEJ\t      2 d5r\t      1 lEJ\n",
      "   1821 ka\t     19 zA\t      4 h$s\t      2 d1r\t      1 led\n",
      "   1777 i\t     19 vJe\t      4 gU\t      2 byr\t      1 Le\n",
      "   1760 ko\t     19 toW\t      4 ger\t      2 bWar\t      1 lay\n",
      "   1582 o\t     19 teJ\t      4 g5r\t      2 bWa\t      1 laWr\n",
      "   1390 ma\t     19 ses\t      4 g1s\t      2 b!s\t      1 lAW\n",
      "   1156 pa\t     19 meW\t      4 flWo\t      2 bros\t      1 laJt\n",
      "   1142 se\t     18 var\t      4 flor\t      2 braW\t      1 laJs\n",
      "   1079 pro\t     18 sWa\t      4 et\t      2 brAs\t      1 lAg\n",
      "   1037 Di\t     18 s7\t      4 duW\t      2 braJt\t      1 lab\n",
      "    961 aW\t     18 pJe\t      4 drI\t      2 braJ\t      1 La\n",
      "    901 su\t     18 nar\t      4 day\t      2 br1s\t      1 l7n\n",
      "    888 des\t     18 n$\t      4 daJ\t      2 bOd\t      1 l1s\n",
      "    873 pre\t     18 mur\t      4 brus\t      2 blO\t      1 kyW\n",
      "    817 mo\t     18 kr7\t      4 brE\t      2 blEd\t      1 kWas\n",
      "    805 pe\t     18 hos\t      4 bJO\t      2 blaW\t      1 kWaJ\n",
      "    759 A\t     18 boJ\t      4 ben\t      2 blaJr\t      1 kWAd\n",
      "    742 me\t     17 v1\t      4 bayer\t      2 blaJ\t      1 kuz\n",
      "    722 ba\t     17 tru\t      4 b5\t      2 bJer\t      1 kuyp\n",
      "    718 so\t     17 t5\t      4 AW\t      2 bJa\t      1 kut\n",
      "    688 si\t     17 t!\t      4 1s\t      2 biz\t      1 kup\n",
      "    657 u\t     17 Sris\t      4 %\t      2 bEs\t      1 kum\n",
      "    653 fa\t     17 n7\t      3 zWa\t      2 bers\t      1 krUb\n",
      "    649 sa\t     17 l5\t      3 zE\t      2 bAW\t      1 krok\n",
      "    621 po\t     17 k!\t      3 zar\t      2 bah\t      1 kroJ\n",
      "    609 vi\t     17 jJo\t      3 We\t      2 bAd\t      1 krod\n",
      "    591 mi\t     17 j$\t      3 vJA\t      2 b5W\t      1 krJE\n",
      "    560 te\t     17 h1\t      3 vers\t      2 b$W\t      1 krJe\n",
      "    543 per\t     17 frO\t      3 v!\t      2 ayr\t      1 krer\n",
      "    504 li\t     17 freJ\t      3 Us\t      2 ayo\t      1 kren\n",
      "    488 fi\t     17 dri\t      3 trus\t      2 aya\t      1 kreJ\n",
      "    486 ar\t     17 daW\t      3 trEs\t      2 av\t      1 kraW\n",
      "    478 ho\t     17 1W\t      3 toWr\t      2 ard\t      1 kras\n",
      "    462 le\t     16 suW\t      3 top\t      2 am\t      1 krA\n",
      "    424 bo\t     16 ner\t      3 tey\t      2 aJg\t      1 kr2\n",
      "    415 la\t     16 mOs\t      3 ten\t      2 ah\t      1 kr$s\n",
      "    410 va\t     16 klaW\t      3 tay\t      2 Ag\t      1 koy\n",
      "    404 ha\t     16 k7\t      3 sWas\t      2 ad\t      1 koWs\n",
      "    398 je\t     16 fraW\t      3 s!r\t      2 3\t      1 kOt\n",
      "    397 tra\t     16 fJo\t      3 sob\t      1 zWar\t      1 kors\n",
      "    385 ga\t     16 feW\t      3 slo\t      1 zWA\t      1 kop\n",
      "    382 to\t     16 doJ\t      3 sli\t      1 zor\t      1 koJs\n",
      "    380 na\t     16 bU\t      3 sle\t      1 zoJ\t      1 koJr\n",
      "    372 pi\t     16 brO\t      3 sJo\t      1 zla\t      1 koJn\n",
      "    365 ta\t     15 vaJ\t      3 Sis\t      1 zey\t      1 kOg\n",
      "    362 do\t     15 trI\t      3 sIs\t      1 zeW\t      1 kob\n",
      "    344 be\t     15 suJ\t      3 s7W\t      1 zers\t      1 klub\n",
      "    339 ne\t     15 s8\t      3 S7\t      1 zeJs\t      1 klJa\n",
      "    332 Dis\t     15 loJ\t      3 s4\t      1 zEJ\t      1 kleW\n",
      "    316 ve\t     15 l$\t      3 pys\t      1 z!\t      1 kler\n",
      "    311 kA\t     15 klo\t      3 pras\t      1 WO\t      1 klAW\n",
      "    310 fe\t     15 kJe\t      3 pr4\t      1 Wes\t      1 klAs\n",
      "    307 mar\t     15 jI\t      3 pli\t      1 vWa\t      1 klaJr\n",
      "    296 no\t     15 hay\t      3 plays\t      1 vur\t      1 klaJ\n",
      "    294 hes\t     15 fO\t      3 plaW\t      1 v!s\t      1 kJess\n",
      "    283 fo\t     15 f7\t      3 pJaz\t      1 vras\t      1 kJes\n",
      "    276 kar\t     15 $W\t      3 paJs\t      1 v!r\t      1 kJa\n",
      "    267 for\t     14 !r\t      3 p5r\t      1 vok\t      1 kit\n",
      "    262 mu\t     14 pr1\t      3 oWr\t      1 vJeW\t      1 kiss\n",
      "    256 sE\t     14 nos\t      3 ors\t      1 vJer\t      1 kip\n",
      "    255 Ti\t     14 moJ\t      3 n!r\t      1 vIs\t      1 kik\n",
      "    249 par\t     14 m!\t      3 nO\t      1 vip\t      1 kiJ\n",
      "    248 sI\t     14 kl1\t      3 nis\t      1 viJ\t      1 keb\n",
      "    245 da\t     14 kE\t      3 nir\t      1 vAWs\t      1 kaw\n",
      "    244 Sa\t     14 gus\t      3 neJW\t      1 van\t      1 kat\n",
      "    243 mA\t     14 f5\t      3 nEJ\t      1 vaJs\t      1 karl\n",
      "    240 or\t     14 bes\t      3 mWA\t      1 v9\t      1 kAp\n",
      "    240 lo\t     13 pru\t      3 mWa\t      1 v7r\t      1 kaos\n",
      "    237 pu\t     13 peW\t      3 muz\t      1 v7n\t      1 kal\n",
      "    236 trAs\t     13 nI\t      3 mez\t      1 v5r\t      1 kaJs\n",
      "    236 ja\t     13 n5\t      3 mAWs\t      1 v4\t      1 kaJd\n",
      "    233 hi\t     13 luJ\t      3 maWs\t      1 v2\t      1 kaf\n",
      "    226 bi\t     13 les\t      3 mAs\t      1 v1r\t      1 kab\n",
      "    217 lu\t     13 ker\t      3 lU\t      1 uz\t      1 k8\n",
      "    213 gra\t     13 huJ\t      3 ley\t      1 uy\t      1 k$s\n",
      "    206 ser\t     13 hJo\t      3 l2\t      1 uWWW\t      1 k$r\n",
      "    204 kOs\t     13 frus\t      3 kul\t      1 uWW\t      1 jUp\n",
      "    200 Is\t     13 faJ\t      3 kros\t      1 Ut\t      1 jUg\n",
      "    198 jo\t     13 bus\t      3 krJar\t      1 ut\t      1 joy\n",
      "    195 ju\t     13 blu\t      3 kr9\t      1 usp\t      1 JoW\n",
      "    186 vo\t     13 bla\t      3 kOp\t      1 urt\t      1 jOs\n",
      "    185 tE\t     13 ay\t      3 kly\t      1 urss\t      1 jOh\n",
      "    183 oW\t     13 aJr\t      3 klay\t      1 urd\t      1 jog\n",
      "    182 ku\t     12 veJ\t      3 klas\t      1 un\t      1 job\n",
      "    182 bu\t     12 troW\t      3 kl!\t      1 ulk\t      1 jJyad\n",
      "    180 sA\t     12 TJa\t      3 kJev\t      1 Uk\t      1 jJas\n",
      "    176 go\t     12 sy\t      3 k7r\t      1 uJW\t      1 jIz\n",
      "    176 fu\t     12 sU\t      3 k1Ws\t      1 uJt\t      1 jIs\n",
      "    173 por\t     12 sJe\t      3 k1r\t      1 Uh\t      1 jirls\n",
      "    166 du\t     12 SJa\t      3 jun\t      1 uf\t      1 jEs\n",
      "    165 tu\t     12 m1r\t      3 juJs\t      1 Ub\t      1 jEg\n",
      "    157 kaW\t     12 kres\t      3 juJ\t      1 Tyz\t      1 jaz\n",
      "    156 paW\t     12 kl7\t      3 joWr\t      1 tWas\t      1 jays\n",
      "    156 eW\t     12 jeJ\t      3 jJor\t      1 tUg\t      1 jaWss\n",
      "    152 pri\t     12 gr1\t      3 jiz\t      1 tuf\t      1 jAt\n",
      "    152 is\t     12 fJa\t      3 jAW\t      1 tSaJ\t      1 jAs\n",
      "    151 kor\t     12 dU\t      3 j5\t      1 truz\t      1 jah\n",
      "    150 trA\t     12 DiW\t      3 iv\t      1 troy\t      1 j5r\n",
      "    150 eS\t     12 bos\t      3 it\t      1 troh\t      1 !J\n",
      "    148 ver\t     12 1r\t      3 Ik\t      1 trJos\t      1 iWls\n",
      "    144 as\t     11 tris\t      3 ik\t      1 trJer\t      1 Iv\n",
      "    143 saW\t     11 t$\t      3 Ig\t      1 trJe\t      1 Iss\n",
      "    142 Se\t     11 sAW\t      3 huy\t      1 trJA\t      1 iss\n",
      "    140 fU\t     11 p!\t      3 huJs\t      1 trip\t      1 irs\n",
      "    138 bra\t     11 mus\t      3 hiz\t      1 trey\t      1 Ip\n",
      "    137 ni\t     11 mI\t      3 hiS\t      1 traz\t      1 ip\n",
      "    134 pE\t     11 lus\t      3 heJs\t      1 trAW\t      1 ild\n",
      "    134 ke\t     11 ler\t      3 h7s\t      1 traJr\t      1 ih\n",
      "    133 fre\t     11 las\t      3 gWaW\t      1 trab\t      1 ig\n",
      "    129 vE\t     11 l!\t      3 guy\t      1 tr2\t      1 if\n",
      "    129 tri\t     11 kom\t      3 gur\t      1 tr1s\t      1 id\n",
      "    129 er\t     11 kir\t      3 groW\t      1 toz\t      1 hy\n",
      "    128 tor\t     11 jJa\t      3 grO\t      1 toy\t      1 hWo\n",
      "    128 pO\t     11 gla\t      3 greW\t      1 toWt\t      1 huJr\n",
      "    128 bar\t     11 fis\t      3 gray\t      1 toWs\t      1 huI\n",
      "    123 mO\t     11 fas\t      3 grAW\t      1 tov\t      1 hoz\n",
      "    123 hu\t     11 en\t      3 goJ\t      1 tors\t      1 hoy\n",
      "    122 kre\t     11 Dy\t      3 gle\t      1 ton\t      1 hoWl\n",
      "    117 kWa\t     11 dO\t      3 glA\t      1 toJr\t      1 hJosp\n",
      "    116 Si\t     11 DJo\t      3 gaz\t      1 TJos\t      1 hJAW\n",
      "    114 bA\t     11 der\t      3 fuJ\t      1 TJer\t      1 hJad\n",
      "    112 py\t     11 d7\t      3 frJa\t      1 TJefs\t      1 hJA\n",
      "    112 os\t     11 d!\t      3 fr7\t      1 TJef\t      1 hIs\n",
      "    112 lI\t     11 by\t      3 fli\t      1 TJE\t      1 hir\n",
      "    110 ter\t     11 blI\t      3 fleJs\t      1 TJas\t      1 hip\n",
      "    108 ji\t     10 tU\t      3 fl!\t      1 TJar\t      1 hik\n",
      "    107 ki\t     10 TJe\t      3 fJos\t      1 tIs\t      1 hIg\n",
      "    104 pra\t     10 sJa\t      3 f$\t      1 Tir\t      1 hep\n",
      "    104 mE\t     10 s$\t      3 em\t      1 Tik\t      1 hen\n",
      "    104 fra\t     10 pU\t      3 eJW\t      1 TIg\t      1 hEJ\n",
      "    102 us\t     10 piz\t      3 eJs\t      1 Tig\t      1 heg\n"
     ]
    },
    {
     "name": "stdout",
     "output_type": "stream",
     "text": [
      "    100 DJa\t     10 noW\t      3 dWar\t      1 tEs\t      1 hayA\n",
      "     99 sur\t     10 niW\t      3 dr1s\t      1 teS\t      1 haWh\n",
      "     99 kri\t     10 krJan\t      3 dek\t      1 tells\t      1 hAW\n",
      "     98 maW\t     10 klJE\t      3 dEJ\t      1 tEf\t      1 haS\n",
      "     96 pla\t     10 jO\t      3 bym\t      1 tays\t      1 hAp\n",
      "     96 kla\t     10 jeW\t      3 bWe\t      1 taWt\t      1 haJW\n",
      "     95 So\t     10 im\t      3 brU\t      1 tat\t      1 haJo\n",
      "     94 bri\t     10 his\t      3 broW\t      1 tam\t      1 haj\n",
      "     93 nu\t     10 h7\t      3 br1\t      1 tak\t      1 h5s\n",
      "     92 mor\t     10 gli\t      3 boy\t      1 taJW\t      1 !h\n",
      "     92 mer\t     10 fro\t      3 bOs\t      1 tah\t      1 gWiW\n",
      "     92 ber\t     10 f!\t      3 bles\t      1 tAg\t      1 gWe\n",
      "     91 Su\t     10 d$\t      3 bl1\t      1 tab\t      1 gWas\n",
      "     89 heJ\t     10 blA\t      3 big\t      1 t1s\t      1 guz\n",
      "     88 deJ\t     10 bJe\t      3 baJr\t      1 t1r\t      1 guJW\n",
      "     87 tro\t     10 b7\t      3 art\t      1 sWor\t      1 guJs\n",
      "     87 frA\t      9 vas\t      3 an\t      1 sWe\t      1 guJr\n",
      "     85 5\t      9 trE\t      3 ak\t      1 sWar\t      1 gui\n",
      "     84 poW\t      9 prA\t      3 aJs\t      1 suj\t      1 gruy\n",
      "     84 nor\t      9 nJe\t      3 Ad\t      1 Sub\t      1 groWp\n",
      "     83 pI\t      9 mJo\t      3 5r\t      1 Sri\t      1 groJs\n",
      "     83 kos\t      9 maz\t      3 #\t      1 srI\t      1 grJe\n",
      "     82 baJ\t      9 hJa\t      2 zer\t      1 srek\t      1 griz\n",
      "     80 lA\t      9 h!\t      2 zaW\t      1 sra\t      1 griW\n",
      "     78 muW\t      9 frE\t      2 zaJ\t      1 soz\t      1 gris\n",
      "     78 kuW\t      9 fos\t      2 zAg\t      1 soy\t      1 grey\n",
      "     78 kur\t      9 dre\t      2 z7\t      1 soWs\t      1 gret\n",
      "     78 1\t      9 dos\t      2 WI\t      1 sot\t      1 greJ\n",
      "     76 O\t      9 buW\t      2 Wi\t      1 SOs\t      1 grAWs\n",
      "     75 lE\t      9 bras\t      2 WA\t      1 sOs\t      1 graWs\n",
      "     75 kas\t      9 ble\t      2 vy\t      1 sos\t      1 graW\n",
      "     74 tre\t      9 As\t      2 vuJ\t      1 sop\t      1 grass\n",
      "     74 soW\t      8 zU\t      2 vu\t      1 soJ\t      1 gran\n",
      "     73 voW\t      8 zI\t      2 voWs\t      1 sOg\t      1 graJ\n",
      "     73 tes\t      8 vla\t      2 vJes\t      1 SmEJ\t      1 gr4\n",
      "     73 tA\t      8 trU\t      2 vJas\t      1 slu\t      1 got\n",
      "     73 kaJ\t      8 tras\t      2 ven\t      1 Slo\t      1 gors\n",
      "     73 bO\t      8 tr1\t      2 vAs\t      1 Sli\t      1 goJs\n",
      "     72 vJa\t      8 tEJ\t      2 v8\t      1 sleJ\t      1 goh\n",
      "     71 sir\t      8 S1\t      2 v5s\t      1 slAW\t      1 gOg\n",
      "     71 pos\t      8 pleJ\t      2 v1z\t      1 slAs\t      1 glos\n",
      "     70 uW\t      8 play\t      2 v1W\t      1 sJos\t      1 gleb\n",
      "     68 pas\t      8 pJer\t      2 up\t      1 sJor\t      1 glAW\n",
      "     68 kU\t      8 piW\t      2 uh\t      1 SJo\t      1 gJo\n",
      "     68 keJ\t      8 nU\t      2 tSaW\t      1 SJer\t      1 gi\n",
      "     67 mos\t      8 nas\t      2 tSa\t      1 sJen\t      1 geW\n",
      "     66 vJo\t      8 n1\t      2 tS5\t      1 SJe\t      1 ges\n",
      "     66 mis\t      8 n!\t      2 troJ\t      1 sJat\t      1 gAs\n",
      "     65 pres\t      8 may\t      2 triW\t      1 SJar\t      1 gap\n",
      "     65 hoW\t      8 laJ\t      2 trEd\t      1 sJar\t      1 gAg\n",
      "     64 gu\t      8 kreW\t      2 trad\t      1 sJalb\t      1 g8\n",
      "     64 faW\t      8 klu\t      2 toyo\t      1 siWr\t      1 g7W\n",
      "     63 fer\t      8 klA\t      2 tOs\t      1 siS\t      1 g1W\n",
      "     62 nA\t      8 kl5\t      2 tok\t      1 Sip\t      1 g1r\n",
      "     62 lO\t      8 k$\t      2 TJO\t      1 sip\t      1 fuS\n",
      "     61 pA\t      8 jJA\t      2 teWs\t      1 Sik\t      1 f!s\n",
      "     61 mes\t      8 hI\t      2 tem\t      1 siJr\t      1 fry\n",
      "     61 leJ\t      8 hey\t      2 ted\t      1 sIg\t      1 frOt\n",
      "     61 kro\t      8 gy\t      2 taj\t      1 sif\t      1 fros\n",
      "     61 kris\t      8 gWaJ\t      2 sWA\t      1 sid\t      1 frJos\n",
      "     61 koW\t      8 g!\t      2 sUs\t      1 Seya\t      1 frJo\n",
      "     61 bJo\t      8 fy\t      2 sus\t      1 seWf\t      1 fris\n",
      "     60 jus\t      8 fun\t      2 Srys\t      1 sev\t      1 frey\n",
      "     60 gWar\t      8 dur\t      2 SoW\t      1 set\t      1 fren\n",
      "     58 neW\t      8 DJas\t      2 Sor\t      1 Ser\t      1 frEJ\n",
      "     58 gWa\t      8 DJA\t      2 Sop\t      1 sem\t      1 fras\n",
      "     58 bro\t      8 bEJ\t      2 slot\t      1 sells\t      1 fraJ\n",
      "     57 ves\t      8 b1\t      2 sJer\t      1 seJg\t      1 fr5\n",
      "     57 has\t      7 zO\t      2 SiJ\t      1 SEJ\t      1 foWs\n",
      "     57 fla\t      7 zeJ\t      2 SeW\t      1 seh\t      1 fOt\n",
      "     57 fiW\t      7 vos\t      2 sep\t      1 sax\t      1 fOk\n",
      "     56 ze\t      7 uJ\t      2 sen\t      1 sAWs\t      1 flyIg\n",
      "     56 bor\t      7 tos\t      2 sek\t      1 saWs\t      1 flyI\n",
      "     55 ur\t      7 teW\t      2 seJs\t      1 SaWJ\t      1 flW7\n",
      "     55 krJa\t      7 SiW\t      2 Sef\t      1 sAt\t      1 fluJr\n",
      "     55 bE\t      7 s5r\t      2 SE\t      1 sat\t      1 floJ\n",
      "     54 za\t      7 plas\t      2 saSs\t      1 sAs\t      1 flog\n",
      "     54 kus\t      7 pl1s\t      2 Sas\t      1 Sars\t      1 flJa\n",
      "     53 gos\t      7 pers\t      2 saS\t      1 sars\t      1 flip\n",
      "     53 gas\t      7 pAW\t      2 san\t      1 saJW\t      1 fleW\n",
      "     52 vI\t      7 mEs\t      2 SaJr\t      1 SaJss\t      1 fleJ\n",
      "     52 kru\t      7 mAW\t      2 Sad\t      1 SaJrs\t      1 flat\n",
      "     52 flo\t      7 ly\t      2 s2\t      1 saJd\t      1 flas\n",
      "     52 bre\t      7 lur\t      2 s1W\t      1 sag\t      1 fJes\n",
      "     52 bas\t      7 leW\t      2 s1b\t      1 sad\t      1 fJeld\n",
      "     51 tur\t      7 kWaW\t      2 re\t      1 s9\t      1 fJe\n",
      "     51 pes\t      7 kan\t      2 p!W\t      1 s7r\t      1 fJan\n",
      "     51 heW\t      7 jas\t      2 puz\t      1 S5\t      1 fiz\n",
      "     51 bru\t      7 j1\t      2 pus\t      1 S1s\t      1 fik\n",
      "     50 vaW\t      7 hU\t      2 prJe\t      1 roW\t      1 feWJW\n",
      "     50 jU\t      7 guW\t      2 prIz\t      1 ri\t      1 feJs\n",
      "     50 gri\t      7 gon\t      2 prin\t      1 rEJ\t      1 feJk\n",
      "     49 hE\t      7 fuW\t      2 praJ\t      1 ra\t      1 fEJ\n",
      "     49 gre\t      7 fus\t      2 pr9\t      1 pyOg\t      1 fed\n",
      "     49 goW\t      7 fran\t      2 pr5Js\t      1 pyO\t      1 falls\n",
      "     49 gar\t      7 foJ\t      2 poWr\t      1 pUs\t      1 fab\n",
      "     48 hO\t      7 fluJ\t      2 pot\t      1 puls\t      1 f7s\n",
      "     48 fri\t      7 fl1\t      2 poJs\t      1 pug\t      1 eWr\n",
      "     48 beJ\t      7 fE\t      2 pOJ\t      1 pub\t      1 eSs\n",
      "     48 baW\t      7 faWs\t      2 plus\t      1 pr!Wr\t      1 ess\n",
      "     47 plA\t      7 DI\t      2 pl7\t      1 prUs\t      1 esk\n",
      "     47 kra\t      7 biW\t      2 pJor\t      1 pr!r\t      1 esg\n",
      "     47 hA\t      7 b!\t      2 pJO\t      1 proWs\t      1 ert\n",
      "     47 feJ\t      7 ars\t      2 pIg\t      1 prJor\t      1 Ep\n",
      "     47 doW\t      6 ziW\t      2 pet\t      1 prJa\t      1 ep\n",
      "     46 far\t      6 W\t      2 pEJ\t      1 prIs\t      1 elp\n",
      "     46 fA\t      6 vO\t      2 p8\t      1 pris\t      1 elf\n",
      "     45 U\t      6 tuJ\t      2 p1W\t      1 pray\t      1 eJss\n",
      "     45 kes\t      6 tres\t      2 ox\t      1 prat\t      1 eJrd\n",
      "     45 iW\t      6 tran\t      2 ord\t      1 pr$\t      1 eJd\n",
      "     45 dE\t      6 tr5\t      2 op\t      1 p!r\t      1 Eg\n",
      "     45 brI\t      6 toJ\t      2 olf\t      1 poWk\t      1 eb\n",
      "     44 blo\t      6 TiW\t      2 old\t      1 poWJW\t      1 dWo\n",
      "     43 zo\t      6 Ses\t      2 Ok\t      1 pOs\t      1 dUs\n",
      "     43 vA\t      6 sEJ\t      2 oJW\t      1 pors\t      1 dus\n",
      "     43 sar\t      6 SaW\t      2 oh\t      1 pop\t      1 drug\n",
      "     43 SA\t      6 pur\t      2 nWA\t      1 pOg\t      1 dru\n",
      "     43 loW\t      6 pr!s\t      2 nur\t      1 pof\t      1 dros\n",
      "     43 kli\t      6 on\t      2 noJr\t      1 plok\t      1 drJes\n",
      "     43 !\t      6 nAW\t      2 nex\t      1 plJe\t      1 drey\n",
      "     42 jor\t      6 m!r\t      2 neJ\t      1 plis\t      1 drE\n",
      "     42 grA\t      6 mJa\t      2 Ne\t      1 pleW\t      1 draW\n",
      "     41 paJ\t      6 luJs\t      2 naS\t      1 plaz\t      1 dras\n",
      "     41 jer\t      6 lor\t      2 naJr\t      1 player\t      1 drag\n",
      "     41 guJ\t      6 krus\t      2 n5s\t      1 plAt\t      1 doyEJ\n",
      "     41 gro\t      6 krE\t      2 mys\t      1 pJas\t      1 doWs\n",
      "     41 fes\t      6 koWr\t      2 mWos\t      1 pJaf\t      1 doWg\n",
      "     41 boW\t      6 kleJ\t      2 muy\t      1 pJA\t      1 dOs\n",
      "     40 pr!\t      6 kEJ\t      2 mix\t      1 piWs\t      1 dok\n",
      "     40 m5\t      6 jWa\t      2 mIs\t      1 pit\t      1 dog\n",
      "     40 kWA\t      6 jis\t      2 mir\t      1 pez\t      1 dli\n",
      "     40 beW\t      6 jaJ\t      2 meWs\t      1 pEs\t      1 dla\n",
      "     40 aJ\t      6 h$\t      2 men\t      1 pels\t      1 DJyar\n",
      "     39 lar\t      6 grI\t      2 mak\t      1 pek\t      1 DJor\n",
      "     39 gaW\t      6 glaW\t      2 maJW\t      1 peg\t      1 DJap\n"
     ]
    },
    {
     "name": "stdout",
     "output_type": "stream",
     "text": [
      "     39 fI\t      6 gay\t      2 m7s\t      1 ped\t      1 DJan\n",
      "     39 8\t      6 frJe\t      2 m1s\t      1 paz\t      1 d!J\n",
      "     38 mas\t      6 flaW\t      2 lWo\t      1 paWs\t      1 Diy\n",
      "     38 lan\t      6 drU\t      2 loWr\t      1 pap\t      1 Did\n",
      "     38 koJ\t      6 b$\t      2 loWJ\t      1 pan\t      1 dEs\n",
      "     37 vir\t      6 2\t      2 lJOs\t      1 pal\t      1 den\n",
      "     37 kuJ\t      5 z5\t      2 lJo\t      1 paes\t      1 deJk\n",
      "     37 kI\t      5 vEJ\t      2 lJeS\t      1 pad\t      1 dehs\n",
      "     37 ir\t      5 v5\t      2 lJe\t      1 p9s\t      1 days\n",
      "     37 eJ\t      5 tSe\t      2 liW\t      1 p6\t      1 daS\n",
      "     36 sor\t      5 tr7\t      2 laz\t      1 p5W\t      1 daJs\n",
      "     36 siW\t      5 tAW\t      2 laWb\t      1 p5s\t      1 dad\n",
      "     36 moW\t      5 tas\t      2 lars\t      1 p4\t      1 d9\n",
      "     35 tar\t      5 taJs\t      2 kys\t      1 p2\t      1 byars\n",
      "     35 m1\t      5 t5r\t      2 kWAW\t      1 p1g\t      1 bWo\n",
      "     35 l7\t      5 syW\t      2 kWan\t      1 p$W\t      1 buz\n",
      "     35 jiW\t      5 SU\t      2 krys\t      1 oya\t      1 buyW\n",
      "     35 dor\t      5 seWs\t      2 kry\t      1 oWt\t      1 bulls\n",
      "     35 deW\t      5 SAW\t      2 kruJ\t      1 oWs\t      1 buJW\n",
      "     35 brA\t      5 saJr\t      2 krJo\t      1 oWd\t      1 bug\n",
      "     35 aWs\t      5 pr8\t      2 kraJg\t      1 oS\t      1 bryAt\n",
      "     34 sO\t      5 poJ\t      2 klI\t      1 ork\t      1 bruy\n",
      "     34 pros\t      5 pl1\t      2 klar\t      1 olt\t      1 brOs\n",
      "     34 k5\t      5 pay\t      2 kl1W\t      1 ol\t      1 brJoz\n",
      "     34 juW\t      5 p7\t      2 kJo\t      1 oJs\t      1 brJo\n",
      "     34 jes\t      5 oz\t      2 keys\t      1 ob\t      1 brJe\n",
      "     34 gru\t      5 ok\t      2 key\t      1 nWas\t      1 briS\n",
      "     34 ge\t      5 Og\t      2 kaz\t      1 nWan\t      1 bris\n",
      "     33 TI\t      5 ney\t      2 kaWs\t      1 nUs\t      1 brin\n",
      "     33 plu\t      5 n1W\t      2 kAt\t      1 noz\t      1 brig\n",
      "     33 p1\t      5 maJs\t      2 kaJr\t      1 nov\t      1 breW\n",
      "     33 ky\t      5 len\t      2 k9\t      1 noJs\t      1 brEt\n",
      "     33 dra\t      5 l8\t      2 k5r\t      1 noh\t      1 brAW\n",
      "     33 d5\t      5 kWaJs\t      2 k2\t      1 No\t      1 brAt\n",
      "     32 peJ\t      5 krJA\t      2 k1s\t      1 nJu\t      1 brah\n",
      "     32 maJ\t      5 kr5\t      2 k%\t      1 nJO\t      1 brad\n",
      "     32 kWar\t      5 kJos\t      2 Jor\t      1 niJ\t      1 br7\n",
      "     32 h5\t      5 kiW\t      2 jJe\t      1 neWs\t      1 br5\n",
      "     31 kon\t      5 kis\t      2 jJad\t      1 net\t      1 br!\n",
      "     31 jE\t      5 k1W\t      2 jir\t      1 ned\t      1 boz\n",
      "     31 fle\t      5 j4\t      2 jey\t      1 nat\t      1 boys\n",
      "     31 dA\t      5 j!\t      2 jet\t      1 naf\t      1 boyJsh\n",
      "     30 tO\t      5 hWa\t      2 jeh\t      1 NA\t      1 boyer\n",
      "     30 lis\t      5 hus\t      2 jay\t      1 Na\t      1 boWJW\n",
      "     30 laW\t      5 hiW\t      2 jaW\t      1 n9\t      1 bol\n",
      "     30 glo\t      5 gWi\t      2 jaJr\t      1 n8\t      1 boJs\n",
      "     30 gA\t      5 gros\t      2 iz\t      1 n6\t      1 bOb\n",
      "     30 7\t      5 gox\t      2 ills\t      1 n5W\t      1 bob\n",
      "     29 vis\t      5 glas\t      2 iJ\t      1 n3\t      1 bly\n",
      "     29 treJ\t      5 gE\t      2 hWas\t      1 n1s\t      1 blur\n",
      "     29 seW\t      5 gaJ\t      2 hoyaW\t      1 myers\t      1 blok\n",
      "     29 saJ\t      5 g1\t      2 hoJ\t      1 my\t      1 blog\n",
      "     29 pr5\t      5 froW\t      2 hob\t      1 mWay\t      1 bliz\n",
      "     29 kle\t      5 freW\t      2 hJos\t      1 mul\t      1 blId\n",
      "     29 fir\t      5 fres\t      2 hed\t      1 mud\t      1 bli\n",
      "     28 Sar\t      5 frAs\t      2 haW\t      1 moya\t      1 bler\n",
      "     28 s5\t      5 fr1\t      2 hap\t      1 moWr\t      1 bleh\n",
      "     28 prI\t      5 f!r\t      2 han\t      1 mOt\t      1 blat\n",
      "     28 gor\t      5 fler\t      2 haJs\t      1 mOg\t      1 bl5\n",
      "     28 foW\t      5 flA\t      2 haf\t      1 mJya\t      1 bl0\n",
      "     27 viW\t      5 faz\t      2 gWA\t      1 mJers\t      1 bJos\n",
      "     27 v7\t      5 ey\t      2 grU\t      1 mJE\t      1 bJI\n",
      "     27 sJE\t      5 dWa\t      2 grid\t      1 mJas\t      1 bJals\n",
      "     27 s!\t      5 Dir\t      2 greg\t      1 mJar\t      1 bey\n",
      "     27 puW\t      5 deWs\t      2 grE\t      1 mJah\t      1 bet\n",
      "     27 m7\t      5 das\t      2 grAt\t      1 mJA\t      1 bells\n",
      "     26 proJ\t      5 boWr\t      2 gras\t      1 mJ7\t      1 beJt\n",
      "     26 pJo\t      5 blas\t      2 grAd\t      1 miz\t      1 bayo\n",
      "     26 mU\t      5 bJA\t      2 gr5\t      1 mit\t      1 bay\n",
      "     26 dro\t      5 bir\t      2 goWs\t      1 miss\t      1 basTi\n",
      "     26 dan\t      5 bI\t      2 goWr\t      1 mim\t      1 bAs\n",
      "     25 SI\t      5 b1r\t      2 glu\t      1 mills\t      1 baS\n",
      "     25 SeJ\t      5 5W\t      2 gleJ\t      1 mik\t      1 bars\n",
      "     25 pJa\t      4 Wa\t      2 gl$\t      1 mIh\t      1 bAg\n",
      "     25 fru\t      4 vor\t      2 gl!\t      1 mIg\t      1 bad\n",
      "     25 flu\t      4 voJ\t      2 gJe\t      1 mig\t      1 b6\n",
      "     25 bur\t      4 veW\t      2 gays\t      1 mib\t      1 b1W\n",
      "     24 trO\t      4 vAW\t      2 g7\t      1 meyi\t      1 az\n",
      "     24 seJ\t      4 trJa\t      2 g5\t      1 met\t      1 ayWr\n",
      "     24 prJo\t      4 trEJ\t      2 g4\t      1 mers\t      1 ayW\n",
      "     24 noJ\t      4 tr!\t      2 g2\t      1 mek\t      1 ays\n",
      "     24 k1\t      4 TJo\t      2 fruJ\t      1 meJs\t      1 ayes\n",
      "     24 jA\t      4 Tis\t      2 frJas\t      1 mEJ\t      1 ayA\n",
      "     23 zi\t      4 ti\t      2 freWd\t      1 meg\t      1 aWJ\n",
      "     23 traW\t      4 sub\t      2 freJs\t      1 mayW\t      1 att\n",
      "     23 sis\t      4 Sro\t      2 fred\t      1 max\t      1 At\n",
      "     23 miW\t      4 SoJ\t      2 flI\t      1 mass\t      1 at\n",
      "     23 l1\t      4 sla\t      2 flE\t      1 maS\t      1 asp\n",
      "     23 f1\t      4 SJA\t      2 fIs\t      1 map\t      1 ash\n",
      "     23 d1\t      4 sey\t      2 fez\t      1 mans\t      1 aS\n",
      "     22 taW\t      4 say\t      2 fat\t      1 malls\t      1 arS\n",
      "     22 taJ\t      4 sap\t      2 fAs\t      1 maJr\t      1 ark\n",
      "     22 t7\t      4 SaJ\t      2 faJr\t      1 mad\t      1 arf\n",
      "     22 prO\t      4 !s\t      2 f5r\t      1 m8\t      1 Ar\n",
      "     22 nes\t      4 proW\t      2 f1r\t      1 m5r\t      1 alt\n",
      "     22 meJ\t      4 pin\t      2 ez\t      1 m4\t      1 alp\n",
      "     22 m$\t      4 Os\t      2 eyes\t      1 lyas\t      1 alls\n",
      "     22 dar\t      4 ny\t      2 ex\t      1 lWAsk\t      1 alf\n",
      "     21 vuW\t      4 nus\t      2 eWs\t      1 lWas\t      1 ald\n",
      "     21 Ty\t      4 n!s\t      2 Et\t      1 lWar\t      1 al\n",
      "     21 traJ\t      4 naJ\t      2 est\t      1 lWA\t      1 Ak\n",
      "     21 t1\t      4 mon\t      2 esp\t      1 luy\t      1 Ah\n",
      "     21 p!s\t      4 mJe\t      2 Es\t      1 lUSs\t      1 af\n",
      "     21 prE\t      4 mars\t      2 ers\t      1 lug\t      1 ab\n",
      "     21 ple\t      4 m$W\t      2 ells\t      1 Lu\t      1 a&a\n",
      "     21 oJ\t      4 lWa\t      2 ek\t      1 loz\t      1 7s\n",
      "     21 muJ\t      4 loWJs\t      2 EJ\t      1 loj\t      1 7h\n",
      "     21 jar\t      4 los\t      2 eh\t      1 lOg\t      1 5s\n",
      "     21 DJe\t      4 lIs\t      2 Ed\t      1 lJa\t      1 5h\n",
      "     21 $\t      4 leJs\t      2 dWas\t      1 lit\t      1 $r\n",
      "     20 s1\t      4 l5s\t      2 dr1\t      1 liS\t      1 $l\n",
      "     20 pis\t      4 kWo\t      2 doJs\t      1 lip\n",
      "     20 p5\t      4 k!s\t      2 DJos\t      1 lin\n"
     ]
    }
   ],
   "source": [
    "tail -n +2 /tmp/CorpusABGv2spell.csv | awk -F',' '{n=split($5,syl,\"-\"); print syl[1]}' | sort | uniq -c | sort -rn | column"
   ]
  },
  {
   "cell_type": "code",
   "execution_count": 7,
   "metadata": {
    "kernel": "Bash"
   },
   "outputs": [
    {
     "name": "stdout",
     "output_type": "stream",
     "text": [
      "   7466 a\t     2"
     ]
    },
    {
     "ename": "",
     "evalue": "1",
     "output_type": "error",
     "traceback": []
    }
   ],
   "source": [
    "tail -n +2 /tmp/CorpusABGv2spell.csv | awk -F',' '{n=split($5,syl,\"-\"); print syl[1]}' | sort | uniq -c | sort -rn | tee >/tmp/start_syllables_freq_abg >(nl | gnuplot -e \"set terminal png; set output '/tmp/start_syllables_freq_abg_loglog.png'; set xlabel 'start syllables'; set ylabel 'frequency'; set logscale xy; plot '/dev/stdin' with lines title 'abgcorpus'\") >(column)"
   ]
  },
  {
   "cell_type": "code",
   "execution_count": 9,
   "metadata": {
    "kernel": "Bash"
   },
   "outputs": [],
   "source": [
    "cp /tmp/start_syllables_freq_abg_loglog.png images/\n",
    "cp /tmp/start_syllables_freq_abg ."
   ]
  },
  {
   "cell_type": "markdown",
   "metadata": {
    "kernel": "Bash"
   },
   "source": [
    "![](images/start_syllables_freq_abg_loglog.png)"
   ]
  },
  {
   "cell_type": "markdown",
   "metadata": {
    "kernel": "Bash"
   },
   "source": [
    "and we might do the same for end syllables"
   ]
  },
  {
   "cell_type": "code",
   "execution_count": 11,
   "metadata": {
    "kernel": "Bash",
    "scrolled": true
   },
   "outputs": [
    {
     "name": "stdout",
     "output_type": "stream",
     "text": [
      "   5353 do\t     13 uW\t      4 dog\t      2 giW\t      1 may\n",
      "   2912 da\t     13 trEJ\t      4 dley\t      2 gIs\t      1 mass\n",
      "   2469 te\t     13 TIs\t      4 DJA\t      2 gAg\t      1 map\n",
      "   2323 se\t     13 teJs\t      4 DIg\t      2 g4\t      1 mans\n",
      "   2100 sAW\t     13 rus\t      4 dAWs\t      2 fuW\t      1 malls\n",
      "   1988 to\t     13 r1s\t      4 buW\t      2 fur\t      1 maJr\n",
      "   1823 dos\t     13 r!\t      4 breW\t      2 frJos\t      1 maJd\n",
      "   1710 ta\t     13 pJos\t      4 bOs\t      2 frJas\t      1 maJ\n",
      "   1671 ra\t     13 mJas\t      4 blog\t      2 frJar\t      1 m7\n",
      "   1543 rAW\t     13 lu\t      4 blo\t      2 fri\t      1 m2\n",
      "   1490 das\t     13 kus\t      4 bla\t      2 frey\t      1 lWAsk\n",
      "   1399 va\t     13 heJ\t      4 bl1\t      2 freWd\t      1 lWas\n",
      "   1314 ka\t     13 guJ\t      4 bJe\t      2 freW\t      1 lWar\n",
      "   1246 mos\t    "
     ]
    },
    {
     "ename": "",
     "evalue": "1",
     "output_type": "error",
     "traceback": []
    }
   ],
   "source": [
    "tail -n +2 /tmp/CorpusABGv2spell.csv | awk -F',' '{n=split($5,syl,\"-\"); print syl[n]}' | sort | uniq -c | sort -rn | tee >/tmp/end_syllables_freq_abg >(nl | gnuplot -e \"set terminal png; set output '/tmp/end_syllables_freq_abg_loglog.png'; set xlabel 'end syllables'; set ylabel 'frequency'; set logscale xy; plot '/dev/stdin' with lines title 'abgcorpus'\") >(column)"
   ]
  },
  {
   "cell_type": "code",
   "execution_count": 12,
   "metadata": {
    "kernel": "Bash"
   },
   "outputs": [],
   "source": [
    "cp /tmp/end_syllables_freq_abg_loglog.png images/.\n",
    "cp /tmp/end_syllables_freq_abg ."
   ]
  },
  {
   "cell_type": "markdown",
   "metadata": {
    "kernel": "Bash"
   },
   "source": [
    "![](images/end_syllables_freq_abg_loglog.png)"
   ]
  },
  {
   "cell_type": "markdown",
   "metadata": {
    "kernel": "Bash"
   },
   "source": [
    "In the revious results we have considered the occurrency of syllables in the vocabullary, we have not take in account the frequency of occurrence of words.\n",
    "\n",
    "Now, we're gonna repeat the previous analysis, but take in account the frequency of occurrence of words and therefore we're going to approximate the frequency of occurrence of syllables in the language."
   ]
  },
  {
   "cell_type": "code",
   "execution_count": 13,
   "metadata": {
    "kernel": "Bash"
   },
   "outputs": [
    {
     "name": "stdout",
     "output_type": "stream",
     "text": [
      "350604\ta\t489\t!r\t29\tUd\t6\tbWas\t2\tbulls\n",
      "229808\tde\t486\tbJa\t29\ttrWo\t6\tb!s\t2\tbuJW\n",
      "205651\te\t482\tgles\t29\ttrWa\t6\tboJs\t2\tbSe\n",
      "178051\tdo\t480\tkaJs\t29\tsEs\t6\tbat\t2\tbrJas\n",
      "153426\tke\t479\tpJor\t29\tmak\t6\tb$W\t2\tbrJar\n",
      "143340\to\t477\tb1\t29\tmaJls\t6\tan\t2\tbrJA\n",
      "132518\tda\t475\tNJa\t29\tlir\t5\tzab\t2\tbrik\n",
      "129315\tse\t474\trJe\t29\tiJ\t5\tWis\t2\tbrAt\n",
      "115955\tte\t474\tn%\t29\tfJA\t5\tWi\t2\tbrap\n",
      "109927\tto\t470\tp7\t29\tbWar\t5\tWard\t2\tbrah\n",
      "108515\tta\t470\tbos\t28\tzJar\t5\tvroW\t2\tbrad\n",
      "101279\tra\t469\tdre\t28\ttSe\t5\tvrOJs\t2\tboWt\n",
      "96925\tka\t466\tklJE\t28\ts1b\t5\tvok\t2\tbok\n",
      "92259\tma\t462\tkris\t28\tprAW\t5\tvOJs\t2\tbma\n",
      "90309\tkO\t460\tLoW\t28\tpaes\t5\ttWos\t2\tblus\n",
      "83973\tko\t457\tzir\t28\tneWs\t5\ttud\t2\tbloW\n",
      "78212\tTi\t453\ttOJs\t28\tn6\t5\ttSa\t2\tblis\n",
      "76054\tna\t451\tw\t28\tmuy\t5\ttrov\t2\tbler\n",
      "70182\tno\t451\tgor\t28\tmJar\t5\ttrolls\t2\tbled\n",
      "65073\tes\t448\tksu\t28\tloy\t5\ttlJe\t2\tblAW\n",
      "65031\tpa\t447\tg7\t28\tklar\t5\ttI\t2\tblaJr\n",
      "63285\tla\t446\tjer\t28\tkey\t5\tsWe\t2\tbJar\n",
      "62721\t3\t445\tmOs\t28\tjy\t5\tsOJ\t2\tbit\n",
      "58566\tDi\t442\td$s\t28\thWa\t5\tsoJ\t2\tbik\n",
      "57972\tE\t442\tbr1s\t28\they\t5\tsli\t2\tbey\n",
      "57716\tsAW\t441\tz!\t28\tglos\t5\tSJes\t2\tbeJt\n",
      "57577\tso\t441\trer\t28\tep\t5\tSik\t2\tballs\n",
      "56945\tpe\t439\tJas\t28\tblA\t5\tsig\t2\tb5s\n",
      "56487\tmo\t436\trU\t28\tars\t5\tSEt\t2\tayWr\n",
      "56398\tsi\t432\tjA\t27\tz6\t5\ts5s\t2\tayW\n",
      "54293\tsa\t431\tfO\t27\tv1r\t5\troy\t2\tays\n",
      "49517\tle\t431\tdrAW\t27\ttr8\t5\tror\t2\tayes\n",
      "48648\teW\t426\tkan\t27\top\t5\triWs\t2\tAt\n",
      "45754\the\t418\tr5\t27\tmet\t5\triS\t2\tast\n",
      "45282\tvo\t417\tvEs\t27\tkat\t5\tray\t2\tarS\n",
      "44864\tme\t417\t1s\t27\tfJe\t5\tr#\t2\tAr\n",
      "44736\tnAW\t414\tprJe\t27\teJs\t5\tpoWr\t2\t$r\n",
      "44590\tva\t410\thWas\t26\tr1s\t5\tplAW\t1\tzy\n",
      "44277\tpo\t410\thO\t26\tpJar\t5\tpeJs\t1\tzWo\n",
      "44104\tfa\t407\tkl1\t26\th$s\t5\tox\t1\tzul\n",
      "43454\tpor\t404\tbis\t25\tsIs\t5\tnWos\t1\tz!s\n",
      "43361\tza\t402\tmEs\t25\tSEJ\t5\tnJu\t1\tzoWr\n",
      "41940\tu\t401\td$\t25\t!s\t5\tnJess\t1\tzOs\n",
      "40391\tmi\t400\ten\t25\tprEJ\t5\tNAs\t1\tzok\n",
      "40224\tI\t398\tg5\t25\tLaW\t5\tn1r\t1\tzod\n",
      "38274\tmE\t397\tpoJ\t25\tksos\t5\tmWA\t1\tzJOs\n",
      "38060\ttu\t394\tdWar\t25\tjaJ\t5\tmuz\t1\tzJes\n",
      "37953\tEJ\t393\tzen\t25\tgi\t5\tmon\t1\tzeWp\n",
      "36462\tlo\t393\tfun\t25\tfl!\t5\tmlI\t1\tzev\n",
      "36049\tU\t388\tlJas\t24\tzJO\t5\tmJes\t1\tzEt\n",
      "34142\tli\t386\tfar\t24\tzik\t5\tmJE\t1\tzEs\n",
      "33924\tfi\t385\tm5r\t24\tult\t5\tmills\t1\tzep\n",
      "33584\taW\t384\tz1\t24\tS5\t5\tmIh\t1\tzay\n",
      "33479\tNa\t380\tn!\t24\tmed\t5\tmeg\t1\tzav\n",
      "32544\ti\t380\tflo\t24\tklos\t5\tmass\t1\tzAt\n",
      "32044\tpre\t378\tnWar\t24\tjun\t5\tlWAsk\t1\tzat\n",
      "30109\tsI\t378\tmJo\t24\tfler\t5\tlW7\t1\tzars\n",
      "30017\ttra\t377\tklo\t24\tEs\t5\tloWs\t1\tzaJr\n",
      "30008\tdos\t370\tzeW\t24\tbym\t5\tlof\t1\tzah\n",
      "29714\tas\t368\tpros\t24\tbev\t5\tlib\t1\tz$\n",
      "28362\tga\t364\tliz\t24\tb1r\t5\tlEs\t1\tz#\n",
      "28250\tvi\t363\tdO\t23\tv4\t5\tleJW\t1\tWyIg\n",
      "27952\tve\t362\tnir\t23\ttors\t5\tlaJs\t1\tWO\n",
      "27454\ttA\t362\tkrJar\t23\tTJer\t5\tkyW\t1\tWEs\n",
      "27285\tba\t358\tbru\t23\tt$r\t5\tkuz\t1\tWaJs\n",
      "27117\ttAW\t355\tfru\t23\tsAt\t5\tkross\t1\tW5s\n",
      "26747\ttEJ\t354\tjas\t23\troJ\t5\tkOp\t1\tW5\n",
      "26426\tni\t351\tt6\t23\tmaWs\t5\tklaJ\t1\tvWa\n",
      "26238\tpro\t343\tgE\t23\tlWa\t5\tkiss\t1\tvrJo\n",
      "26152\toW\t342\tr!\t23\tlah\t5\tkaz\t1\tvrJa\n",
      "25822\tn5\t341\tpis\t23\tkup\t5\tk3J\t1\tvriW\n",
      "25778\tgo\t338\tbU\t23\tkrJA\t5\tk1Ws\t1\tvrir\n",
      "25205\tos\t337\tger\t23\tkl1W\t5\tjur\t1\tvr5\n",
      "24888\tmas\t335\tzI\t23\tgWE\t5\tjOJs\t1\tvr1W\n",
      "22874\tpra\t334\tSer\t23\tgrid\t5\tjIg\t1\tvr1\n",
      "22856\t7\t332\trir\t23\tgrAd\t5\tiz\t1\tvr!\n",
      "22431\tne\t330\tblo\t23\tgOJs\t5\tIv\t1\tvoss\n",
      "21980\trJa\t329\tpras\t23\tEt\t5\tik\t1\tvlo\n",
      "21852\tmuJ\t321\tjuW\t23\tesp\t5\thra\t1\tvJeW\n",
      "21730\tmaJs\t321\tbrAW\t23\tbl1\t5\thob\t1\tvJAs\n",
      "21666\ttes\t314\t1W\t23\t#\t5\thJors\t1\tvIs\n",
      "21579\ttE\t313\tSos\t22\tzuJs\t5\thip\t1\tvin\n",
      "21232\tki\t312\tpuW\t22\ttran\t5\thayA\t1\tveWs\n",
      "21159\tro\t308\ts$\t22\ttay\t5\tgWir\t1\tvEt\n",
      "20657\tzi\t308\tgraW\t22\tsW7\t5\tgW7W\t1\tvAg\n",
      "18657\trAW\t306\tbir\t22\tSU\t5\tgrU\t1\tv7W\n",
      "18556\tser\t305\tTJAs\t22\tsop\t5\tgrir\t1\tv7n\n",
      "18543\tri\t304\ttruJr\t22\tpraJ\t5\tgreW\t1\tv3\n",
      "18133\tver\t300\tgWas\t22\tpir\t5\tgoyEJ\t1\tv2\n",
      "18031\ttos\t299\tven\t22\tp5r\t5\tgoWr\t1\tv1s\n",
      "18013\tdas\t299\tgus\t22\tneJW\t5\tgler\t1\tuz\n",
      "17949\tfe\t297\trur\t22\tn5s\t5\tgleb\t1\tuy\n",
      "17378\tsJa\t297\tfli\t22\tm2\t5\tgaz\t1\tuWWW\n",
      "17264\tjE\t296\tdr5\t22\tloWJs\t5\tg9\t1\tuWW\n",
      "17093\tnos\t296\tbiW\t22\tlers\t5\tflI\t1\tut\n",
      "16971\tt1\t294\tLes\t22\tl4\t5\tflar\t1\turt\n",
      "16883\tpaW\t292\tjI\t22\tkOJs\t5\tfaJrs\t1\turd\n",
      "16784\tsE\t291\tok\t22\tglu\t5\tex\t1\tun\n",
      "16455\ttro\t289\thI\t22\tgleJ\t5\teJss\t1\tuls\n",
      "16400\tNo\t289\tbI\t22\tfreWd\t5\tdris\t1\tulk\n",
      "16243\tje\t282\tpers\t22\tdroJ\t5\tdley\t1\tuld\n",
      "15697\tre\t282\tgle\t22\tdek\t5\tDIg\t1\tUk\n",
      "15510\tnU\t282\tbroW\t22\tbeJs\t5\tDig\t1\tuJW\n",
      "15441\tdes\t280\tfoW\t21\tv5r\t5\tdep\t1\tuJt\n",
      "15338\tsu\t278\tgras\t21\tTyz\t5\tbrE\t1\tUh\n",
      "15024\tsJo\t272\tfur\t21\ton\t5\tboyer\t1\tuf\n",
      "14861\tter\t270\tvros\t21\tNaW\t5\tbJer\t1\tTyas\n",
      "14412\tl1\t267\tduW\t21\tmOJs\t5\tbiWs\t1\ttWi\n",
      "14012\tmos\t266\tsJA\t21\tkok\t5\tbet\t1\ttw\n",
      "13996\tku\t266\tproJ\t21\tjuk\t5\tbaWd\t1\ttuz\n",
      "13894\tfoJ\t266\tDJe\t21\tin\t5\tbAs\t1\ttUs\n",
      "13804\tSa\t263\tkr5\t21\teWr\t5\tap\t1\ttun\n",
      "13710\tbe\t262\tfreJ\t21\tbr!\t5\t7W\t1\ttuJs\n",
      "13381\tSo\t262\tflE\t20\ttAWs\t5\t$s\t1\ttSoW\n",
      "13269\tkWA\t261\tbAW\t20\ttah\t4\tzWar\t1\ttSIg\n",
      "13161\tper\t258\ttrEJ\t20\tsyW\t4\tzWA\t1\ttSek\n",
      "13061\ttar\t257\tOg\t20\tset\t4\tzur\t1\ttSed\n",
      "13060\tb6\t257\tnuJ\t20\tneJs\t4\tzov\t1\ttSaJ\n",
      "13002\tmes\t257\tniW\t20\tkJev\t4\tzet\t1\tt!s\n",
      "12904\tres\t253\tpreJ\t20\tjik\t4\tzAWs\t1\ttrWar\n",
      "12612\tho\t253\th5\t20\tjeJs\t4\tvrov\t1\ttroz\n",
      "12572\tkoJ\t253\tbur\t20\thap\t4\tvoJ\t1\ttrols\n",
      "12499\tzer\t251\tgW7s\t20\tfuW\t4\tvlI\t1\ttrOg\n",
      "12208\tpar\t250\triW\t20\tdEt\t4\tvek\t1\ttrJes\n",
      "12137\tzE\t249\tpiz\t20\tbayer\t4\tvah\t1\ttrJe\n",
      "12113\tkar\t247\tksAW\t19\tWer\t4\tv5W\t1\ttrJA\n",
      "12081\tfor\t246\thAW\t19\tW\t4\ttSo\t1\ttriS\n",
      "12016\tlu\t244\tluJ\t19\ttrE\t4\ttrad\t1\ttrir\n",
      "12013\tles\t244\tgla\t19\tt9\t4\ttrab\t1\ttrip\n",
      "11996\tgos\t241\tsuJ\t19\tsay\t4\ttli\t1\ttrim\n",
      "11961\tfo\t240\tproW\t19\tpud\t4\ttled\t1\ttrid\n",
      "11793\tbo\t239\tpJos\t19\tot\t4\ttir\t1\ttrey\n",
      "11783\tgu\t238\tfJan\t19\tmad\t4\ttey\t1\ttred\n",
      "11732\tdE\t236\tt$\t19\tlJers\t4\ttells\t1\ttraS\n",
      "11390\tzo\t236\tjJas\t19\tks7\t4\ttEd\t1\ttoz\n",
      "11331\tleJ\t234\tpJA\t19\tk!s\t4\ttad\t1\ttlus\n",
      "11241\tA\t232\tbEs\t19\tkol\t4\tsWar\t1\ttlO\n",
      "11123\tpi\t229\t1r\t19\tJI\t4\tsUs\t1\ttlJer\n",
      "10999\tj1\t228\tbOs\t19\tgrE\t4\tSrys\t1\ttl2\n",
      "10965\tdu\t225\ttr!\t19\tgrAWs\t4\tSre\t1\ttjet\n",
      "10933\tLo\t224\tney\t19\tfrJos\t4\tSot\t1\tTJers\n",
      "10891\tmA\t222\tlEJ\t19\tard\t4\tSoJ\t1\tTJefs\n",
      "10802\tkA\t222\tkrus\t18\tzoJ\t4\tslot\t1\tTJef\n",
      "10730\taJs\t222\tbros\t18\tTIg\t4\tsleJ\t1\tTJad\n",
      "10608\tbra\t221\tSes\t18\tsJO\t4\tsik\t1\ttjA\n",
      "10417\tsOJs\t218\tprJo\t18\tr$\t4\tSid\t1\tTiWs\n",
      "10236\trJo\t218\tm5s\t18\tpl1\t4\tseg\t1\tTit\n",
      "9964\tt5\t218\tges\t18\tp1W\t4\tsat\t1\ttIs\n",
      "9875\tmu\t215\ttle\t18\tn$W\t4\tsaf\t1\tTiJ\n",
      "9803\tvoW\t214\tkso\t18\tmaz\t4\ts4W\t1\tTig\n",
      "9770\tbi\t212\taWs\t18\tlur\t4\ts1W\t1\ttEp\n",
      "9630\tLa\t211\tzor\t18\tkoWr\t4\tr!s\t1\ttels\n",
      "9544\tseJ\t210\tkl7\t18\tkay\t4\trez\t1\ttEg\n",
      "9418\tvaJ\t209\tfreW\t18\tk2\t4\trek\t1\ttays\n",
      "9357\tji\t209\tdres\t18\tgres\t4\trAt\t1\ttaWt\n",
      "9146\tha\t209\tbres\t18\tgAs\t4\trad\t1\ttaWr\n",
      "9120\tze\t208\tlU\t18\tg4\t4\tproWs\t1\ttars\n",
      "9009\tgar\t208\tkaJr\t18\tflat\t4\tpr5Js\t1\ttab\n",
      "8920\ttas\t207\tjJe\t18\tfalls\t4\tpot\t1\tTa\n",
      "8659\tjo\t206\tjos\t18\tdrJA\t4\tplJe\t1\tt9J\n",
      "8628\ttaW\t203\tgaJs\t18\tdrey\t4\tpit\t1\tT9\n",
      "8582\tseW\t202\tjuJs\t18\tdr7\t4\tpen\t1\tt5s\n",
      "8513\tAW\t202\tfJo\t18\tdr1\t4\tpeg\t1\tt#\n",
      "8444\tJo\t201\tdru\t18\tbles\t4\tpak\t1\tSWa\n",
      "8443\ttoW\t199\tfran\t18\tbl5\t4\tp6\t1\tsW\n",
      "8407\ttre\t199\tf!r\t17\ttWas\t4\tp2\t1\tSuk\n",
      "8361\tja\t198\theJs\t17\ttSer\t4\tp$W\t1\tSuJ\n",
      "8215\tlar\t195\tfr7\t17\ttr5\t4\tord\t1\tsuj\n",
      "8201\tSe\t195\tbran\t17\ttlet\t4\tnW7\t1\tsUd\n",
      "8174\ts!\t193\tTJe\t17\tSop\t4\tNUs\t1\tSub\n",
      "8140\tgU\t193\tjeW\t17\tsap\t4\tnur\t1\tS!s\n",
      "7917\tnaW\t193\tgEJ\t17\tplJA\t4\tn!r\t1\tsrI\n",
      "7892\tnas\t192\tTIs\t17\tnov\t4\tnoJs\t1\tsrek\n",
      "7742\tses\t192\tjoW\t17\tnot\t4\tnJi\t1\tSra\n",
      "7694\tmar\t192\thaJ\t17\tn5r\t4\tnJes\t1\tsoz\n",
      "7406\tgra\t191\tdras\t17\tm!r\t4\tniWs\t1\tsoy\n",
      "7383\tky\t191\tbrJo\t17\tmars\t4\tNek\t1\tsoWf\n",
      "7376\tdeJ\t190\tSeW\t17\tm#\t4\tnat\t1\tSOs\n",
      "7248\tmeW\t190\tkluJ\t17\tlet\t4\tnaS\t1\tSno\n",
      "7178\tves\t189\tSI\t17\tlak\t4\tmWay\t1\tSmEJ\n",
      "7108\tpu\t189\tblog\t17\tklW7\t4\tmWa\t1\tSmE\n",
      "7099\tkos\t188\tv!s\t17\tf5r\t4\tmra\t1\tSmar\n",
      "7095\tlJa\t188\tlaW\t17\tDid\t4\tmOt\t1\tSmA\n",
      "6950\thi\t188\thar\t17\tbr7\t4\tmJA\t1\tSlu\n",
      "6949\tlis\t186\tleJs\t17\tblar\t4\tmit\t1\tslu\n",
      "6887\ta&a\t182\ts5r\t17\tb$\t4\tmik\t1\tSlo\n",
      "6885\tbaJ\t181\tmaJ\t16\tWE\t4\tmIg\t1\tslAW\n",
      "6762\tfeJ\t180\tmAs\t16\tvys\t4\tm6\t1\tslAs\n",
      "6657\t1\t179\ttraJ\t16\tv!r\t4\tlix\t1\tSla\n",
      "6645\tpoJs\t179\tkJe\t16\tuJ\t4\tlek\t1\tsJOs\n",
      "6610\tDis\t178\tSis\t16\ttroJ\t4\tleb\t1\tSJev\n",
      "6528\tkor\t178\tjJos\t16\tSor\t4\tlaz\t1\tsJers\n",
      "6514\tar\t177\tt7s\t16\tSiJ\t4\tlav\t1\tSJer\n",
      "6479\ttor\t177\tk$\t16\tred\t4\tlad\t1\tsJen\n",
      "6429\tr1\t177\tdU\t16\tpley\t4\tkWos\t1\tSJar\n",
      "6415\tbre\t176\tdWos\t16\tNi\t4\tkSI\t1\tsJalb\n",
      "6358\tdor\t175\tgys\t16\tmay\t4\tkrI\t1\tSIt\n",
      "6344\tbEJ\t175\tfl1\t16\tL1\t4\tkoy\t1\tsist\n",
      "6307\tber\t173\trus\t16\tkles\t4\tkly\t1\tSIs\n",
      "6234\tnu\t173\tpl1s\t16\tkleJ\t4\tkJes\t1\tsiS\n",
      "6157\tkre\t172\ttl5\t16\t!J\t4\tkJer\t1\tSip\n",
      "6145\tpoW\t172\tprJos\t16\tIk\t4\tkEs\t1\tsin\n",
      "6082\tt!\t172\th$\t16\tgWe\t4\tkeJs\t1\tsiJr\n",
      "6068\trar\t172\tbJA\t16\tg$s\t4\tjiz\t1\tSIg\n",
      "6031\tveW\t169\tTJO\t16\tfras\t4\tJip\t1\tseWf\n",
      "5977\tvE\t169\tgoWs\t16\tflWo\t4\tjet\t1\tSev\n",
      "5952\tsoW\t168\tb7\t16\tfEJ\t4\tjels\t1\tsev\n",
      "5950\trA\t167\tgWaJ\t16\tfed\t4\tirs\t1\tSEs\n",
      "5906\tis\t166\ts8\t16\tf6s\t4\tIp\t1\tsers\n",
      "5830\tdar\t166\tl$\t16\tdroJd\t4\thoy\t1\tsells\n",
      "5757\tNe\t166\tkr1\t16\tdle\t4\theg\t1\tseh\n",
      "5684\tl7\t165\tplu\t16\tden\t4\tguy\t1\tseb\n",
      "5641\tras\t165\tgWeW\t16\tbraJ\t4\tgran\t1\tsax\n",
      "5591\tlE\t165\tg1s\t16\tbah\t4\tgors\t1\tSAWs\n",
      "5579\tpE\t164\tf!\t15\tvAs\t4\tglAW\t1\tsaWs\n",
      "5577\tder\t162\tdaW\t15\ttW7\t4\tglA\t1\tsaWrs\n",
      "5525\tzas\t161\tprir\t15\ttrOJs\t4\tfrOt\t1\tSaWd\n",
      "5496\tpO\t160\tplJa\t15\ttriW\t4\tfOJs\t1\tSars\n",
      "5455\t5\t160\tlJos\t15\ttan\t4\tflWos\t1\tsars\n",
      "5425\thu\t159\tusp\t15\tr%\t4\tfles\t1\tSAp\n",
      "5390\tvJa\t159\tnus\t15\tpuh\t4\tfJed\t1\tsals\n"
     ]
    },
    {
     "name": "stdout",
     "output_type": "stream",
     "text": [
      "5340\tir\t159\tleW\t15\tplays\t4\tfIg\t1\tSaJss\n",
      "5244\tsA\t158\tg1\t15\tpJE\t4\tfaJr\t1\tSaJs\n",
      "5221\trE\t158\tdWa\t15\toWr\t4\tf1s\t1\tSaJrs\n",
      "5203\tpos\t157\thor\t15\tnoWs\t4\tf1r\t1\tsah\n",
      "5144\tO\t156\thJa\t15\tners\t4\teWs\t1\ts9\n",
      "5105\tkas\t155\tpus\t15\tmy\t4\tesk\t1\ts7s\n",
      "5097\traW\t155\tfus\t15\tlJes\t4\tert\t1\ts7r\n",
      "5066\tlas\t154\tplos\t15\tkIs\t4\teJrd\t1\ts6W\n",
      "5036\tjEJ\t152\tgun\t15\tjoy\t4\tdrJe\t1\ts2W\n",
      "4966\tdeW\t151\tt1s\t15\thEs\t4\tdrag\t1\ts1s\n",
      "4959\tJa\t151\tseJs\t15\tgWo\t4\tdmO\t1\ts$W\n",
      "4904\thes\t151\t5r\t15\tgW7\t4\tdlA\t1\trys\n",
      "4873\tpri\t149\tnJos\t15\tgray\t4\tdeh\t1\tryIg\n",
      "4842\tgrA\t148\tSOJs\t15\tfrAW\t4\tdeb\t1\tryA\n",
      "4813\tmU\t148\tnJe\t15\tfaz\t4\tdak\t1\trW7\n",
      "4796\tju\t148\tj$\t15\tet\t4\td5W\t1\trW\n",
      "4756\tDJa\t147\tDJE\t15\tDJO\t4\tbug\t1\trut\n",
      "4747\tker\t147\tb!\t14\tzJE\t4\tbser\t1\truj\n",
      "4743\tsEJ\t146\tv8\t14\tvus\t4\tbrU\t1\trub\n",
      "4702\tkaW\t146\thEJ\t14\tup\t4\tbrJoz\t1\trs\n",
      "4697\tkoW\t143\tdWo\t14\ttlo\t4\tbraJt\t1\trols\n",
      "4624\tbro\t142\tLeW\t14\tt1r\t4\tbr5\t1\trof\n",
      "4580\tkri\t141\tvJas\t14\tSO\t4\tbOb\t1\trJu\n",
      "4571\tbu\t139\tvJar\t14\tprat\t4\tbJas\t1\trJen\n",
      "4532\tm7\t139\tgAWs\t14\tplus\t4\tbiz\t1\trJ1\n",
      "4521\tzAW\t139\tfeW\t14\tplI\t4\tbib\t1\trit\n",
      "4405\tby\t138\tTJos\t14\tplAt\t4\tbayo\t1\trin\n",
      "4383\tvAW\t138\tgr7\t14\tors\t4\taya\t1\triJ\n",
      "4354\tros\t136\tzus\t14\tnik\t4\tash\t1\trig\n",
      "4348\tnor\t136\tsWa\t14\tnet\t4\tal\t1\trib\n",
      "4335\tteJ\t136\tsef\t14\tness\t3\tzey\t1\tret\n",
      "4293\tSi\t136\tJoW\t14\tkWAW\t3\tzers\t1\trEs\n",
      "4278\ttri\t135\tdrJa\t14\tklub\t3\tzem\t1\trays\n",
      "4258\tnes\t134\ttrI\t14\tklaWs\t3\tzek\t1\trAd\n",
      "4245\tloW\t134\tDIs\t14\tkers\t3\tzeJs\t1\tr6s\n",
      "4191\tsar\t133\tSy\t14\tjay\t3\tzAs\t1\tr4\n",
      "4130\tbO\t133\tsen\t14\tj6\t3\tzaf\t1\tr0\n",
      "4080\tfes\t133\tnuJr\t14\tJ$\t3\tvuJ\t1\tpyt\n",
      "4067\tkuW\t133\tJar\t14\tIss\t3\tvoWs\t1\tpyOg\n",
      "3989\tgy\t131\tz5r\t14\tfluJr\t3\tvol\t1\tpsO\n",
      "3967\treJ\t131\tgrJa\t14\tdr1s\t3\tvlO\t1\tpr!Wr\n",
      "3960\tfU\t130\tvid\t14\tbW7\t3\tvip\t1\tpr!r\n",
      "3944\tbas\t130\tg5r\t14\tblO\t3\tvIg\t1\tprJor\n",
      "3942\tdA\t129\ttWar\t14\tblas\t3\tvez\t1\tprJA\n",
      "3921\tzar\t129\ttEs\t13\tzIs\t3\tvad\t1\tprIs\n",
      "3903\tnEJ\t129\tj!\t13\ttseW\t3\tUb\t1\tprer\n",
      "3880\tkla\t129\tgO\t13\ttley\t3\ttroy\t1\tpray\n",
      "3873\th1\t129\tdoJ\t13\ttjer\t3\ttrJos\t1\tpr$\n",
      "3833\ttros\t127\this\t13\tTik\t3\ttoWs\t1\tpoWJW\n",
      "3829\tkWa\t126\tsJes\t13\tteWr\t3\ttoJs\t1\tpov\n",
      "3783\tmer\t125\tloJ\t13\tsun\t3\ttoJr\t1\tpOs\n",
      "3781\tfas\t125\tbrO\t13\tsp\t3\ttog\t1\tpoJr\n",
      "3753\tgWa\t124\tJ1s\t13\tSiW\t3\ttAs\t1\tpod\n",
      "3750\tpy\t123\tzJas\t13\tsit\t3\tt4\t1\tplIg\n",
      "3719\tgoW\t123\tfJos\t13\tplis\t3\tsra\t1\tpleW\n",
      "3710\tsiW\t121\tmaJW\t13\tpJes\t3\tsoWs\t1\tpler\n",
      "3683\tpaJ\t121\tbuJr\t13\tpaWs\t3\tsOg\t1\tplEJ\n",
      "3664\tlA\t119\ttrO\t13\tnJO\t3\tsJosp\t1\tplaz\n",
      "3648\tbri\t118\tvJos\t13\tmIs\t3\tsJor\t1\tpje\n",
      "3633\tjeJ\t118\ttuJr\t13\tled\t3\tsiWr\t1\tpja\n",
      "3621\tziW\t117\tteWs\t13\tkrar\t3\tsag\t1\tpiWs\n",
      "3618\tnis\t117\tSmi\t13\tklas\t3\tSAd\t1\tpez\n",
      "3607\tplo\t117\tlip\t13\tkIg\t3\tSad\t1\tpEs\n",
      "3581\tmI\t117\tbraW\t13\tkaWs\t3\trWas\t1\tpeS\n",
      "3537\tnA\t116\tkys\t13\tk$s\t3\trif\t1\tpels\n",
      "3517\tbli\t115\ttr7\t13\tjWa\t3\tr7W\t1\tpEd\n",
      "3487\trJos\t115\tnJor\t13\tid\t3\tpWa\t1\tpaz\n",
      "3435\t$\t115\tgeW\t13\thus\t3\tpug\t1\tpass\n",
      "3429\ttrA\t115\tdros\t13\thoyaW\t3\tpub\t1\tpap\n",
      "3415\tgaW\t115\tblJo\t13\tgrO\t3\tpsi\t1\tpal\n",
      "3394\tsas\t114\tters\t13\tgl$\t3\tprIz\t1\tp9s\n",
      "3354\tkWaW\t114\tdad\t13\tg2\t3\tpris\t1\tp9\n",
      "3335\tpr!\t113\tplJar\t13\tey\t3\tpoWk\t1\tp#\n",
      "3288\tgre\t113\tfro\t13\tDyf\t3\tpors\t1\toy\n",
      "3284\td1\t113\tfraW\t13\tders\t3\tpOJs\t1\toS\n",
      "3218\tm5\t113\tbreW\t13\td7s\t3\tpOg\t1\tolt\n",
      "3204\tor\t112\tgrAW\t13\td2\t3\tpJEs\t1\tol\n",
      "3198\tf7\t111\tzWa\t13\tbrJos\t3\tpJaf\t1\toJs\n",
      "3189\tn!s\t111\ttWo\t13\tbAg\t3\tpet\t1\tOJ\n",
      "3186\tfir\t110\tb5\t13\tAh\t3\tpep\t1\tob\n",
      "3181\tmAW\t108\tlJA\t12\tvers\t3\tped\t1\tnyIg\n",
      "3129\tvEJ\t107\tpl7\t12\ttrus\t3\tp8\t1\tnun\n",
      "3115\tDiW\t107\tkrE\t12\ttler\t3\tp4W\t1\tnoz\n",
      "3107\tzes\t106\tplas\t12\tt2\t3\tnyO\t1\tnol\n",
      "3100\ttres\t106\tboJ\t12\tsWo\t3\tnals\t1\tnoh\n",
      "3080\tge\t105\tWas\t12\tsuJr\t3\tnab\t1\tnod\n",
      "3080\tDy\t105\tNJas\t12\tsJer\t3\tn7W\t1\tnJov\n",
      "3059\tNeJ\t104\tpr5s\t12\tsab\t3\tmys\t1\tnJors\n",
      "3057\tkur\t104\tlIz\t12\ts6\t3\tmJ1\t1\tnJak\n",
      "3024\tlos\t104\tfrer\t12\trj\t3\tmeyi\t1\tniWr\n",
      "3013\tkOs\t103\tS7\t12\tplayer\t3\tman\t1\tnit\n",
      "3008\tneJ\t102\tlJe\t12\tmers\t3\tm4\t1\tnirs\n",
      "2980\tkEJ\t102\tk1W\t12\tm7s\t3\tlWar\t1\tneWp\n",
      "2977\tmeJ\t102\td6\t12\tLu\t3\tlW\t1\tnep\n",
      "2947\tn1\t101\ttSaW\t12\tloWr\t3\tluz\t1\tnek\n",
      "2943\troW\t99\tvaJs\t12\tlik\t3\tlut\t1\tNeJt\n",
      "2930\tbA\t98\tmg\t12\tlep\t3\tlug\t1\tnef\n",
      "2918\tble\t98\tkeW\t12\tksJa\t3\tl!s\t1\tnaWx\n",
      "2913\trJas\t98\tfAs\t12\tkom\t3\tloWt\t1\tNAWs\n",
      "2858\tkes\t98\tdrOJs\t12\tkiW\t3\tloWJ\t1\tnaWf\n",
      "2847\tTir\t97\trOJs\t12\tkap\t3\tlot\t1\tnAt\n",
      "2822\tDJo\t97\tnaWs\t12\tk1r\t3\tlJEs\t1\tNaJs\n",
      "2813\tpli\t97\tdAWs\t12\thuJs\t3\tlJeS\t1\tnAd\n",
      "2805\tvis\t96\tTJas\t12\thiS\t3\tless\t1\tN7s\n",
      "2782\tfu\t96\ttaJ\t12\tgrJas\t3\tkWE\t1\tN7\n",
      "2758\tvos\t96\tnWo\t12\tf!s\t3\tkWAd\t1\tN6\n",
      "2743\trJor\t96\tkluJr\t12\tfroW\t3\tkSJa\t1\tn5W\n",
      "2738\ttru\t95\tNOJs\t12\tflaW\t3\tkSe\t1\tN5\n",
      "2719\tkeJ\t95\tlJan\t12\tflA\t3\tkry\t1\tn4W\n",
      "2631\tboW\t95\tf6\t12\tdreW\t3\tkror\t1\tn4\n",
      "2615\tsaW\t94\tprA\t12\tdli\t3\tkr$\t1\tmyers\n",
      "2605\tLar\t94\tod\t12\tDiWr\t3\tkr!\t1\tmWo\n",
      "2586\tdoW\t94\tbl0\t12\tbrus\t3\tkols\t1\tmud\n",
      "2551\tt7\t93\tSaW\t12\tblik\t3\tklWa\t1\tm!s\n",
      "2545\ts1\t93\tfr1\t12\t5W\t3\tkley\t1\tmoWs\n",
      "2538\tbar\t92\tgI\t11\tzun\t3\tklaJr\t1\tmols\n",
      "2523\tzis\t92\tfrus\t11\tz5s\t3\tkip\t1\tmlet\n",
      "2522\tlI\t91\treW\t11\tTyar\t3\tkal\t1\tmJya\n",
      "2520\tm1\t91\tpeWs\t11\ttrJE\t3\tk5r\t1\tmJO\n",
      "2520\tJor\t91\tgrar\t11\ttles\t3\tk#\t1\tmJEt\n",
      "2477\tp$\t90\tzaJs\t11\ttlas\t3\tJyat\t1\tmJer\n",
      "2470\tklu\t90\tp5s\t11\tTJOs\t3\tjUp\t1\tmJah\n",
      "2446\tkrJan\t90\tfos\t11\tTip\t3\tjirls\t1\tmJ7\n",
      "2440\tnar\t89\tvJer\t11\ttat\t3\tjeWs\t1\tmiWr\n",
      "2439\tfuJ\t89\tprJas\t11\tt8\t3\tjeh\t1\tmiss\n",
      "2438\tLos\t89\tnJas\t11\tsub\t3\tJak\t1\tmim\n",
      "2434\tprI\t89\tkOg\t11\tSm5\t3\tjaJs\t1\tmiJ\n",
      "2424\trEJ\t89\thay\t11\tSl7\t3\tj1s\t1\tmib\n",
      "2391\tvas\t88\ttraJr\t11\tsip\t3\thuJr\t1\tmerh\n",
      "2391\tmaW\t88\tpru\t11\tSat\t3\thOJs\t1\tmaWt\n",
      "2377\tdAW\t88\tm1r\t11\tsAs\t3\thJer\t1\tmaS\n",
      "2366\tmoW\t88\tfloJ\t11\ts4\t3\thIs\t1\tmap\n",
      "2361\t7s\t87\tTin\t11\trEt\t3\thad\t1\tmaJr\n",
      "2333\ttras\t87\ts!r\t11\trak\t3\th6\t1\tmaJd\n",
      "2326\ttWa\t87\tgros\t11\tpuls\t3\t!h\t1\tlyas\n",
      "2283\tseWs\t87\tflor\t11\tpreS\t3\tguz\t1\tlWas\n",
      "2278\tfrE\t87\tbJos\t11\tpJaz\t3\tgriW\t1\tlWA\n",
      "2259\tIs\t86\tbWe\t11\tpay\t3\tgrEJ\t1\tluy\n",
      "2258\tty\t85\tdreJ\t11\tnWas\t3\tgreb\t1\tluW\n",
      "2247\tpla\t85\tbrJa\t11\tnay\t3\tgraf\t1\tlUSs\n",
      "2246\thos\t85\tAs\t11\tn7s\t3\tgot\t1\tlub\n",
      "2222\tjJa\t84\ttWA\t11\tmJe\t3\tgOJ\t1\tloz\n",
      "2219\tlAW\t84\ttlA\t11\tm9\t3\tgOg\t1\tlop\n",
      "2203\tkWar\t84\tSJa\t11\tkut\t3\tgni\t1\tlOg\n",
      "2193\tru\t84\tbreJ\t11\tk%\t3\tglJos\t1\tLOes\n",
      "2190\tzJa\t83\trWa\t11\tj5\t3\tgAg\t1\tll\n",
      "2182\ts7\t83\tm3\t11\tIt\t3\tfUd\t1\tlJyah\n",
      "2173\tgru\t83\tfIs\t11\tim\t3\tfry\t1\tlJot\n",
      "2118\ttur\t82\thJos\t11\thU\t3\tfrW7\t1\tlJO\n",
      "2118\tgas\t81\tti\t11\than\t3\tfrid\t1\tlJev\n",
      "2110\tdEJ\t81\tpys\t11\tgWA\t3\tflip\t1\tliWr\n",
      "2110\tbrI\t81\tmUs\t11\tgroWp\t3\tfleJs\t1\tlit\n",
      "2100\tjU\t81\tmJas\t11\tglaW\t3\tfAWs\t1\tliS\n",
      "2098\t$W\t81\tklaW\t11\tfys\t3\teyes\t1\tlIp\n",
      "2095\tzoW\t81\tj4\t11\tfrAs\t3\terj\t1\tlih\n",
      "2088\tLor\t80\tvJA\t11\tek\t3\tells\t1\tlid\n",
      "2081\tlO\t80\tm$W\t11\tdrar\t3\teg\t1\tlEt\n",
      "2071\tmJa\t80\tley\t11\tdoy\t3\tEd\t1\tleJr\n",
      "2053\tfaW\t80\tk!r\t11\t%\t3\tdW\t1\tleJb\n",
      "2050\tpes\t79\tp!r\t10\tzop\t3\tdrE\t1\tleg\n",
      "2047\tTI\t79\tbla\t10\tzog\t3\tdla\t1\tlef\n",
      "2036\tvJo\t78\trJA\t10\tWI\t3\tDJ\t1\tlays\n",
      "2030\tmor\t78\traJ\t10\tvJes\t3\tDit\t1\tLaWd\n",
      "2025\ttrAs\t78\thuJ\t10\tvik\t3\tdeye\t1\tlaJt\n",
      "2021\tv1\t78\tglas\t10\tvak\t3\tded\t1\tlaj\n",
      "2012\thE\t78\tad\t10\tv9\t3\tdav\t1\tlAg\n",
      "2006\tLer\t77\tl7s\t10\tv1W\t3\td7W\t1\tlaf\n",
      "1990\tpas\t76\ttus\t10\ttrW7\t3\td5r\t1\tlab\n",
      "1976\tTis\t76\ttU\t10\ttrJer\t3\tbriS\t1\tl7n\n",
      "1973\tvA\t75\ttek\t10\ttoyo\t3\tbrEt\t1\tl3\n",
      "1966\tmO\t75\tpJe\t10\ttaj\t3\tbot\t1\tkWes\n",
      "1947\tn7\t75\tkUs\t10\tSmu\t3\tboss\t1\tkWav\n",
      "1931\tgA\t75\tgay\t10\tsAg\t3\tbloJ\t1\tkWaJ\n",
      "1915\tvar\t75\tfJar\t10\trUs\t3\tblEs\t1\tkW2\n",
      "1913\tsJas\t74\trJes\t10\tr1r\t3\tblEd\t1\tkuyp\n",
      "1893\tfer\t74\tn1s\t10\tpress\t3\tblaW\t1\tkun\n",
      "1888\tguJ\t74\tgWaJs\t10\tny\t3\tbje\t1\tkum\n",
      "1885\tp5\t74\tfres\t10\tnaf\t3\tbeJg\t1\tkuJt\n",
      "1863\tple\t73\ttOs\t10\tn8\t3\tbed\t1\tkuJr\n",
      "1850\ttrar\t73\tdon\t10\tmig\t3\tbaye\t1\tkub\n",
      "1837\tpeJ\t72\tzU\t10\tlIg\t3\tban\t1\tkSu\n",
      "1824\tjus\t72\ttrJas\t10\tkras\t3\tbag\t1\tksJas\n",
      "1820\tk1\t72\ttr!J\t10\tkob\t3\tbad\t1\tksi\n",
      "1813\tnaJs\t72\tlyo\t10\tkaf\t3\tbab\t1\tkrUb\n",
      "1796\tnoJ\t72\tkWo\t10\tk1s\t3\tb8\t1\tkroys\n",
      "1795\tp!s\t72\tdraW\t10\tJ1\t3\tb5r\t1\tkrod\n",
      "1795\theW\t72\tdoJs\t10\tip\t3\tb2\t1\tkrJE\n",
      "1790\tTy\t72\tbuW\t10\tgaJr\t3\tasp\t1\tkr2\n",
      "1781\tk7\t71\ttraJs\t10\tg8\t3\tam\t1\tkr$s\n",
      "1771\tsos\t71\tpleJ\t10\tfruJr\t3\talt\t1\tkoWt\n",
      "1766\tNor\t71\tlIs\t10\tfrey\t3\talls\t1\tkoWs\n",
      "1756\ts5\t71\tblu\t10\tfOt\t3\tAk\t1\tkOt\n",
      "1746\tteW\t70\ttruJ\t10\tfJes\t3\taJg\t1\tkoJr\n",
      "1733\tjJo\t70\tN!\t10\teJW\t3\t4W\t1\tkoJn\n",
      "1728\tDJas\t70\tlen\t10\tbrAs\t3\t1Js\t1\tklWo\n",
      "1725\tLe\t70\tJA\t10\tbob\t3\t\t1\tkluW\n",
      "1717\tfI\t70\thed\t10\tAd\t2\tzuJ\t1\tklJa\n",
      "1714\tveJs\t69\tzeWs\t9\tzJer\t2\tzla\t1\tkleo\n",
      "1712\tSar\t69\tvu\t9\tzIg\t2\tzJ\t1\tklAW\n",
      "1706\tNas\t69\tl1s\t9\tvaJr\t2\tzig\t1\tklass\n",
      "1704\tl6\t69\tglJo\t9\ttok\t2\tzed\t1\tklAs\n",
      "1693\tNAW\t68\tv!W\t9\ttam\t2\tz6s\t1\tkJess\n",
      "1683\tzuW\t68\tsiWs\t9\tSWo\t2\tWay\t1\tkish\n",
      "1674\tUs\t68\tpEJ\t9\tsoJs\t2\tWad\t1\tkeWp\n",
      "1674\tsor\t68\tg7s\t9\tsle\t2\tvur\t1\tkEt\n",
      "1670\tnI\t68\tfaWs\t9\tSJA\t2\tvrA\t1\tkels\n",
      "1669\tvI\t67\tlJw\t9\tSeWs\t2\tvoy\t1\tkaw\n",
      "1667\tbus\t66\ttoWr\t9\tsek\t2\tvoJr\t1\tjWA\n",
      "1649\tLOJs\t66\tpop\t9\trJO\t2\tvlut\t1\tjUg\n",
      "1633\thoW\t66\tnO\t9\treJs\t2\tvJor\t1\tj!s\n",
      "1630\tiW\t66\tmen\t9\traWs\t2\tvet\t1\tjors\n",
      "1624\tviW\t66\tl2\t9\tr2\t2\tvay\t1\tjoJ\n",
      "1610\tdro\t65\ttop\t9\tp1g\t2\tvAWs\t1\tjOh\n",
      "1603\taJ\t65\tted\t9\toz\t2\tvav\t1\tjob\n",
      "1597\tus\t65\tSris\t9\tnya\t2\tuh\t1\tjnoW\n",
      "1597\tprE\t64\trO\t9\tnOJs\t2\tTyS\t1\tjJyad\n",
      "1580\tgeJ\t64\tpU\t9\tm8\t2\ttys\t1\tjJAg\n",
      "1577\tsis\t64\tLis\t9\tm1W\t2\ttuW\t1\tjIz\n",
      "1575\tpaJs\t63\tTJes\t9\tkrAW\t2\ttup\t1\tjiy\n",
      "1546\tzos\t63\tt5r\t9\tklay\t2\ttuf\t1\tjIs\n",
      "1527\tr7\t63\tklis\t9\tkJar\t2\ttSup\t1\tjij\n",
      "1525\tg!\t62\tnJE\t9\tket\t2\ttSEJ\t1\tjess\n",
      "1505\tgUs\t62\tlJAs\t9\tjJor\t2\ttS5\t1\tjEg\n",
      "1503\t6\t62\tlaJ\t9\tJeW\t2\ttS\t1\tJE\n",
      "1498\tfA\t62\tJe\t9\tJ5\t2\ttruz\t1\tjaz\n",
      "1491\tris\t62\tblJa\t9\thy\t2\ttrOs\t1\tjays\n"
     ]
    },
    {
     "name": "stdout",
     "output_type": "stream",
     "text": [
      "1482\tran\t62\t5Js\t9\thot\t2\ttroJt\t1\tjaWss\n",
      "1481\tsO\t61\tteJs\t9\thJe\t2\ttroh\t1\tJat\n",
      "1468\tNA\t61\tpriW\t9\thiz\t2\ttrik\t1\tjAt\n",
      "1468\tfre\t61\tNan\t9\thik\t2\ttrEd\t1\tjAs\n",
      "1455\tTJa\t61\tgon\t9\tgWiW\t2\ttraz\t1\tjak\n",
      "1455\t!\t60\tklI\t9\tgret\t2\ttrak\t1\tjah\n",
      "1453\tsuW\t59\tsaJs\t9\tgox\t2\ttoy\t1\tJ7\n",
      "1449\tNos\t59\tplay\t9\tgOs\t2\ttoWt\t1\tj5r\n",
      "1440\tjor\t59\tly\t9\tgoJ\t2\ttoS\t1\tj2\n",
      "1432\tf1\t59\tgays\t9\tf%\t2\tton\t1\tiyah\n",
      "1431\tjis\t58\tvres\t9\ted\t2\ttof\t1\tiWls\n",
      "1429\tmis\t58\tv6\t9\tDys\t2\ttmaW\t1\tIst\n",
      "1428\tkE\t58\tOs\t9\tduJ\t2\ttlis\t1\tih\n",
      "1425\tnJo\t58\tOk\t9\td!s\t2\ttlAd\t1\tig\n",
      "1398\tjar\t58\tnIt\t9\tdr5s\t2\tTJar\t1\tif\n",
      "1392\tkis\t58\tlOJs\t9\tdOs\t2\tTiv\t1\thWo\n",
      "1381\tpI\t58\tLE\t9\tDJap\t2\tTiJs\t1\thuI\n",
      "1379\tg6J\t58\tgli\t9\tdaJs\t2\tteWz\t1\th!s\n",
      "1367\tsWas\t58\tDJar\t9\td5s\t2\ttess\t1\thrE\n",
      "1360\tnJa\t58\tdaJ\t9\tbris\t2\tteS\t1\thoWl\n",
      "1350\theJ\t57\tkres\t9\tb1W\t2\ttem\t1\thors\n",
      "1340\tmEJ\t57\tah\t9\t9\t2\ttaz\t1\thleJ\n",
      "1333\tl!\t56\tWe\t8\tzAg\t2\ttak\t1\thJu\n",
      "1332\ttr1s\t56\ttrEs\t8\tz9\t2\ttaJW\t1\thJosp\n",
      "1330\ttO\t56\tSef\t8\tz$s\t2\ttag\t1\thJers\n",
      "1329\tsJe\t56\tplE\t8\tv7r\t2\tsup\t1\thJad\n",
      "1326\tfiW\t56\tmoJ\t8\ttmJe\t2\tSri\t1\thIg\n",
      "1321\tkAW\t56\tkir\t8\tTif\t2\tSreJ\t1\then\n",
      "1315\th7\t56\tfrJa\t8\ttAg\t2\tsot\t1\thaWh\n",
      "1300\tkaJ\t56\tb$r\t8\tt1W\t2\tSme\t1\thaS\n",
      "1290\tren\t55\tzJe\t8\tsUg\t2\tSJO\t1\thAp\n",
      "1279\tgAW\t55\ttrJo\t8\tSolls\t2\tsJerj\t1\thaJo\n",
      "1275\tfra\t55\tpte\t8\tSmo\t2\tsiJ\t1\thah\n",
      "1267\tLA\t55\tpan\t8\tseJg\t2\tsif\t1\tgzag\n",
      "1260\tjEs\t55\tlAd\t8\tS$\t2\tsie\t1\tgyp\n",
      "1248\tSu\t55\tjO\t8\trIs\t2\tSeya\t1\tgyo\n",
      "1246\tv7\t54\tNE\t8\tpyO\t2\tsess\t1\tgyes\n",
      "1245\tSoW\t54\tkaos\t8\tpon\t2\tSers\t1\tgWos\n",
      "1237\tn$\t54\tat\t8\tpJO\t2\tsem\t1\tgWes\n",
      "1233\ttroW\t53\tsOs\t8\tpid\t2\tSed\t1\tgW8\n",
      "1229\tfrA\t53\trJar\t8\tneWr\t2\tsed\t1\tguJW\n",
      "1214\tkrJa\t53\tklA\t8\tnad\t2\tSaWJ\t1\tgUg\n",
      "1210\tbrA\t53\tkJo\t8\tlars\t2\tsaSs\t1\tgruy\n",
      "1204\tsur\t53\tfluJ\t8\tl5r\t2\tsaS\t1\tgrOs\n",
      "1201\tzA\t53\tboy\t8\tkWan\t2\tsaJW\t1\tgroj\n",
      "1193\tnoW\t53\taJr\t8\tkSJo\t2\tSaJr\t1\tgrJe\n",
      "1193\tlor\t52\tgroW\t8\tkrok\t2\tsaJd\t1\tgriz\n",
      "1185\tfis\t52\tfrEJ\t8\tkroJ\t2\tS!\t1\tgrIg\n",
      "1174\tsaJr\t52\tbJe\t8\tkraW\t2\troz\t1\tgr4\n",
      "1167\tzEJ\t51\tzaJ\t8\tkov\t2\trot\t1\tgov\n",
      "1167\tsJE\t51\tWos\t8\tkars\t2\troJs\t1\tgoh\n",
      "1167\tkuJ\t51\thir\t8\tjEJs\t2\troJd\t1\tgno\n",
      "1162\tp1\t51\thaJs\t8\tiss\t2\trJer\t1\tgma\n",
      "1154\tdan\t51\th!\t8\tIg\t2\trJah\t1\tglU\n",
      "1153\ttuJ\t51\tfJas\t8\thep\t2\triy\t1\tglJe\n",
      "1151\tmeWs\t51\tdur\t8\th7s\t2\trIk\t1\tglis\n",
      "1145\tpr5\t50\tr!J\t8\tgyAg\t2\trat\t1\tgJo\n",
      "1142\tdeWs\t50\traz\t8\tgWAW\t2\trAs\t1\tgji\n",
      "1135\tbeJ\t50\tr$r\t8\tfruJ\t2\tr9\t1\tgeJs\n",
      "1127\tveJ\t50\tpJas\t8\tfrJo\t2\tpuz\t1\tgEd\n",
      "1109\tSA\t50\tgraWs\t8\tfrI\t2\tpUs\t1\tgat\n",
      "1107\tsaJ\t50\tday\t8\tfrar\t2\tprUs\t1\tgarh\n",
      "1094\tpA\t49\ttoJ\t8\tfat\t2\tprIt\t1\tgap\n",
      "1087\tf5\t49\tplar\t8\ters\t2\tprin\t1\tgah\n",
      "1086\tler\t49\tliW\t8\teh\t2\tprev\t1\tg7W\n",
      "1085\tpsAW\t49\tkros\t8\tdrO\t2\tpr9\t1\tg4s\n",
      "1079\tl5\t49\tk7r\t8\tdriW\t2\tpof\t1\tg1r\n",
      "1074\tm!\t49\tgrI\t8\tdrA\t2\tploW\t1\tg#\n",
      "1073\tm$\t49\tfred\t8\tdog\t2\tplok\t1\tfyIg\n",
      "1068\tfE\t49\tben\t8\tdless\t2\tpl5\t1\tfyf\n",
      "1065\traJs\t49\t2\t8\tdI\t2\tpl3\t1\tfuss\n",
      "1047\tkI\t48\tpsOJs\t8\tbrJAd\t2\tpik\t1\tfuS\n",
      "1044\tbras\t48\tn2\t8\tbraJs\t2\tpAd\t1\tfrut\n",
      "1043\tdra\t48\tN1\t8\tbr1\t2\tp5W\t1\tfros\n",
      "1042\tz5\t48\tmJos\t8\tboys\t2\toya\t1\tfraJ\n",
      "1039\tTiW\t48\tluJr\t8\tbJO\t2\told\t1\tfr5\n",
      "1035\tNU\t48\tglJa\t8\tbay\t2\toJW\t1\tfr1s\n",
      "1029\tDJA\t48\tfrJe\t8\tayo\t2\tnyAg\t1\tfoy\n",
      "1022\teS\t48\teb\t8\tark\t2\tnyA\t1\tfoWs\n",
      "1018\tbor\t48\tbAd\t8\t5h\t2\tnWan\t1\tfOk\n",
      "1008\tTJo\t48\tak\t7\tzJA\t2\tnuz\t1\tflyIg\n",
      "1007\tDir\t47\tpiW\t7\tvreJ\t2\tNO\t1\tflyI\n",
      "1001\tgWar\t47\tkreW\t7\tUf\t2\tnJA\t1\tflO\n",
      "988\tvuW\t47\tkl!\t7\ttraf\t2\tniJ\t1\tflJa\n",
      "988\tSeJ\t47\tguW\t7\ttr2\t2\tnif\t1\tfleW\n",
      "980\tNar\t47\tdEs\t7\tTJE\t2\tneWf\t1\tfleJ\n",
      "978\tvir\t47\tbig\t7\tsWor\t2\tnAs\t1\tflas\n",
      "971\tgWaW\t46\tvey\t7\tsWA\t2\tnap\t1\tflan\n",
      "966\tjes\t46\tTJA\t7\tSli\t2\tnaJr\t1\tfl5\n",
      "956\trI\t46\tsep\t7\tSJor\t2\tnaJls\t1\tfl$\n",
      "952\tz7\t46\tmur\t7\tsJat\t2\tnaj\t1\tfiz\n",
      "949\ttaJs\t46\tl5s\t7\tsIg\t2\tmWos\t1\tfin\n",
      "947\tfri\t46\tksOJs\t7\tsAWs\t2\tmut\t1\tfeWJW\n",
      "941\tDI\t46\tkren\t7\tS1s\t2\tmul\t1\tfers\n",
      "940\ttreJ\t46\tkJos\t7\trov\t2\tmuk\t1\tfeJs\n",
      "940\tkr7\t46\thuy\t7\tr5s\t2\tmri\t1\tfeJk\n",
      "933\tLeJ\t46\tav\t7\tp!W\t2\tmoya\t1\tfaWt\n",
      "930\tpres\t45\ttrU\t7\tprJar\t2\tmoWd\t1\tfan\n",
      "918\tvaW\t45\tkr9\t7\tpin\t2\tmJers\t1\tfak\n",
      "909\tzu\t44\tv5\t7\tp4\t2\tmiz\t1\tfaJW\n",
      "908\tner\t44\tSJo\t7\tork\t2\tmix\t1\tfag\n",
      "905\tdri\t44\tbrEJ\t7\tNWa\t2\tmayW\t1\tf7s\n",
      "894\tur\t43\tpr4\t7\tnoJr\t2\tmax\t1\tf4\n",
      "878\tpAW\t43\tnip\t7\tnIg\t2\tmans\t1\tf$r\n",
      "874\tfle\t43\tLan\t7\tned\t2\tmalls\t1\tev\n",
      "873\tdy\t43\tfAW\t7\tnah\t2\tmAd\t1\teSs\n",
      "866\td7\t43\tblI\t7\tn3\t2\tm7W\t1\tess\n",
      "865\tlan\t43\tb5W\t7\tmOg\t2\tm%\t1\tesg\n",
      "863\tbJo\t42\tzaWs\t7\tmid\t2\tlWo\t1\tEp\n",
      "851\td5\t42\tnaJ\t7\tmeyer\t2\tlov\t1\telf\n",
      "848\tkra\t42\tmus\t7\tmeJs\t2\tloss\t1\tEJs\n",
      "845\tvJe\t41\tWu\t7\tlaWr\t2\tlors\t1\teJd\n",
      "844\tpeW\t41\tW7\t7\tlaWb\t2\tloj\t1\tDyW\n",
      "833\tprJa\t41\tv1z\t7\tl#\t2\tlJOs\t1\tDyr\n",
      "830\tbeW\t41\tTys\t7\tkyh\t2\tlJash\t1\tduy\n",
      "827\teJ\t41\tSna\t7\tkul\t2\tl!J\t1\tdSEJ\n",
      "822\tneW\t41\toWt\t7\tkSi\t2\tliWs\t1\tdrug\n",
      "822\ter\t41\tksar\t7\tkroW\t2\tlin\t1\tdrJo\n",
      "821\tzeJ\t41\tkon\t7\tkrJo\t2\tlig\t1\tdrJes\n",
      "820\tsir\t41\tJ!\t7\tkret\t2\tlez\t1\tdrJE\n",
      "812\tkus\t41\tfet\t7\tkrA\t2\tleWrs\t1\tdrJas\n",
      "811\tnWa\t41\tdOJs\t7\tkeys\t2\tleh\t1\tdriy\n",
      "810\tfla\t41\tbaJs\t7\tkAt\t2\tlaWs\t1\tdriss\n",
      "800\tSAW\t40\tvrAW\t7\tkals\t2\tlAt\t1\tdrip\n",
      "799\tOJs\t40\tvla\t7\tk9\t2\tlat\t1\tdrik\n",
      "795\tl8\t40\tsla\t7\tjoWr\t2\tlAs\t1\tdrens\n",
      "787\tplA\t40\tpur\t7\tjJad\t2\tL5\t1\tdrej\n",
      "786\tmAWs\t40\tplaW\t7\tjey\t2\tkyk\t1\tdraJs\n",
      "783\tgr1\t40\tmEt\t7\thJA\t2\tkWah\t1\tdraJls\n",
      "781\tgri\t40\thiW\t7\tgui\t2\tkWab\t1\tdr!\n",
      "780\tvO\t40\tay\t7\tgris\t2\tksJA\t1\tdoWs\n",
      "778\tvras\t39\ttrJar\t7\tgreJ\t2\tksa\t1\tdoWr\n",
      "769\tgro\t39\ttr9\t7\tgl5s\t2\tkruJ\t1\tdoWg\n",
      "760\tkle\t39\tpr!s\t7\tg1W\t2\tkrJe\t1\tdot\n",
      "758\tDJos\t39\tlJE\t7\tfJeld\t2\tkrit\t1\tdOg\n",
      "752\try\t39\tjaW\t7\tf9\t2\tkreJ\t1\tdles\n",
      "747\tkU\t39\tiv\t7\tem\t2\tkors\t1\tDJyar\n",
      "746\tten\t39\thaW\t7\tDJor\t2\tkno\t1\tDJan\n",
      "743\tr7s\t39\tgaJ\t7\tdi\t2\tkleW\t1\tDiy\n",
      "743\tguJr\t39\tdler\t7\tbWo\t2\tkl7s\t1\tDih\n",
      "741\tNoW\t39\tbreS\t7\tbUs\t2\tkJA\t1\tdey\n",
      "740\thas\t39\tart\t7\tbov\t2\tkit\t1\tdet\n",
      "735\tpOJ\t38\trik\t7\tbOd\t2\tkik\t1\tdess\n",
      "735\ther\t38\tnan\t7\tbley\t2\tkiJ\t1\tdels\n",
      "730\tprar\t38\tmoWr\t7\tblaJ\t2\tkId\t1\tdEJs\n",
      "728\tpJo\t38\tlJer\t7\tbers\t2\tkEd\t1\tdeJr\n",
      "727\tples\t38\tgl!\t7\tbaJr\t2\tkeb\t1\tdeJk\n",
      "725\tfy\t38\tdAs\t7\tb1s\t2\tkarl\t1\tDeJ\n",
      "720\tglo\t37\tvrar\t7\tayr\t2\tkaJd\t1\tdehs\n",
      "719\thA\t37\tsob\t7\tAg\t2\tk8\t1\tdaS\n",
      "718\tjiW\t37\trah\t7\taf\t2\tjOs\t1\tdap\n",
      "718\tbE\t37\tpr8\t7\t4\t2\tjog\t1\tdaJr\n",
      "716\tbrar\t37\tnWA\t6\tWA\t2\tJers\t1\td1s\n",
      "713\tbJE\t37\tluf\t6\tviv\t2\tJer\t1\td$W\n",
      "712\tkro\t37\tkrer\t6\tviJ\t2\tjek\t1\td%\n",
      "711\tzJo\t37\tjJer\t6\tUt\t2\tjEd\t1\td#\n",
      "710\ttraW\t37\tjJar\t6\turss\t2\tj7\t1\tbyars\n",
      "709\tv!\t37\tgan\t6\ttUg\t2\tj5s\t1\tbuz\n",
      "707\tfJa\t37\tfoWr\t6\ttSes\t2\tills\t1\tbut\n",
      "692\tsJos\t37\tbrJe\t6\ttroJd\t2\tild\t1\tbun\n",
      "692\tgues\t36\tvy\t6\ttreW\t2\threJ\t1\tbuJn\n",
      "687\tprio\t36\tSJe\t6\ttov\t2\thoz\t1\tbso\n",
      "683\tvro\t36\thJo\t6\ttEf\t2\thOs\t1\tbse\n",
      "678\ttr1\t36\tgur\t6\tSro\t2\thoJr\t1\tbryIg\n",
      "678\tkWaJs\t36\tfrJar\t6\tSet\t2\thJes\t1\tbryAt\n",
      "678\tjir\t35\tWes\t6\tSek\t2\thJAW\t1\tbruy\n",
      "671\tbaW\t35\ttl!\t6\tSaJ\t2\thJar\t1\tbruJ\n",
      "669\tkli\t35\tnak\t6\ts2\t2\thEt\t1\tbrOs\n",
      "664\tnE\t35\tn1W\t6\trIg\t2\thaJW\t1\tbrOJs\n",
      "664\tLas\t35\tmOd\t6\trey\t2\thaj\t1\tbrin\n",
      "662\tLAW\t35\tLEJ\t6\traf\t2\th5s\t1\tbrig\n",
      "659\toJ\t35\tgr5\t6\tplaJ\t2\th1s\t1\tb!r\n",
      "657\tp!\t35\td!J\t6\tpl!\t2\tgWay\t1\tboz\n",
      "647\tpr1\t35\tab\t6\tpIs\t2\tgroJs\t1\tboyJsh\n",
      "643\tvra\t34\tW1\t6\tpIg\t2\tgrey\t1\tboWs\n",
      "637\tlJar\t34\tsad\t6\tpek\t2\tgrAt\t1\tboWJW\n",
      "636\tr6\t34\tof\t6\toWd\t2\tgrass\t1\tbol\n",
      "635\tprO\t34\thoJ\t6\tolf\t2\tgraJ\t1\tbmo\n",
      "630\t8\t34\tdWas\t6\toh\t2\tgrad\t1\tbme\n",
      "617\tbys\t34\td0\t6\tnyi\t2\tgoJs\t1\tbly\n",
      "609\ttrAW\t33\tvri\t6\tnUs\t2\tgmE\t1\tblur\n",
      "600\tmiW\t33\tpJer\t6\tnJOs\t2\tglUd\t1\tblOs\n",
      "600\tfaJ\t33\toWs\t6\tnex\t2\tgl!s\t1\tblos\n",
      "598\ttris\t33\tm1s\t6\tNes\t2\tglAd\t1\tblok\n",
      "598\tjAW\t33\tkJas\t6\tNEJ\t2\tgJe\t1\tbliz\n",
      "589\tS1\t33\tkAp\t6\tnaz\t2\tgiW\t1\tbliW\n",
      "587\tmuW\t33\tit\t6\tmUd\t2\tgIs\t1\tblId\n",
      "586\tpJa\t33\tdrI\t6\tmId\t2\tgis\t1\tblEJ\n",
      "585\tk!\t33\td4\t6\tmez\t2\tfrOJs\t1\tbleh\n",
      "585\tfrO\t32\tUg\t6\tlay\t2\tfrJed\t1\tblAt\n",
      "581\tsJar\t32\tsus\t6\tkWas\t2\tfris\t1\tblat\n",
      "576\tbriW\t32\tsid\t6\tkrys\t2\tfren\t1\tbl7\n",
      "556\tzOJs\t32\tsey\t6\tkrO\t2\tfreJs\t1\tbJI\n",
      "552\tmir\t32\tr8\t6\tkraJg\t2\tflWa\t1\tbJes\n",
      "550\tuW\t32\tpad\t6\tkop\t2\tflW7\t1\tbJen\n",
      "546\td!\t32\tnJer\t6\tkoJs\t2\tflog\t1\tbJals\n",
      "543\ttrJa\t32\tmek\t6\tkloW\t2\tfJev\t1\tb!J\n",
      "536\tWa\t32\tjJA\t6\tkler\t2\tfils\t1\tbiJs\n",
      "532\tLi\t32\tguJs\t6\tkAs\t2\tfeWr\t1\tbIg\n",
      "529\tlJo\t32\tfrJas\t6\tkaJW\t2\tfab\t1\tbells\n",
      "526\tkru\t32\t5s\t6\tkab\t2\tf2\t1\tbek\n",
      "523\tNu\t31\tzJos\t6\tk$r\t2\tez\t1\tbEd\n",
      "522\tflu\t31\tWo\t6\tJO\t2\terd\t1\tbasTi\n",
      "520\tlus\t31\tSma\t6\tjJO\t2\telp\t1\tbaSs\n",
      "515\tbes\t31\tsih\t6\tjit\t2\tEg\t1\tbaS\n",
      "513\tvor\t31\tsan\t6\tJes\t2\tdyy\t1\tbars\n",
      "513\tluJs\t31\tn9\t6\tjers\t2\tDyb\t1\taz\n",
      "509\tsU\t31\tl$r\t6\tjed\t2\tduz\t1\tayev\n",
      "509\tSE\t31\tkl5\t6\tjat\t2\tdUs\t1\taye\n",
      "509\tkJa\t31\tk6\t6\tjan\t2\tdrus\t1\tayA\n",
      "508\tvre\t31\tjuJ\t6\thaf\t2\tdroW\t1\taWJ\n",
      "507\trJE\t31\tjaJr\t6\tgreg\t2\tdrIg\t1\tatt\n",
      "507\tbuJ\t31\test\t6\tgraJs\t2\tdoyEJ\t1\tass\n",
      "505\tzaW\t31\tdrid\t6\tfryer\t2\tDiz\t1\taS\n",
      "505\tvan\t31\tb6s\t6\tfrJA\t2\tDiJ\t1\tarf\n",
      "503\tJos\t30\tsy\t6\tfik\t2\tdays\t1\talp\n",
      "501\tgWi\t30\tslo\t6\tfez\t2\tdAg\t1\talf\n",
      "497\tk5\t30\ts7W\t6\tf5s\t2\tdag\t1\tald\n",
      "496\tSas\t30\tNis\t6\tdr1W\t2\td1r\t1\tag\n",
      "496\tdus\t30\tf$\t6\tdr$\t2\tbyr\t1\t7r\n",
      "495\tv5s\t30\tdrU\t6\tdok\t2\tbye\t1\t7h\n",
      "491\tzO\t30\tbWa\t6\tDJer\t2\tbuyW\t1\t$l\n",
      "490\tbrir\t30\tboWr\t6\td9\t2\tburs\n"
     ]
    }
   ],
   "source": [
    "tail -n +2 /tmp/CorpusABGv2spell.csv | \n",
    "  awk -F',' '{n=split($5,syl,\"-\"); for (i=0;++i<=n;) syllable[syl[i]]+=$9} END{for (s in syllable) print syllable[s]\"\\t\"s}' | \n",
    "  sort -rn | tee >/tmp/syllables_freqocc_abg >(nl | gnuplot -e \"set terminal png; set output '/tmp/syllables_freqocc_abg_loglog.png'; set xlabel 'syllables'; set ylabel 'frequency of occurence'; set logscale xy; plot '/dev/stdin' with lines title 'abgcorpus'\") >(column) \n",
    "\n",
    "cp /tmp/syllables_freqocc_abg .\n",
    "cp /tmp/syllables_freqocc_abg_loglog.png images/."
   ]
  },
  {
   "cell_type": "markdown",
   "metadata": {
    "kernel": "Bash"
   },
   "source": [
    "![](images/syllables_freqocc_abg_loglog.png)"
   ]
  },
  {
   "cell_type": "markdown",
   "metadata": {
    "kernel": "Bash"
   },
   "source": [
    "Now lets consider only the starting syllables of words."
   ]
  },
  {
   "cell_type": "code",
   "execution_count": 14,
   "metadata": {
    "kernel": "Bash"
   },
   "outputs": [
    {
     "name": "stdout",
     "output_type": "stream",
     "text": [
      "316886\ta\t382\tfO\t25\tv5\t5\tmass\t2\tbyr\n",
      "196716\te\t380\tgre\t25\ttos\t5\tlWAsk\t2\tbWo\n",
      "171456\tde\t378\tfri\t25\tsU\t5\tley\t2\tbuyW\n",
      "124998\to\t371\tgWa\t25\tfl!\t5\tlEs\t2\tbulls\n",
      "122409\tke\t366\tpros\t24\tSis\t5\tlAW\t2\tbuJW\n",
      "82294\tkO\t365\tkl1\t24\t!s\t5\tkyW\t2\tbrJo\n",
      "62720\t3\t365\thA\t24\tp7\t5\tkros\t2\tbris\n",
      "60933\tes\t364\tflo\t24\this\t5\tkrJo\t2\tbreW\n",
      "53599\tE\t359\tk!\t24\tgla\t5\tkOp\t2\tbrAt\n",
      "52734\tse\t357\tuW\t24\teJs\t5\tkiss\t2\tbraJ\n",
      "52278\tdo\t357\tkrJar\t24\tbym\t5\tkAt\t2\tbrah\n",
      "49318\tko\t357\tgu\t24\tb1r\t5\tk1Ws\t2\tbrad\n",
      "48416\tda\t354\teJ\t23\tv4\t5\tk%\t2\tbr7\n",
      "47749\teW\t351\tguJ\t23\tpiW\t5\tjJe\t2\tblO\n",
      "47233\tpa\t349\tbro\t23\tmaWs\t5\tj5\t2\tbler\n",
      "43984\tnAW\t346\tgro\t23\tkrJA\t5\tiz\t2\tblaW\n",
      "42648\tno\t345\tlus\t23\tklo\t5\tIv\t2\tblaJr\n",
      "42512\tfa\t343\ttO\t23\tkl1W\t5\tik\t2\tbeJt\n",
      "41646\tna\t339\tvos\t23\tjaJ\t5\thob\t2\tbad\n",
      "41119\the\t327\tb1\t23\they\t5\thip\t2\tayWr\n",
      "40679\tu\t326\t7\t23\tfler\t5\thayA\t2\tayW\n",
      "39089\tpe\t325\tsJE\t23\tars\t5\tgU\t2\tayes\n",
      "38473\tka\t324\tv!\t22\tzeJ\t5\tgreW\t2\tAt\n",
      "37482\tpor\t320\tjuW\t22\ttran\t5\tgoWr\t2\tarS\n",
      "37054\tEJ\t320\td7\t22\tsAt\t5\tgleb\t2\tAr\n",
      "35760\tU\t318\tze\t22\tpraJ\t5\tgE\t2\t7s\n",
      "35678\tDi\t317\tfrO\t22\tplas\t5\tgaz\t2\t$r\n",
      "34796\tvo\t315\tjiW\t22\tneJW\t5\tfrJo\t1\tzor\n",
      "32050\tI\t314\tpJo\t22\tm1s\t5\tfrey\t1\tzoJ\n",
      "31819\ti\t314\tbJo\t22\tgrAd\t5\tfrEJ\t1\tzey\n",
      "27161\tme\t311\tkis\t22\tgleJ\t5\tflI\t1\tzers\n",
      "25383\ttEJ\t311\tfA\t22\tfreWd\t5\tex\t1\tzeJs\n",
      "25322\tn5\t309\t1W\t22\tEt\t5\tek\t1\tWO\n",
      "24687\toW\t303\tbru\t22\tesp\t5\teJss\t1\tvWa\n",
      "24320\tpo\t300\tneW\t21\tsy\t5\tbrE\t1\tv!r\n",
      "23563\tpro\t298\tfru\t21\tSaW\t5\tboyer\t1\tvJeW\n",
      "23443\tfi\t297\tple\t21\ton\t5\tAg\t1\tvIs\n",
      "23285\tTi\t297\tblo\t21\tloWJs\t4\tzWar\t1\tvan\n",
      "21879\tpra\t295\tgor\t21\tlIs\t4\tzWA\t1\tv7n\n",
      "21852\tmuJ\t284\tgar\t21\tin\t4\tzaJ\t1\tv5r\n",
      "21579\tos\t284\tbaW\t21\tfres\t4\tWes\t1\tv2\n",
      "20955\taW\t281\tbre\t21\tboWr\t4\tWA\t1\tuz\n",
      "20520\tmaJs\t280\tdan\t20\tmEs\t4\tvras\t1\tuy\n",
      "19849\tas\t276\tSAW\t20\tkl5\t4\tvor\t1\tuWWW\n",
      "19648\tma\t275\thI\t20\tkJev\t4\tvok\t1\tuWW\n",
      "19007\tmo\t273\tfla\t20\thap\t4\tvoJ\t1\tut\n",
      "18916\tmas\t270\tpers\t20\tgrid\t4\ttrad\t1\turt\n",
      "18847\tmi\t269\tza\t20\tby\t4\ttrab\t1\turd\n",
      "17382\tpre\t268\ttras\t20\tbayer\t4\ttr2\t1\tun\n",
      "17222\tte\t266\ttr1s\t19\tW\t4\ttey\t1\tulk\n",
      "16227\tso\t266\tproJ\t19\ttU\t4\tsWar\t1\tUk\n",
      "16201\ttA\t262\tkE\t19\tsyW\t4\tsUs\t1\tuJW\n",
      "15588\tsa\t261\tfreJ\t19\tSU\t4\tSrys\t1\tuJt\n",
      "15361\tsi\t260\tteW\t19\tnaJ\t4\tSoJ\t1\tUh\n",
      "15019\tpaW\t259\tpAW\t19\tly\t4\tslot\t1\tuf\n",
      "14328\tjE\t258\tSoW\t19\tlor\t4\tsleJ\t1\ttUg\n",
      "14147\tnU\t258\tg7\t19\tlaJ\t4\tsJo\t1\ttSaJ\n",
      "13889\tfoJ\t256\ttroW\t19\tk!r\t4\tsIs\t1\ttrJe\n",
      "13811\tto\t256\tOg\t19\tjis\t4\tproWs\t1\ttrJA\n",
      "13743\tser\t252\tfoW\t19\thWa\t4\tpr5Js\t1\ttrip\n",
      "13712\tvi\t252\tflu\t19\tgrAWs\t4\tpli\t1\ttrey\n",
      "13691\ttra\t249\tfar\t19\tdre\t4\tplayer\t1\ttrAW\n",
      "13521\tsAW\t248\tpiz\t19\tbras\t4\tpeg\t1\ttoz\n",
      "13355\tl1\t247\tpis\t19\tboy\t4\tord\t1\ttors\n",
      "13329\tsu\t243\tsar\t19\tblA\t4\tnWas\t1\tTJer\n",
      "12338\tkoJ\t243\th5\t18\ttrE\t4\tn!r\t1\tTJefs\n",
      "12203\tkWA\t241\tbor\t18\ttay\t4\tnet\t1\tTJef\n",
      "11395\tve\t238\tner\t18\tp1W\t4\tneJ\t1\tTJar\n",
      "11379\tsE\t238\tbE\t18\tmaz\t4\tnaS\t1\ttIs\n",
      "11228\tmes\t237\tkro\t18\tlWa\t4\tmWay\t1\tTir\n",
      "11200\tne\t235\tLe\t18\tk!s\t4\tmWa\t1\tTik\n",
      "11176\tper\t233\tmAWs\t18\thiW\t4\tmJe\t1\tTIg\n",
      "10940\tdos\t231\ttrEJ\t18\tg4\t4\tmIs\t1\tTig\n",
      "10866\tj1\t229\tmoW\t18\tflat\t4\tmaJW\t1\tteS\n",
      "10338\tA\t229\t1r\t18\tfalls\t4\tkys\t1\ttells\n",
      "10297\tpar\t223\tpJa\t18\tbl1\t4\tkul\t1\ttays\n",
      "9668\tfo\t223\tiW\t18\t2\t4\tkoy\t1\ttaWt\n",
      "9393\tvaJ\t223\tbOs\t17\tTJo\t4\tkop\t1\ttab\n",
      "9362\tle\t222\tpJA\t17\tted\t4\tkly\t1\tt1s\n",
      "9274\tba\t222\tdAW\t17\tSop\t4\tkaWs\t1\tt1r\n",
      "8963\ttu\t221\tkr5\t17\tn1\t4\tkAp\t1\tsuj\n",
      "8834\ttE\t220\tvuW\t17\tmus\t4\tkab\t1\tSub\n",
      "8793\tgos\t219\tpras\t17\tkok\t4\tjiz\t1\tSri\n",
      "8699\tli\t218\tDJe\t17\tgrAW\t4\tjey\t1\tsrI\n",
      "8456\tdes\t217\tkrus\t17\tflE\t4\tirs\t1\tsrek\n",
      "8078\ts!\t213\thos\t17\tf5r\t4\tIp\t1\tsoz\n",
      "7786\tter\t211\tgaW\t16\tuJ\t4\thoy\t1\tsoy\n",
      "7763\tkA\t210\tprJo\t16\ttSe\t4\theg\t1\tsoWs\n",
      "7544\tmu\t210\taWs\t16\tSiJ\t4\tgWaW\t1\tsot\n",
      "7510\tfor\t208\tdra\t16\tmay\t4\tguy\t1\tSOs\n",
      "7309\tbra\t206\tvaW\t16\tmars\t4\tgors\t1\tsoJ\n",
      "7285\tdas\t205\tSeJ\t16\tkleJ\t4\tgoJ\t1\tSmEJ\n",
      "7142\tva\t204\tkaJr\t16\tkJo\t4\tglAW\t1\tslu\n",
      "7133\tlu\t202\tfur\t16\tIk\t4\tglA\t1\tSlo\n",
      "7120\tmeW\t201\tjA\t16\tgWi\t4\tfruJ\t1\tSli\n",
      "7105\tvoW\t200\tjuJs\t16\tgWe\t4\tfrOt\t1\tslAW\n",
      "6887\ta&a\t199\thO\t16\tgros\t4\tfrJa\t1\tslAs\n",
      "6786\tmA\t198\theJs\t16\tfrJos\t4\tfJes\t1\tsJos\n",
      "6733\tjo\t198\tgraW\t16\tfed\t4\tfaJr\t1\tsJor\n",
      "6599\tSe\t197\tfran\t16\ten\t4\tf1r\t1\tSJer\n",
      "6454\tla\t191\ttaJs\t16\tb$\t4\tesk\t1\tsJen\n",
      "6344\tDis\t189\tsis\t15\tzI\t4\tEs\t1\tSJe\n",
      "6302\tver\t189\tfr7\t15\tzE\t4\teJrd\t1\tSJar\n",
      "6249\tbo\t188\tt!\t15\ttuJ\t4\tdras\t1\tsJar\n",
      "5831\tbaJ\t187\tkl7\t15\ttoJ\t4\tdrag\t1\tsJalb\n",
      "5815\tbEJ\t185\tleJs\t15\tSor\t4\tdok\t1\tsiS\n",
      "5749\tfe\t183\tbr1s\t15\tseJs\t4\tdog\t1\tSip\n",
      "5695\tga\t183\tblog\t15\tplays\t4\tdep\t1\tsiJr\n",
      "5609\tar\t182\ts5r\t15\tpEJ\t4\tdek\t1\tsIg\n",
      "5547\tpoW\t180\tJor\t15\top\t4\tdAs\t1\tseWf\n",
      "5338\tir\t176\thas\t15\tnov\t4\tbrU\t1\tsev\n",
      "5157\tgo\t175\tp!\t15\tn1W\t4\tbros\t1\tSer\n",
      "5143\tje\t174\tbis\t15\tlur\t4\tbrJoz\t1\tsells\n",
      "5133\tseW\t171\tpl1s\t15\tkay\t4\tbraJt\t1\tseJg\n",
      "5052\tseJ\t171\tfl1\t15\tgray\t4\tbr5\t1\tSEJ\n",
      "5026\tsI\t169\th$\t15\tfuW\t4\tbr1\t1\tseh\n",
      "4935\tis\t169\tgoWs\t15\tDid\t4\tbJer\t1\tsax\n",
      "4690\tmar\t167\tkan\t15\tDI\t4\tbiz\t1\tsAWs\n",
      "4613\thi\t166\tdU\t15\tbah\t4\tbers\t1\tsaWs\n",
      "4522\t1\t165\tprE\t14\tset\t4\tbayo\t1\tSars\n",
      "4503\thes\t164\ttr1\t14\tsap\t4\tb$W\t1\tsars\n",
      "4444\tO\t164\ts8\t14\tprat\t4\taya\t1\tSaJss\n",
      "4331\tmU\t164\tplu\t14\tplAt\t4\tash\t1\tSaJrs\n",
      "4253\tho\t159\tlaW\t14\toWr\t4\tal\t1\tsaJd\n",
      "4117\tdeJ\t158\tdO\t14\tnWA\t4\tab\t1\ts9\n",
      "4113\tpri\t158\tbJA\t14\tklaWs\t3\tzer\t1\ts7r\n",
      "4110\tlo\t157\tTI\t14\tjun\t3\tzar\t1\troW\n",
      "4090\thu\t155\tusp\t14\t!J\t3\tzAg\t1\tri\n",
      "4074\tbO\t154\tnA\t14\tIss\t3\tz7\t1\trEJ\n",
      "4007\tkar\t154\thaJ\t14\tgWaJ\t3\tWI\t1\tra\n",
      "3984\tnos\t154\tfus\t14\tfE\t3\tWi\t1\tpyOg\n",
      "3870\tgrA\t150\tmiW\t14\tfaz\t3\tvuJ\t1\tpub\n",
      "3842\th1\t150\tmaJ\t14\tdr1s\t3\tvoWs\t1\tpr!Wr\n",
      "3787\tnEJ\t149\tSI\t14\tb!\t3\tvip\t1\tpr!r\n",
      "3717\tnu\t149\tg1s\t13\tven\t3\tUb\t1\tprJor\n",
      "3516\tSa\t147\tkJe\t13\tvAs\t3\ttrus\t1\tprIs\n",
      "3469\tfU\t145\tf!r\t13\tup\t3\ttroy\t1\tpray\n",
      "3468\tpaJ\t143\t5r\t13\ttr7\t3\ttrJos\t1\tpr$\n",
      "3462\tha\t142\tSar\t13\tsJa\t3\ttov\t1\tpoWJW\n",
      "3354\tkWaW\t136\ttraW\t13\tplaW\t3\ttoJr\t1\tpOs\n",
      "3322\tpr!\t136\tJoW\t13\tpl1\t3\tten\t1\tpOg\n",
      "3298\tsEJ\t136\tj$\t13\tpaWs\t3\ttEf\t1\tplJe\n",
      "3294\tves\t134\tz5\t13\tkWAW\t3\tsra\t1\tplis\n",
      "3291\tfas\t134\tvar\t13\tklub\t3\tsOg\t1\tpleW\n",
      "3288\tbas\t134\tbeW\t13\tjJA\t3\tSJo\t1\tplaz\n",
      "3255\tnor\t131\tTJe\t13\tjay\t3\tsJer\t1\tpiWs\n",
      "3197\tkWa\t130\tg5r\t13\tid\t3\tsiWr\t1\tpez\n",
      "3188\tlE\t129\tbEs\t13\thoyaW\t3\tSas\t1\tpEs\n",
      "3185\tbe\t126\tgus\t13\tgrO\t3\tsag\t1\tpels\n",
      "3170\ttaW\t125\tpeW\t13\tgl$\t3\tSad\t1\tpaz\n",
      "3161\tpu\t123\tj!\t13\tble\t3\tS5\t1\tpap\n",
      "3138\tpi\t122\ttru\t13\tAh\t3\ts1W\t1\tpal\n",
      "3087\tfes\t120\tTJos\t12\ttraJr\t3\tpug\t1\tp9s\n",
      "3082\tn!s\t120\tdoJ\t12\ttr5\t3\tprJe\t1\tp6\n",
      "3075\tja\t118\tney\t12\tSiW\t3\tprIz\t1\tp5W\n",
      "3069\tdu\t115\tsos\t12\tsad\t3\tpoWk\t1\toS\n",
      "3053\tgra\t114\tbur\t12\tloWr\t3\tpot\t1\tolt\n",
      "3020\t5\t112\tfraW\t12\tkom\t3\tpors\t1\tol\n",
      "2991\ttres\t112\tfle\t12\thus\t3\tpJaf\t1\toJs\n",
      "2972\tpO\t109\tteJ\t12\thuJs\t3\tpit\t1\tob\n",
      "2910\tnas\t109\tgA\t12\thiS\t3\tpIg\t1\tnoz\n",
      "2906\tvE\t109\tder\t12\tg1\t3\tp8\t1\tnoJs\n",
      "2900\tnes\t107\ttraJ\t12\tf!s\t3\tp$W\t1\tnoh\n",
      "2883\tta\t107\tbrO\t12\tflaW\t3\tneWs\t1\tnJO\n",
      "2876\tkEJ\t105\tky\t12\tdWa\t3\tNA\t1\tnaf\n",
      "2875\tkOs\t105\tkra\t12\tDiWr\t3\tmys\t1\tn9\n",
      "2868\tkaW\t105\tk$\t12\tbrus\t3\tmy\t1\tn8\n",
      "2844\tpE\t104\tk7\t11\tzO\t3\tmir\t1\tn5W\n",
      "2834\tdE\t104\tbes\t11\ttrJa\t3\tmez\t1\tn1s\n",
      "2709\ttrA\t101\ttSaW\t11\ttriW\t3\tmeyi\t1\tmyers\n",
      "2645\tor\t101\tk1W\t11\tsub\t3\tmet\t1\tmul\n",
      "2614\tsA\t98\tfAs\t11\tsop\t3\tlug\t1\tmud\n",
      "2523\tsoW\t96\tmOs\t11\tsey\t3\tlU\t1\tmOt\n",
      "2501\td1\t94\tjer\t11\tSes\t3\tloWJ\t1\tmJya\n",
      "2490\tkla\t94\tbl0\t11\tpuls\t3\tlJeS\t1\tmJE\n",
      "2488\tju\t93\tf!\t11\tpJaz\t3\tlJe\t1\tmJas\n",
      "2452\tker\t92\tTJa\t11\tn5s\t3\tliW\t1\tmJah\n",
      "2446\tkrJan\t92\tfrus\t11\tm!r\t3\tlet\t1\tmJ7\n",
      "2439\tfuJ\t91\tbos\t11\tm7s\t3\tkWAd\t1\tmiss\n",
      "2412\tprI\t90\ttrO\t11\tk1r\t3\tkuz\t1\tmim\n",
      "2364\tfeJ\t90\tp!s\t11\tjWa\t3\tkup\t1\tmik\n",
      "2364\tbA\t89\tpuW\t11\tim\t3\tkry\t1\tmib\n",
      "2361\tm5\t89\tkOg\t11\thU\t3\tkras\t1\tmers\n",
      "2361\tkre\t88\tv8\t11\tgur\t3\tklas\t1\tmeJs\n",
      "2355\tDiW\t88\tm1r\t11\tglaW\t3\tklar\t1\tmaS\n",
      "2345\tkri\t88\tfloJ\t11\tfrAs\t3\tkeys\t1\tmap\n",
      "2320\tkor\t87\tmeJ\t11\tflWo\t3\tkey\t1\tmaJr\n",
      "2310\tfu\t86\tgO\t11\tflA\t3\tkaz\t1\tm5r\n",
      "2289\tjeJ\t86\tbWe\t11\tey\t3\tkal\t1\tm4\n",
      "2283\tseWs\t86\tb7\t11\tday\t3\tkaJs\t1\tlyas\n",
      "2279\tSo\t85\tdri\t11\td7s\t3\tk9\t1\tlWas\n",
      "2268\tbi\t83\tv5s\t11\tbles\t3\tk5r\t1\tlWA\n",
      "2220\tvJa\t83\tkle\t11\tbAg\t3\tjUp\t1\tluy\n",
      "2164\tp$\t82\tp5s\t11\t5W\t3\tjirls\t1\tlUSs\n",
      "2156\tkWar\t82\thJos\t10\tv9\t3\tjeh\t1\tLu\n",
      "2117\tgru\t80\tsWa\t10\tv1W\t3\thuJr\t1\tloz\n",
      "2093\tIs\t80\tm$W\t10\ttWas\t3\thIs\t1\tlOg\n",
      "2091\t$W\t80\tl$\t10\ttrJer\t3\thAW\t1\tlJa\n",
      "2086\tlI\t80\tboJ\t10\ttoyo\t3\thaf\t1\tlit\n",
      "2051\tku\t79\tti\t10\ttas\t3\t!h\t1\tliS\n",
      "2040\tmI\t78\tS7\t10\ttaj\t3\tgWA\t1\tlip\n",
      "2028\tbu\t78\tflor\t10\ts!r\t3\tguz\t1\tleJr\n",
      "2025\tbrI\t75\tgay\t10\tplus\t3\tgrU\t1\tleJb\n",
      "2024\tkur\t74\tsuJ\t10\tpay\t3\tgroW\t1\tlay\n",
      "2014\tmer\t74\tn!\t10\tok\t3\tgriW\t1\tlaJt\n",
      "2010\ttrAs\t73\tkrE\t10\tled\t3\tgras\t1\tlAg\n",
      "1902\tkos\t73\tkAW\t10\tkoWr\t3\tgran\t1\tlab\n",
      "1884\tvEJ\t72\tpru\t10\tklI\t3\tgot\t1\tLa\n",
      "1880\tleJ\t72\tLes\t10\tkaf\t3\tgOg\t1\tl7n\n",
      "1875\ttor\t72\tdoJs\t10\tip\t3\tgAs\t1\tl1s\n",
      "1875\tmE\t70\tpleJ\t10\than\t3\tg8\t1\tkWaJ\n",
      "1826\tmos\t70\tjJa\t10\tgroWp\t3\tg2\t1\tkuyp\n",
      "1814\tkuW\t70\thed\t10\tgle\t3\tfry\t1\tkum\n",
      "1806\tfaW\t70\tDir\t10\tfJan\t3\tfli\t1\tkrUb\n",
      "1804\tv1\t69\thuJ\t10\teJW\t3\tfleJs\t1\tkrod\n",
      "1772\tmO\t68\tveJ\t10\tbob\t3\teyes\t1\tkrJE\n",
      "1772\tkes\t68\tblu\t10\tbAW\t3\teWr\t1\tkrJe\n",
      "1751\tdar\t67\ttoW\t10\tAd\t3\tert\t1\tkreJ\n",
      "1744\ttur\t67\tlen\t9\tWa\t3\tells\t1\tkrA\n",
      "1722\ts5\t67\tfeW\t9\ttah\t3\tEd\t1\tkr2\n",
      "1717\tpla\t67\tfaWs\t9\tsle\t3\tdWo\t1\tkr$s\n",
      "1711\tnoJ\t66\tfIs\t9\tSJA\t3\tdrE\t1\tkoWs\n",
      "1698\tlO\t66\tdEJ\t9\tsay\t3\tdla\t1\tkOt\n",
      "1673\tUs\t65\tSris\t9\tpoJ\t3\tbWa\t1\tkors\n",
      "1664\tjU\t65\tklaW\t9\tp1g\t3\tbug\t1\tkoJr\n",
      "1659\tfrE\t65\tdaW\t9\toz\t3\tbroW\t1\tkoJn\n",
      "1641\tbar\t64\tloJ\t9\tnO\t3\tbriS\t1\tkob\n"
     ]
    },
    {
     "name": "stdout",
     "output_type": "stream",
     "text": [
      "1593\tt1\t63\ttoWr\t9\tkWo\t3\tbrEt\t1\tklJa\n",
      "1575\tDJas\t62\tt$\t9\tklay\t3\tbrAW\t1\tkleW\n",
      "1573\taJ\t62\tfy\t9\tjuJ\t3\tbOb\t1\tkler\n",
      "1543\tpes\t62\tfro\t9\tjEJ\t3\tblEd\t1\tklAW\n",
      "1539\ttri\t61\ttaJ\t9\thiz\t3\tbJa\t1\tklAs\n",
      "1535\ttAW\t61\tl5\t9\thaW\t3\tbet\t1\tkJess\n",
      "1505\tjus\t60\tvJas\t9\tgy\t3\tbay\t1\tkJes\n",
      "1484\thoW\t60\tgon\t9\tgret\t3\tasp\t1\tkJa\n",
      "1437\tnI\t59\tzA\t9\tgox\t3\tan\t1\tkit\n",
      "1430\tvJo\t59\tTy\t9\tgaJ\t3\tam\t1\tkip\n",
      "1405\ttes\t59\tlas\t9\tduW\t3\talt\t1\tkik\n",
      "1394\tjor\t59\tfr1\t9\tDJap\t3\talls\t1\tkiJ\n",
      "1391\tmor\t59\tfJa\t9\tbrAs\t3\tAk\t1\tkaw\n",
      "1375\tdeW\t58\tpop\t9\tb1W\t3\taJs\t1\tkaJd\n",
      "1367\tsWas\t58\tOk\t9\t%\t3\taJg\t1\tk$s\n",
      "1298\tfI\t58\thay\t8\tziW\t3\t#\t1\tjUg\n",
      "1292\tki\t57\tsJe\t8\tzEJ\t2\tzla\t1\tjoy\n",
      "1274\tus\t57\tdWar\t8\tzaW\t2\tzeW\t1\tjOh\n",
      "1262\tk1\t56\ttrEs\t8\tv7r\t2\tz!\t1\tjob\n",
      "1259\tbri\t56\tSJa\t8\ttroJ\t2\tvur\t1\tjJyad\n",
      "1252\tf1\t55\tj4\t8\ttok\t2\tvAWs\t1\tjJas\n",
      "1230\tsaW\t54\tSef\t8\tTis\t2\tvaJs\t1\tjIz\n",
      "1221\tzo\t54\tmJa\t8\ttam\t2\tUt\t1\tjIs\n",
      "1212\tfrA\t54\tkaos\t8\tsip\t2\tuh\t1\tjEs\n",
      "1177\tkrJa\t54\tjeW\t8\tpys\t2\tTyz\t1\tjEg\n",
      "1173\tsaJr\t53\tluJ\t8\tpyO\t2\ttuf\t1\tjaz\n",
      "1170\tvI\t53\tleW\t8\tnis\t2\ttS5\t1\tjays\n",
      "1160\tpos\t52\tnar\t8\tlars\t2\ttruz\t1\tjaWss\n",
      "1159\tfer\t52\tmJo\t8\tkrok\t2\ttroh\t1\tjAt\n",
      "1150\tmeWs\t52\tjO\t8\tkroJ\t2\ttrEd\t1\tjAs\n",
      "1150\tkaJ\t52\taJr\t8\tkraW\t2\ttraz\t1\tjah\n",
      "1148\tfiW\t51\ttop\t8\tjJor\t2\ttoy\t1\tj5r\n",
      "1144\tpr5\t51\tgays\t8\tiss\t2\ttoWt\t1\tiWls\n",
      "1143\tSi\t50\tt5r\t8\thik\t2\ttoWs\t1\tih\n",
      "1119\tvis\t50\tpJe\t8\thep\t2\tton\t1\tig\n",
      "1116\tpas\t50\tbus\t8\th7s\t2\tTJE\t1\tif\n",
      "1113\tn$\t50\tah\t8\tfroW\t2\ttem\t1\thWo\n",
      "1110\tfre\t50\t1s\t8\tfOt\t2\ttat\t1\thuI\n",
      "1095\tsaJ\t49\tlos\t8\tf$\t2\ttak\t1\thoz\n",
      "1060\tses\t49\tkir\t8\teh\t2\ttaJW\t1\thoWl\n",
      "1055\t$\t49\tk7r\t8\tdOs\t2\ttAg\t1\thJosp\n",
      "1054\tm1\t48\tvas\t8\tbr!\t2\tsus\t1\thJad\n",
      "1053\tviW\t48\thaJs\t8\tbiW\t2\tsif\t1\thIg\n",
      "1053\tm$\t48\tdur\t8\tbir\t2\tSeya\t1\then\n",
      "1027\tdeWs\t47\tkreW\t8\tayo\t2\tsen\t1\thaWh\n",
      "1025\tvAW\t47\tjas\t8\t5h\t2\tsem\t1\thaS\n",
      "1022\teS\t47\tbU\t7\tv!s\t2\tSE\t1\thAp\n",
      "1020\tp1\t47\tbig\t7\ttr!\t2\tSaWJ\t1\thaJW\n",
      "1016\tmaW\t47\tbAd\t7\tTiW\t2\tsat\t1\thaJo\n",
      "1015\ttro\t46\tkJos\t7\tsWor\t2\tsaSs\t1\tgWiW\n",
      "1009\t!\t46\tjJo\t7\tsWA\t2\tsAs\t1\tguJW\n",
      "1002\tkuJ\t46\thuy\t7\tsJat\t2\tsaS\t1\tguJs\n",
      "1002\tfis\t46\tguW\t7\tsek\t2\tsaJW\t1\tguJr\n",
      "983\ttar\t46\tgrI\t7\tp!W\t2\tSaJr\t1\tgruy\n",
      "974\tt5\t46\tfrJe\t7\tprJa\t2\tre\t1\tgrJe\n",
      "968\tsuW\t46\tDy\t7\tpin\t2\tpuz\t1\tgriz\n",
      "968\tni\t46\tav\t7\tNo\t2\tpUs\t1\tgrey\n",
      "941\thE\t45\ttrU\t7\tn3\t2\tprUs\t1\tgreJ\n",
      "935\tSu\t45\tpU\t7\tmOg\t2\tpris\t1\tgrass\n",
      "922\th7\t45\tplay\t7\tmAs\t2\tprin\t1\tgr4\n",
      "909\tsur\t45\tkres\t7\tlJo\t2\tpr9\t1\tgoJs\n",
      "908\tboW\t45\teb\t7\tlaWr\t2\tp!r\t1\tgoh\n",
      "903\theW\t44\tkr9\t7\tlaWb\t2\tpof\t1\tgJo\n",
      "893\tur\t44\tfJos\t7\tkWan\t2\tplok\t1\tgi\n",
      "884\tmis\t43\tpr4\t7\tkiW\t2\tpJO\t1\tges\n",
      "883\tp5\t43\tmoJ\t7\tkeW\t2\tpet\t1\tgap\n",
      "878\tmAW\t43\tfluJ\t7\tkars\t2\tped\t1\tg7W\n",
      "867\tdor\t43\tb5W\t7\tjoWr\t2\tpan\t1\tg1r\n",
      "864\tpaJs\t42\ttrI\t7\tjJad\t2\tpad\t1\tfuS\n",
      "860\tv7\t42\tg!\t7\thJA\t2\tp2\t1\tfros\n",
      "848\tt7\t41\tzu\t7\tgui\t2\toya\t1\tfren\n",
      "842\tsiW\t41\tv1z\t7\tgrE\t2\told\t1\tfras\n",
      "837\ttre\t41\tl2\t7\tglas\t2\toJW\t1\tfraJ\n",
      "831\tbrA\t41\tkren\t7\tger\t2\tnWan\t1\tfr5\n",
      "830\ts1\t41\tklA\t7\tg1W\t2\tnur\t1\tfoWs\n",
      "816\tpres\t41\tbJe\t7\tfluJr\t2\tniJ\t1\tfOk\n",
      "815\tfra\t40\ttOs\t7\tem\t2\tned\t1\tflyIg\n",
      "786\tsir\t40\tsla\t7\tDJor\t2\tNe\t1\tflyI\n",
      "769\tvJe\t40\tOs\t7\tbOd\t2\tnat\t1\tflJa\n",
      "768\tvO\t39\tvla\t7\tblas\t2\tnaJr\t1\tfleW\n",
      "764\tgas\t39\tpr!s\t7\tblaJ\t2\tNa\t1\tfleJ\n",
      "759\tpoJs\t39\tproW\t7\tbJos\t2\tn6\t1\tflas\n",
      "756\tkus\t39\tniW\t7\tbaJr\t2\tmWos\t1\tfJeld\n",
      "755\tji\t39\tiv\t7\tb5\t2\tmoya\t1\tfiz\n",
      "751\tkr7\t39\tgraWs\t7\tayr\t2\tmJers\t1\tfeWJW\n",
      "740\tn7\t39\tfos\t7\tark\t2\tmJar\t1\tfeJs\n",
      "735\tge\t39\tbuW\t7\tak\t2\tmJA\t1\tfeJk\n",
      "714\ts7\t39\tblI\t7\tad\t2\tmiz\t1\tfEJ\n",
      "714\tm7\t38\tTJas\t6\tvy\t2\tmix\t1\tf7s\n",
      "701\tloW\t38\toWt\t6\tviJ\t2\tmit\t1\teSs\n",
      "698\tkeJ\t38\tmen\t6\tveW\t2\tmIg\t1\tess\n",
      "692\tjar\t38\tjI\t6\turss\t2\tmig\t1\tesg\n",
      "690\ter\t37\tzU\t6\tSro\t2\tmayW\t1\tEp\n",
      "689\tl7\t37\tsob\t6\ts4\t2\tmax\t1\tep\n",
      "678\tkWaJs\t37\tsep\t6\ts2\t2\tmans\t1\telf\n",
      "677\tpI\t37\tpr8\t6\tp5r\t2\tmalls\t1\teJd\n",
      "677\tlis\t37\tkrer\t6\tp4\t2\tm8\t1\tdus\n",
      "677\tlan\t37\thir\t6\toWd\t2\tlWo\t1\tdrug\n",
      "670\tjes\t37\tfred\t6\tork\t2\tlWar\t1\tdrJes\n",
      "667\tSA\t37\tAs\t6\tolf\t2\tloj\t1\tdrey\n",
      "663\tgWar\t36\tprA\t6\toh\t2\tlJOs\t1\tdoWs\n",
      "648\toJ\t36\tgl!\t6\tnUs\t2\tlin\t1\tdoWg\n",
      "642\tklu\t35\tvJer\t6\tnoJr\t2\tlig\t1\tdli\n",
      "638\tpr1\t35\tpl7\t6\tnex\t2\tLer\t1\tDJyar\n",
      "636\tsO\t35\tmur\t6\tmoWr\t2\tlaz\t1\tDJan\n",
      "633\tf7\t35\tkon\t6\tmad\t2\tlaJs\t1\tDiy\n",
      "632\tpy\t35\tAW\t6\tlEJ\t2\tkWas\t1\tdeJk\n",
      "626\tl8\t35\tart\t6\tkrys\t2\tkut\t1\tdehs\n",
      "622\tDJa\t34\tnoW\t6\tkraJg\t2\tkruJ\t1\tdays\n",
      "619\t8\t34\tkl!\t6\tkoJs\t2\tklaJr\t1\tdaS\n",
      "611\tglo\t34\thoJ\t6\tkat\t2\tklaJ\t1\tdaJs\n",
      "610\theJ\t34\td!J\t6\tk$r\t2\tkeb\t1\tdad\n",
      "596\tdoW\t33\tzi\t6\tjAW\t2\tkarl\t1\td9\n",
      "595\tkI\t33\tSeW\t6\tIg\t2\tk8\t1\tbyars\n",
      "585\tfir\t33\tpus\t6\tgreg\t2\tk2\t1\tbuz\n",
      "583\tkU\t33\tit\t6\tg5\t2\tk1s\t1\tbryAt\n",
      "582\tplA\t33\tgli\t6\tfreW\t2\tjOs\t1\tbruy\n",
      "582\tfaJ\t33\tfJo\t6\tfJe\t2\tjog\t1\tbrOs\n",
      "571\tles\t33\tdWas\t6\tfez\t2\tjir\t1\tbrJe\n",
      "562\tlar\t33\tDJo\t6\tet\t2\tjet\t1\tbrin\n",
      "557\tdro\t32\ts$\t6\ters\t2\tills\t1\tbrig\n",
      "553\td5\t32\thJa\t6\tdraW\t2\tild\t1\tboz\n",
      "546\tprO\t32\tgr5\t6\tdr1\t2\thy\t1\tboyJsh\n",
      "545\tler\t32\tfrJas\t6\tb!s\t2\thJAW\t1\tboWJW\n",
      "525\tdA\t31\tsOs\t6\tbraW\t2\thEJ\t1\tbol\n",
      "524\tS1\t31\tjaJr\t6\tboys\t2\thaj\t1\tbly\n",
      "516\tber\t31\thJo\t6\tboJs\t2\th5s\t1\tblur\n",
      "513\tluJs\t31\test\t6\tbJO\t2\tgWas\t1\tblok\n",
      "510\ttreJ\t31\tbla\t6\tard\t2\tgroJs\t1\tbliz\n",
      "489\tgoW\t30\tslo\t6\t5s\t2\tgris\t1\tblId\n",
      "487\t!r\t30\tsan\t5\tzWa\t2\tgrAt\t1\tbli\n",
      "481\td!\t30\ts7W\t5\tWe\t2\tgraJ\t1\tbleh\n",
      "480\tDJA\t30\tnJe\t5\tvu\t2\tglu\t1\tblat\n",
      "479\tpJor\t30\tjaW\t5\tvJes\t2\tgJe\t1\tbl5\n",
      "475\tvir\t30\tdrU\t5\tvers\t2\tgeW\t1\tbJI\n",
      "474\tpOJ\t30\tbI\t5\ttSa\t2\tgAg\t1\tbJals\n",
      "472\tvA\t29\tteWs\t5\tTJO\t2\tfris\t1\tbey\n",
      "472\tf5\t29\tnaW\t5\ttEs\t2\tfreJs\t1\tbells\n",
      "471\tkli\t29\tiJ\t5\tsWe\t2\tflW7\t1\tbasTi\n",
      "468\tlA\t29\tdaJ\t5\tsli\t2\tflog\t1\tbAs\n",
      "463\tklJE\t29\tbWar\t5\tSik\t2\tflip\t1\tbaS\n",
      "458\tkru\t29\tben\t5\tSaJ\t2\tfik\t1\tbars\n",
      "458\tkris\t28\ts1b\t5\tS1s\t2\tfat\t1\tb6\n",
      "453\tkoW\t28\tpJer\t5\tpoWr\t2\tfab\t1\taz\n",
      "448\tkas\t28\tpaes\t5\tpJas\t2\tez\t1\tays\n",
      "447\tmuW\t28\toWs\t5\tpek\t2\teWs\t1\tayA\n",
      "440\tgri\t28\tmuy\t5\tox\t2\telp\t1\taWJ\n",
      "423\tbeJ\t28\tmek\t5\tors\t2\tEg\t1\tatt\n",
      "418\tl!\t28\tl5s\t5\tny\t2\tdUs\t1\tat\n",
      "410\thWas\t28\tglos\t5\tnus\t2\tdru\t1\taS\n",
      "406\tk5\t28\tay\t5\tnJu\t2\tdros\t1\tarf\n",
      "403\ttris\t27\tv1r\t5\tnir\t2\tdoyEJ\t1\talp\n",
      "402\tsor\t27\tpur\t5\tmWA\t2\tDJos\t1\talf\n",
      "401\td$\t27\tmak\t5\tmuz\t2\tDiz\t1\tald\n",
      "397\tm!\t27\th!\t5\tmon\t2\tdi\t1\taf\n",
      "394\tpeJ\t27\tdrI\t5\tmills\t2\tdEs\t1\t7h\n",
      "387\tpA\t26\tvJA\t5\tmIh\t2\tden\t1\t$l\n",
      "386\tgr1\t26\tsid\t5\tmEJ\t2\td5r\n",
      "385\tfun\t26\th$s\t5\tmeg\t2\td1r\n"
     ]
    }
   ],
   "source": [
    "tail -n +2 /tmp/CorpusABGv2spell.csv | \n",
    "  awk -F',' '{n=split($5,syl,\"-\"); syllable[syl[1]]+=$9} END{for (s in syllable) print syllable[s]\"\\t\"s}' | \n",
    "  sort -rn | tee >/tmp/start_syllables_freqocc_abg >(nl | gnuplot -e \"set terminal png; set output '/tmp/start_syllables_freqocc_abg_loglog.png'; set xlabel 'start syllables'; set ylabel 'frequency of occurence'; set logscale xy; plot '/dev/stdin' with lines title 'abgcorpus'\") >(column)\n",
    "  \n",
    "cp /tmp/start_syllables_freqocc_abg .\n",
    "cp /tmp/start_syllables_freqocc_abg_loglog.png images/."
   ]
  },
  {
   "cell_type": "markdown",
   "metadata": {
    "kernel": "Bash"
   },
   "source": [
    "![](images/start_syllables_freqocc_abg_loglog.png)"
   ]
  },
  {
   "cell_type": "markdown",
   "metadata": {
    "kernel": "Bash"
   },
   "source": [
    "And now the ending syllables of words."
   ]
  },
  {
   "cell_type": "code",
   "execution_count": 15,
   "metadata": {
    "kernel": "Bash"
   },
   "outputs": [
    {
     "name": "stdout",
     "output_type": "stream",
     "text": [
      "171307\tde\t222\tbeJ\t22\th!\t5\tey\t1\tzU\n",
      "162809\tdo\t221\tbros\t22\tfreWd\t5\teJss\t1\tzoWr\n",
      "136511\tke\t218\tkrus\t22\tdek\t5\tdris\t1\tzOs\n",
      "128110\ta\t217\tges\t22\tblo\t5\tdley\t1\tzok\n",
      "104896\to\t216\tzO\t22\tbeJs\t5\tDIg\t1\tzod\n",
      "93148\te\t213\tkso\t21\ttri\t5\tDig\t1\tzJOs\n",
      "88039\tda\t208\tkaJr\t21\ttaJ\t5\tdep\t1\tzJes\n",
      "85741\tto\t207\tdres\t21\tsey\t5\tbWo\t1\tzJA\n",
      "77246\tra\t206\tjos\t21\tpu\t5\tboyer\t1\tzIs\n",
      "76538\tse\t205\tner\t21\tprO\t5\tbJer\t1\tzeWp\n",
      "75383\tte\t205\tdO\t21\tplay\t5\tbiWs\t1\tzev\n",
      "61550\t3\t205\tbres\t21\tnaJ\t5\tbet\t1\tzEt\n",
      "57688\tsAW\t203\tgaJs\t21\tmOJs\t5\tbaWd\t1\tzep\n",
      "55552\tma\t203\tfreW\t21\tkok\t5\tbAs\t1\tzay\n",
      "50044\tno\t202\tjuJs\t21\tjuk\t5\tap\t1\tzav\n",
      "49452\tna\t201\tklo\t21\teWr\t5\t$s\t1\tzAt\n",
      "47472\teW\t200\triW\t20\ttors\t4\tzWar\t1\tzat\n",
      "46892\tta\t200\tkro\t20\ttah\t4\tzov\t1\tzaJr\n",
      "44733\tnAW\t200\tbu\t20\tset\t4\tzet\t1\tzah\n",
      "38577\tla\t199\tbes\t20\tpiW\t4\tzAWs\t1\tz1\n",
      "37952\tEJ\t198\theJs\t20\tneJs\t4\tvrov\t1\tz#\n",
      "35747\tU\t198\tfre\t20\tmOs\t4\tvreJ\t1\tWyIg\n",
      "31598\tNa\t193\tniW\t20\tkle\t4\tvlI\t1\tWes\n",
      "31275\tmo\t193\tgEJ\t20\tkJev\t4\tvek\t1\tWaJs\n",
      "29970\tdos\t191\tTIs\t20\tjik\t4\tvah\t1\tW5s\n",
      "29745\tkO\t189\tjoW\t20\tjeJs\t4\ttSo\t1\tW5\n",
      "29414\tka\t189\tblog\t20\thap\t4\ttrWo\t1\tvrJo\n",
      "28921\tza\t188\tv!s\t20\tdEt\t4\ttrad\t1\tvriW\n",
      "28608\tva\t186\tSer\t20\tbayer\t4\ttrab\t1\tvrir\n",
      "28571\tas\t185\tleJs\t20\taJr\t4\ttled\t1\tvr5\n",
      "28442\tsa\t184\ttris\t19\tWer\t4\ttir\t1\tvoss\n",
      "27923\tle\t184\thar\t19\tpud\t4\ttells\t1\tvoJ\n",
      "27078\ttAW\t184\tbrJo\t19\tot\t4\ttEd\t1\tvIs\n",
      "26984\tsI\t183\tTis\t19\tmad\t4\ttad\t1\tveWs\n",
      "26747\ttEJ\t178\tsis\t19\tloWJs\t4\tsWar\t1\tvEt\n",
      "26038\tso\t178\tjJos\t19\tlJers\t4\tsWa\t1\tvAg\n",
      "25361\tn5\t176\tdWos\t19\tkol\t4\tSot\t1\tv7W\n",
      "24782\tmas\t174\tSes\t19\tjU\t4\tslot\t1\tv1s\n",
      "24100\tlo\t174\tru\t19\tgrAWs\t4\tsIs\t1\tuWWW\n",
      "23897\tos\t173\trus\t19\tfrJos\t4\tsik\t1\turt\n",
      "21725\tmaJs\t173\trI\t19\tfluJ\t4\tSid\t1\turd\n",
      "20379\trJa\t172\tprJos\t19\tEs\t4\tseg\t1\tur\n",
      "19816\tko\t171\tsuJ\t19\tbl1\t4\tsat\t1\tuls\n",
      "19321\tpra\t171\tmAs\t19\t2\t4\tsaf\t1\tulk\n",
      "18705\tpor\t170\tzi\t19\t#\t4\ts$\t1\tuld\n",
      "18653\trAW\t170\ttWa\t18\tTIg\t4\t!s\t1\tUk\n",
      "17973\ttos\t170\tkluJ\t18\tsJO\t4\tr!s\t1\tuJW\n",
      "17877\tdas\t169\tlI\t18\tluJ\t4\trek\t1\tuJt\n",
      "17500\tro\t169\tgoWs\t18\tlU\t4\trAt\t1\tuJ\n",
      "17012\tnos\t167\tgys\t18\tk!\t4\trad\t1\tUh\n",
      "16978\t7\t167\t$\t18\tg4\t4\tpri\t1\tuf\n",
      "13971\tsJa\t166\tbU\t18\tflat\t4\tpit\t1\tTyas\n",
      "13942\tNo\t165\tgWeW\t18\tfJe\t4\tpIg\t1\ttw\n",
      "13878\tfoJ\t163\tTJO\t18\tfalls\t4\tpeg\t1\ttuW\n",
      "13282\tl1\t163\tg1s\t18\tbrO\t4\tpak\t1\ttUs\n",
      "13057\tb6\t163\tfJo\t18\tars\t4\tord\t1\ttuJs\n",
      "12866\tt1\t161\tprir\t18\tard\t4\tNUs\t1\ttSIg\n",
      "12679\tres\t160\tlJos\t17\ttWas\t4\tnJi\t1\ttSek\n",
      "12153\tme\t159\tusp\t17\ttSer\t4\tniWs\t1\ttSed\n",
      "12095\ttro\t157\thor\t17\ttlet\t4\tNek\t1\ttSe\n",
      "11951\ttes\t157\tfiW\t17\tSop\t4\tnat\t1\ttSaJ\n",
      "11925\ttar\t156\thoW\t17\tsap\t4\tmWay\t1\ttS5\n",
      "11882\tmos\t156\tf1\t17\tnov\t4\tmra\t1\tt!s\n",
      "11726\tgo\t154\tpus\t17\tnot\t4\tmOt\t1\ttrWar\n",
      "11574\tnU\t154\tplos\t17\tm#\t4\tmJe\t1\ttruJ\n",
      "11237\tzer\t151\tseJs\t17\tlet\t4\tmit\t1\ttrols\n",
      "11194\tles\t151\tgWaJ\t17\tlak\t4\tmik\t1\ttroJ\n",
      "11077\tki\t149\tnJos\t17\tjuW\t4\tmIg\t1\ttrOg\n",
      "11001\tpo\t148\tSOJs\t17\tfA\t4\tm6\t1\ttrJes\n",
      "10966\tj1\t148\tgle\t17\tdrJA\t4\tlWa\t1\ttriW\n",
      "10882\tve\t146\thEJ\t17\tdrey\t4\tlek\t1\ttrir\n",
      "10759\taW\t143\tIs\t17\tDid\t4\tleb\t1\ttrip\n",
      "10726\taJs\t142\tpreJ\t17\tbles\t4\tlay\t1\ttrim\n",
      "10416\tsOJs\t142\tnus\t17\tblar\t4\tlav\t1\ttrid\n",
      "10369\toW\t141\tvJas\t17\taWs\t4\tlad\t1\ttrey\n",
      "10188\tSo\t141\tNeJ\t16\tsay\t4\tkWos\t1\ttreW\n",
      "10096\tser\t141\tLeW\t16\tred\t4\tkuW\t1\ttred\n",
      "9355\tvaJ\t140\tdWo\t16\tpley\t4\tkSI\t1\ttoWs\n",
      "9266\tLo\t140\t1\t16\tIk\t4\tkrJa\t1\ttlus\n",
      "8804\ttas\t139\tvJar\t16\tfEJ\t4\tkrI\t1\ttlO\n",
      "8690\tzo\t139\tgAWs\t16\tfed\t4\tklay\t1\ttlJer\n",
      "8610\tgar\t138\tTJos\t16\tf6s\t4\tkJe\t1\ttjet\n",
      "8549\trJo\t136\tzus\t16\tdroJd\t4\tkeJs\t1\tTJers\n",
      "8486\tAW\t136\tsef\t16\tbah\t4\tkay\t1\tTJefs\n",
      "8343\tseW\t136\tgor\t15\tvAs\t4\tkaWs\t1\tTJef\n",
      "8190\ttoW\t135\tzor\t15\ttrOJs\t4\tjJA\t1\tTJad\n",
      "7839\tnas\t134\tlA\t15\tSA\t4\tJip\t1\ttjA\n",
      "7837\tga\t134\tDIs\t15\tpuh\t4\tjet\t1\tTiWs\n",
      "7834\tvo\t133\tnuJr\t15\tnoWs\t4\tjels\t1\tTit\n",
      "7803\ts!\t133\tJar\t15\tkres\t4\tIp\t1\ttIs\n",
      "7668\ttra\t132\tveJ\t15\tkIs\t4\thoy\t1\tTig\n",
      "7476\tkar\t132\tSy\t15\tjoy\t4\theg\t1\tti\n",
      "7420\tlar\t131\tSeW\t15\tJA\t4\tgur\t1\ttEp\n",
      "7277\tSa\t131\tpi\t15\thEs\t4\tgreJ\t1\ttels\n",
      "7235\tter\t131\tjeW\t15\tfrAW\t4\tgors\t1\ttEg\n",
      "7156\tmeW\t131\tgrJa\t15\tet\t4\tglAW\t1\ttays\n",
      "7086\tho\t131\tfy\t15\tDJe\t4\tfur\t1\ttaWt\n",
      "7023\tt5\t130\tvid\t14\tvus\t4\tfrOt\t1\ttaWr\n",
      "6932\tnaW\t128\tb1\t14\tup\t4\tfOJs\t1\ttars\n",
      "6887\ta&a\t127\tuW\t14\ttAWs\t4\tflWos\t1\ttab\n",
      "6850\tdes\t127\thes\t14\tSO\t4\tflWo\t1\tt5s\n",
      "6752\tJo\t126\ttEs\t14\trJA\t4\tfles\t1\tt#\n",
      "6704\tLa\t126\tsJes\t14\tprat\t4\tfJed\t1\tSuk\n",
      "6645\tpoJs\t124\ttWar\t14\tpr!\t4\tfIg\t1\tsUd\n",
      "6620\tses\t124\tnA\t14\tplus\t4\tfaJr\t1\tSub\n",
      "6598\tbe\t124\tJ1s\t14\tplI\t4\tf1s\t1\tS!s\n",
      "6526\ttaW\t124\tdras\t14\tplAt\t4\tesk\t1\tsrek\n",
      "6362\tseJ\t123\tfJos\t14\tnik\t4\tert\t1\tsoy\n",
      "6344\tbEJ\t123\tbI\t14\tnet\t4\teJrd\t1\tsoWf\n",
      "6307\tje\t120\trA\t14\tness\t4\td!s\t1\tSor\n",
      "6049\tsJo\t120\tO\t14\tners\t4\tdrag\t1\tsOJ\n",
      "5968\trar\t120\thi\t14\tkWAW\t4\tDJO\t1\tsoJ\n",
      "5773\tdar\t120\tbuJr\t14\tklub\t4\tdeh\t1\tSmEJ\n",
      "5624\tras\t119\ttur\t14\tkles\t4\tdeb\t1\tslAW\n",
      "5574\tdor\t119\tmaJW\t14\tkers\t4\tdak\t1\tslAs\n",
      "5563\tveW\t119\theJ\t14\t!J\t4\tbug\t1\tsJOs\n",
      "5481\tzas\t118\tvJos\t14\tIss\t4\tbrAs\t1\tSJo\n",
      "5321\tver\t118\tvis\t14\they\t4\tbraJt\t1\tSJev\n",
      "5261\tbre\t117\tteWs\t14\tgWo\t4\tbOb\t1\tsJers\n",
      "5140\tze\t117\tlip\t14\tgres\t4\tblI\t1\tSJar\n",
      "5036\tjEJ\t116\tus\t14\tfras\t4\tbl5\t1\tsJalb\n",
      "5009\tlas\t115\ttuJr\t14\tfluJr\t4\tbJas\t1\tSiW\n",
      "4789\tder\t115\tnJor\t14\tDJA\t4\tbib\t1\tSIt\n",
      "4766\tves\t114\tdad\t14\tay\t4\tbaJr\t1\tSIs\n",
      "4757\tsoW\t113\tp!\t14\t!\t4\tash\t1\tSip\n",
      "4743\tsEJ\t113\tdros\t13\tzaJ\t4\t4\t1\tSIg\n",
      "4739\tpre\t112\tplJar\t13\ttrO\t3\tzers\t1\tSev\n",
      "4729\tdeW\t111\thJa\t13\ttlo\t3\tzek\t1\tSEs\n",
      "4714\tlJa\t111\tgrAW\t13\ttley\t3\tzeJs\t1\tsers\n",
      "4698\tr1\t111\tfra\t13\tTik\t3\tzAs\t1\tsells\n",
      "4626\tkos\t111\tbraW\t13\tteWr\t3\tzaf\t1\tseh\n",
      "4606\ttre\t109\tv1\t13\tsp\t3\tWI\t1\tseb\n",
      "4519\tzAW\t109\tjeJ\t13\tsit\t3\tvoWs\t1\tSAWs\n",
      "4468\tkas\t109\tbreW\t13\tpJes\t3\tvlO\t1\tsaWrs\n",
      "4382\tvAW\t109\t5\t13\tpJe\t3\tvJA\t1\tSaWd\n",
      "4343\tros\t108\tbuJ\t13\tpaWs\t3\tvip\t1\tSars\n",
      "4291\tker\t107\tleW\t13\toWr\t3\tvIg\t1\tsars\n",
      "4248\traW\t107\tgeW\t13\tNaW\t3\tvad\t1\tSAp\n",
      "4231\tbro\t107\tgA\t13\tmu\t3\tUb\t1\tsals\n",
      "4208\tja\t106\tney\t13\tled\t3\ttrJos\t1\tSaJss\n",
      "4151\tkoW\t105\tWas\t13\tkrar\t3\ttr2\t1\tSaJs\n",
      "4141\tvoW\t105\tNJas\t13\tkIg\t3\ttoJr\t1\tSaJrs\n",
      "4079\tDi\t104\tfrer\t13\tid\t3\ttoJ\t1\tSaJr\n",
      "4038\tJa\t103\tjes\t13\tgray\t3\ttog\t1\tsah\n",
      "3903\tnEJ\t101\tbri\t13\tgAs\t3\ttEf\t1\ts8\n",
      "3876\tsar\t99\tvaJs\t13\tDyf\t3\ttAs\t1\ts7\n",
      "3818\tzar\t99\ttSaW\t13\tdoJ\t3\tt1s\t1\ts2W\n",
      "3793\ttros\t99\tters\t13\tbrJos\t3\tsUs\t1\ts1W\n",
      "3793\ttor\t99\tple\t13\tbla\t3\tsoWs\t1\ts1s\n",
      "3792\tli\t98\tmg\t13\tbAg\t3\tsOg\t1\tryIg\n",
      "3660\tpa\t98\tfAs\t13\tAh\t3\tsJosp\t1\tryA\n",
      "3602\tziW\t98\tdrOJs\t12\ttrI\t3\tsJor\t1\trut\n",
      "3501\tbO\t97\trOJs\t12\ttler\t3\tsag\t1\truj\n",
      "3486\trJos\t97\tnaWs\t12\tsWo\t3\tSAd\t1\trub\n",
      "3486\tloW\t97\tgla\t12\tsur\t3\tSad\t1\trs\n",
      "3464\tgoW\t97\tdAWs\t12\tsuJr\t3\trWas\t1\trols\n",
      "3450\tes\t96\tTJas\t12\tsab\t3\trif\t1\trof\n",
      "3411\tfas\t96\tkluJr\t12\trj\t3\tpur\t1\trit\n",
      "3386\tsas\t95\tf6\t12\tplayer\t3\tpug\t1\triS\n",
      "3216\tleJ\t94\tod\t12\tnJO\t3\tpub\t1\trig\n",
      "3173\tba\t94\tkys\t12\tmers\t3\tpoWk\t1\trib\n",
      "3168\tgaW\t93\tji\t12\tlik\t3\tpOJs\t1\tret\n",
      "3149\tmAW\t92\tnWo\t12\tlep\t3\tpOg\t1\trEs\n",
      "3129\tvEJ\t91\tpeWs\t12\tkap\t3\tplJe\t1\tren\n",
      "3112\tpaJ\t91\tgrar\t12\tjy\t3\tpJEs\t1\trays\n",
      "3098\ttres\t90\tzaJs\t12\tjJe\t3\tpJaf\t1\trAd\n",
      "3082\tn!s\t90\tp5s\t12\thuJs\t3\tpJA\t1\tr6s\n",
      "3067\tne\t89\tvJer\t12\tgus\t3\tpep\t1\tr4\n",
      "3039\tDJa\t89\tprJas\t12\tgrJas\t3\tped\t1\tpyt\n",
      "3018\tlos\t89\tnJas\t12\tdreW\t3\tnyO\t1\tpyOg\n",
      "2980\tkEJ\t89\tl5\t12\tders\t3\tNu\t1\tpsO\n",
      "2948\tplo\t89\tkOg\t12\tblO\t3\tnoJs\t1\tprJor\n",
      "2916\th1\t88\ttraJr\t12\tblik\t3\tnals\t1\tprIs\n",
      "2912\trJas\t88\ter\t11\tz5s\t3\tnab\t1\tpray\n",
      "2893\tTi\t87\tbJos\t11\tWe\t3\tm!r\t1\tpraJ\n",
      "2824\tTir\t86\trU\t11\tvO\t3\tmoJ\t1\tpov\n",
      "2819\tzes\t86\td7\t11\ttrA\t3\tm2\t1\tpoJr\n",
      "2802\tDis\t84\tm1\t11\ttles\t3\tlut\t1\tpod\n",
      "2763\troW\t84\tlO\t11\ttlas\t3\tlug\t1\tplIg\n",
      "2754\tvos\t84\td!\t11\tTJOs\t3\tl!s\t1\tpler\n",
      "2729\tgWa\t83\ttuJ\t11\tTip\t3\tloWt\t1\tplEJ\n",
      "2701\tsiW\t83\tS1\t11\ttat\t3\tlot\t1\tpl1\n",
      "2675\tgos\t83\tNe\t11\tt8\t3\tlJEs\t1\tpje\n",
      "2637\tmar\t82\thJos\t11\tsip\t3\tless\t1\tpiWs\n",
      "2619\tha\t82\tfIs\t11\tSat\t3\tkWAd\t1\tpEs\n",
      "2607\trJor\t81\tmUs\t11\tsAs\t3\tkWA\t1\tpels\n",
      "2585\tLar\t80\tmJas\t11\trEt\t3\tkOs\t1\tpEd\n",
      "2467\td1\t79\tdaW\t11\tpuls\t3\tkols\t1\tpass\n",
      "2453\tDJo\t78\tad\t11\tpr!s\t3\tklWa\t1\tpap\n",
      "2439\tfuJ\t77\tNOJs\t11\tnWas\t3\tklu\t1\tpal\n",
      "2437\tLos\t76\ttus\t11\tn5s\t3\tkley\t1\tp6\n",
      "2437\tir\t76\ttraJ\t11\tkut\t3\tklaJr\t1\tp#\n",
      "2431\tmes\t76\tkA\t11\tgroWp\t3\tkJes\t1\toy\n",
      "2423\trEJ\t75\ttek\t11\tfrAs\t3\tkJer\t1\tolt\n",
      "2384\tvJa\t75\tgros\t11\tfle\t3\tkip\t1\toJs\n",
      "2373\tdAW\t75\tfJar\t11\tfeJ\t3\tkars\t1\tnyIg\n",
      "2323\tJor\t74\tmO\t11\tek\t3\tkal\t1\tnol\n",
      "2295\tvas\t74\tley\t11\tdrar\t3\tk7\t1\tnoh\n",
      "2283\tseWs\t74\tgWaJs\t11\tdoy\t3\tk1s\t1\tnod\n",
      "2278\tmI\t74\tbreJ\t11\tbJe\t3\tJyat\t1\tnJov\n",
      "2275\t7s\t73\ttOs\t10\tzop\t3\tjUp\t1\tnJors\n",
      "2249\tty\t73\trJes\t10\tzog\t3\tjirls\t1\tnJes\n",
      "2238\ttras\t73\tp1\t10\tvik\t3\tjey\t1\tnJak\n",
      "2206\tlAW\t73\tglas\t10\tvak\t3\tjeWs\t1\tnJA\n",
      "2195\tbra\t72\tzA\t10\ttrJer\t3\tjeh\t1\tnit\n",
      "2109\tpro\t72\ttrJas\t10\ttaj\t3\tJak\t1\tnirs\n",
      "2108\tdEJ\t72\tkre\t10\tSI\t3\tjaJs\t1\tneWp\n",
      "2103\tmoW\t72\tdoJs\t10\tsAg\t3\tJ5\t1\tNes\n",
      "2078\tLor\t72\tbrJa\t10\trUs\t3\tj1s\t1\tnep\n",
      "2056\tzJa\t71\tzJas\t10\tpress\t3\ti\t1\tnek\n",
      "2053\tber\t71\ttraJs\t10\tnaf\t3\thuJr\t1\tNeJt\n",
      "2036\tnar\t71\tnI\t10\tmig\t3\thOJs\t1\tnef\n",
      "2032\tdoW\t71\tflor\t10\tmars\t3\thJer\t1\tNAWs\n",
      "2026\thos\t70\thed\t10\tlIg\t3\thJe\t1\tnaWf\n",
      "1999\tfes\t69\tzeWs\t10\tl5s\t3\thIs\t1\tnAt\n",
      "1966\tsi\t69\ttr!J\t10\tkob\t3\thI\t1\tNaJs\n",
      "1930\tgU\t69\ts5\t10\tkaf\t3\thad\t1\tnaJr\n",
      "1922\tjJa\t69\tAs\t10\tip\t3\thA\t1\tnAd\n",
      "1912\tsJas\t68\tsiWs\t10\tgaJr\t3\t!h\t1\tN6\n",
      "1885\tLer\t68\tpEJ\t10\tfruJr\t3\tguy\t1\tN5\n",
      "1832\ttrar\t68\tlIs\t10\tfOt\t3\tgrEJ\t1\tn2\n",
      "1813\tnaJs\t68\tgay\t10\tfJes\t3\tgreb\t1\tn1s\n",
      "1769\tsos\t67\tr!\t10\tdWa\t3\tgraf\t1\tmyers\n"
     ]
    },
    {
     "name": "stdout",
     "output_type": "stream",
     "text": [
      "1757\tNor\t67\tpys\t10\tbob\t3\tgot\t1\tmy\n",
      "1746\tp!s\t67\tlJw\t10\tAd\t3\tgOg\t1\tmWo\n",
      "1744\tmJa\t66\tpop\t9\tzJer\t3\tglJos\t1\tmuW\n",
      "1725\tDJas\t66\tkeW\t9\tzIg\t3\tgli\t1\tmud\n",
      "1723\tkWaW\t65\ttoWr\t9\ttok\t3\tgAg\t1\tmoWs\n",
      "1722\tpos\t65\tted\t9\tTJer\t3\tg8\t1\tmols\n",
      "1714\tveJs\t65\tSaW\t9\tsub\t3\tfUd\t1\tmlet\n",
      "1705\tNas\t65\tsA\t9\tsoJs\t3\tfrJo\t1\tmJO\n",
      "1691\tNAW\t65\tpeJ\t9\tsJer\t3\tfrid\t1\tmJEt\n",
      "1689\tvar\t64\ttop\t9\tSeWs\t3\tflip\t1\tmJes\n",
      "1680\tl6\t64\tdraW\t9\tsek\t3\tfAWs\t1\tmJer\n",
      "1674\tUs\t63\tfos\t9\trJO\t3\teyes\t1\tmJah\n",
      "1661\tkaW\t63\tfi\t9\treJs\t3\teWs\t1\tmiss\n",
      "1658\tmaW\t63\tboJ\t9\tpr1\t3\terj\t1\tmim\n",
      "1652\tnu\t62\tor\t9\tp1g\t3\tells\t1\tmiJ\n",
      "1649\tLOJs\t62\tlJAs\t9\tors\t3\teg\t1\tmib\n",
      "1644\tboW\t62\tkWo\t9\tnOJs\t3\tEd\t1\tmerh\n",
      "1616\tge\t62\tblJa\t9\tn7\t3\tDit\t1\tmap\n",
      "1611\tteW\t62\t5Js\t9\tmur\t3\tdeye\t1\tmaJr\n",
      "1595\tfI\t61\tteJs\t9\tloJ\t3\tded\t1\tmaJd\n",
      "1594\tjo\t61\tpriW\t9\tkrAW\t3\tdav\t1\tm7\n",
      "1587\tteJ\t61\tdri\t9\tkJar\t3\tbrEt\t1\tlWas\n",
      "1580\tpe\t60\tTJes\t9\tket\t3\tbot\t1\tluW\n",
      "1575\tpaJs\t60\ts1\t9\tk5\t3\tboss\t1\tlUSs\n",
      "1541\tzos\t60\tpI\t9\tjus\t3\tblJo\t1\tlub\n",
      "1531\tkeJ\t60\tfar\t9\tIt\t3\tblEs\t1\tlop\n",
      "1505\tgUs\t59\tsaJs\t9\thot\t3\tblEd\t1\tlOg\n",
      "1497\tSar\t59\tnuJ\t9\thik\t3\tblaW\t1\tLOes\n",
      "1473\t6\t59\tgays\t9\tgret\t3\tbers\t1\tll\n",
      "1465\tviW\t58\tvres\t9\tgOs\t3\tbeJg\t1\tlJyah\n",
      "1461\tbus\t58\tOs\t9\tgI\t3\tbed\t1\tlJot\n",
      "1448\tNos\t58\tOk\t9\teJW\t3\tbaye\t1\tlJOs\n",
      "1423\tre\t58\tnIt\t9\ted\t3\tbag\t1\tlJO\n",
      "1403\tnJo\t58\tlOJs\t9\tdr5s\t3\tbad\t1\tlJev\n",
      "1403\taJ\t58\tDJar\t9\tdOs\t3\tbab\t1\tlit\n",
      "1383\tmA\t58\tbis\t9\tDJap\t3\tasp\t1\tlIp\n",
      "1379\tg6J\t57\tah\t9\tdaJ\t3\talt\t1\tlih\n",
      "1378\tiW\t56\ttrEs\t9\tbaJ\t3\talls\t1\tlid\n",
      "1367\tsWas\t56\tSef\t9\t8\t3\tAk\t1\tlEt\n",
      "1345\tgy\t55\tlAd\t9\t$W\t3\taJg\t1\tleJb\n",
      "1344\tbo\t54\tplas\t8\tz7\t3\t4W\t1\tleg\n",
      "1338\tmEJ\t54\tkaos\t8\tz$s\t3\t1Js\t1\tlef\n",
      "1332\ttr1s\t53\tvJe\t8\tvers\t2\tzur\t1\tlays\n",
      "1309\tkAW\t53\tsOs\t8\tvaJr\t2\tzig\t1\tLaWd\n",
      "1273\tgAW\t53\tSis\t8\ttmJe\t2\tzey\t1\tlAs\n",
      "1258\tjEs\t52\ttle\t8\ttl5\t2\tzed\t1\tlaJt\n",
      "1255\tgas\t52\trJar\t8\tTJe\t2\tz6s\t1\tlaj\n",
      "1240\tSoW\t52\tpis\t8\tTif\t2\tz!\t1\tlAg\n",
      "1217\tjJo\t52\tkWar\t8\tsUg\t2\tWad\t1\tlaf\n",
      "1216\tsO\t52\tfres\t8\tSolls\t2\tWA\t1\tlab\n",
      "1211\tnJa\t52\tfrEJ\t8\tSJe\t2\tvoy\t1\tkWav\n",
      "1200\tsor\t52\tat\t8\tseJg\t2\tvoJr\t1\tkuyp\n",
      "1187\tar\t51\tzJe\t8\trIs\t2\tvlut\t1\tkuJt\n",
      "1183\treJ\t51\tWos\t8\traWs\t2\tvet\t1\tkuJr\n",
      "1180\tk1\t51\tnO\t8\trak\t2\tvay\t1\tkub\n",
      "1179\tzoW\t51\tkus\t8\tr$\t2\tvAWs\t1\tkSu\n",
      "1173\tsaJr\t51\thuJ\t8\tpid\t2\tvav\t1\tksJas\n",
      "1171\tlor\t51\thO\t8\tneWr\t2\tv5W\t1\tkSJa\n",
      "1167\tzEJ\t51\thir\t8\tnay\t2\tuh\t1\tk!s\n",
      "1166\tpas\t51\thaJs\t8\tnad\t2\tTy\t1\tkrUb\n",
      "1157\tgeJ\t50\tr!J\t8\tlars\t2\ttup\t1\tkrod\n",
      "1151\tmeWs\t50\tpJas\t8\tkSJo\t2\ttuf\t1\tkrJe\n",
      "1139\tdeWs\t50\tJe\t8\tkrok\t2\ttSup\t1\tkri\n",
      "1127\tSe\t50\tgri\t8\tkraW\t2\ttSEJ\t1\tkr$s\n",
      "1094\tvi\t50\tgraWs\t8\tkov\t2\ttru\t1\tkoWt\n",
      "1093\tNA\t50\tfJas\t8\tjEJs\t2\ttrOs\t1\tkOt\n",
      "1085\tpsAW\t49\tmis\t8\tiss\t2\ttroJt\t1\tklWo\n",
      "1070\ttO\t49\tklI\t8\tIg\t2\ttroh\t1\tkluW\n",
      "1063\traJs\t49\tfred\t8\thep\t2\ttrik\t1\tkli\n",
      "1035\tNU\t49\tdA\t8\tgyAg\t2\ttrEd\t1\tkleW\n",
      "1035\tdeJ\t48\tpsOJs\t8\tgWAW\t2\ttrak\t1\tkleo\n",
      "1027\tbras\t48\tmJos\t8\tfu\t2\ttoy\t1\tklAW\n",
      "1024\tfis\t48\tfri\t8\tfrar\t2\ttoWt\t1\tklass\n",
      "1019\tpaW\t48\teb\t8\tfrA\t2\ttoS\t1\tklAs\n",
      "1019\tnoW\t48\tboy\t8\tfat\t2\ttoJs\t1\tkJA\n",
      "1013\tky\t48\tbAd\t8\teh\t2\ttof\t1\tkit\n",
      "1006\tnes\t48\tak\t8\tdog\t2\ttlAd\t1\tkish\n",
      "987\tTJa\t47\tnJe\t8\tdless\t2\tTJar\t1\tkeWp\n",
      "975\tNar\t47\tgu\t8\tdI\t2\tTiv\t1\tkEt\n",
      "971\tTiW\t47\tdEs\t8\tdaJs\t2\ttey\t1\tkels\n",
      "965\tkis\t47\tbig\t8\tbrJAd\t2\ttess\t1\tk$s\n",
      "964\tsuW\t46\tvey\t8\tbraJs\t2\ttay\t1\tk$\n",
      "963\tp5\t46\tv6\t8\tboys\t2\ttak\t1\tjWA\n",
      "954\ttroW\t46\tsep\t8\tblas\t2\ttag\t1\tjUg\n",
      "949\tz5\t46\tplar\t8\tbay\t2\tt1r\t1\tj!s\n",
      "949\ttaJs\t46\tksOJs\t8\tark\t2\tsup\t1\tjoWr\n",
      "936\tDir\t46\thuy\t8\t5h\t2\tsU\t1\tjors\n",
      "919\tpar\t46\thay\t7\tzAg\t2\tSre\t1\tjOh\n",
      "916\the\t46\tav\t7\tvJes\t2\tsot\t1\tjob\n",
      "906\tI\t45\tvA\t7\tUf\t2\tSoJ\t1\tjnoW\n",
      "897\tfor\t45\tpr5\t7\tt7\t2\tsJerj\t1\tjJyad\n",
      "889\tkes\t45\tliW\t7\tsWor\t2\tsif\t1\tjJAg\n",
      "883\theW\t45\tLi\t7\tSJor\t2\tsie\t1\tjiy\n",
      "871\tdy\t45\tl!\t7\tsJat\t2\tSeya\t1\tjij\n",
      "862\tpAW\t45\tday\t7\tsIg\t2\tsess\t1\tjess\n",
      "831\tdro\t44\tluJr\t7\tsAWs\t2\tSers\t1\tjEg\n",
      "814\tni\t44\tku\t7\tS1s\t2\tSed\t1\tjays\n",
      "807\tler\t44\tgroW\t7\trov\t2\tsed\t1\tjay\n",
      "802\tbar\t44\tbrEJ\t7\traJ\t2\tSaWJ\t1\tjaWss\n",
      "798\tSAW\t43\tnip\t7\tr5s\t2\tsaSs\t1\tJat\n",
      "797\tOJs\t43\tkros\t7\tprJar\t2\tsaJd\t1\tjAs\n",
      "786\tmAWs\t43\tju\t7\tpJer\t2\tSaJ\t1\tjak\n",
      "756\tDJos\t42\tfAW\t7\tpers\t2\tS!\t1\tjaJ\n",
      "740\try\t41\trWa\t7\tork\t2\trot\t1\tjah\n",
      "738\tNoW\t41\tpres\t7\tNWa\t2\troJs\t1\tjA\n",
      "737\tguJr\t41\toWt\t7\tnoJr\t2\troJd\t1\tJ7\n",
      "736\tby\t41\tksar\t7\tnIg\t2\troJ\t1\tj5\n",
      "735\tper\t41\tkla\t7\tned\t2\trJer\t1\tj2\n",
      "735\ther\t41\tfet\t7\tnah\t2\trJah\t1\tJ$\n",
      "730\tprar\t41\tdOJs\t7\tn$\t2\triy\t1\tiyah\n",
      "730\tpOJ\t41\tbaJs\t7\tmOg\t2\trIk\t1\tiWls\n",
      "729\tvras\t40\tW7\t7\tmIs\t2\trat\t1\tIst\n",
      "720\tri\t40\tvrAW\t7\tmid\t2\tpWa\t1\tih\n",
      "716\tDiW\t40\trO\t7\tmeyer\t2\tpUs\t1\tig\n",
      "707\tv!\t40\tmEt\t7\tlaWb\t2\tprUs\t1\tif\n",
      "707\tgWaW\t40\tmaJ\t7\tl#\t2\tprIt\t1\thWa\n",
      "705\tbrar\t40\tJ!\t7\tkyh\t2\tprev\t1\thuI\n",
      "702\tjar\t40\td5\t7\tksJa\t2\tpot\t1\th!s\n",
      "701\tlis\t39\ttrJo\t7\tkSi\t2\tpof\t1\thoWl\n",
      "696\tmer\t39\ttrAs\t7\tkris\t2\tploW\t1\thors\n",
      "692\tsJos\t39\tpO\t7\tkret\t2\tplok\t1\thleJ\n",
      "692\tgues\t39\tlJe\t7\tklas\t2\tplaJ\t1\thJosp\n",
      "689\tfe\t39\tlJA\t7\tkir\t2\tplA\t1\thJers\n",
      "687\tprio\t39\tiv\t7\tkeys\t2\tpik\t1\thJad\n",
      "685\tsaJ\t39\tart\t7\tkAt\t2\tpet\t1\thIg\n",
      "678\tnor\t38\trik\t7\tkals\t2\tpay\t1\thaWh\n",
      "674\tpeW\t38\tfreJ\t7\tjJad\t2\tpAd\t1\thAp\n",
      "669\tvro\t38\tfeW\t7\tjaW\t2\toya\t1\thaJW\n",
      "668\tjir\t37\tvrar\t7\tj!\t2\told\t1\thaJo\n",
      "665\tSeJ\t37\tsob\t7\tgWiW\t2\toJW\t1\thah\n",
      "664\tLas\t37\trah\t7\tgl5s\t2\tnyi\t1\th$\n",
      "662\tLAW\t37\tluf\t7\tfJeld\t2\tnyAg\t1\tgzag\n",
      "659\tvI\t37\tkrer\t7\tfaW\t2\tnyA\t1\tgyo\n",
      "652\tvir\t37\tjJer\t7\ters\t2\tnur\t1\tgyes\n",
      "649\tkWaJs\t37\this\t7\tdrJa\t2\tNO\t1\tgWos\n",
      "647\tprJa\t37\tgO\t7\tdle\t2\tnif\t1\tgWes\n",
      "639\tLe\t37\tfoWr\t7\tDJor\t2\tnAs\t1\tgWay\n",
      "635\tbi\t37\tdler\t7\tbUs\t2\tnap\t1\tgW8\n",
      "633\tlJar\t37\tb5\t7\tbov\t2\tnaJls\t1\tgUg\n",
      "622\tDI\t36\tmuJ\t7\tbOd\t2\tnaj\t1\tgrOs\n",
      "609\ttrAW\t36\tjJar\t7\tbley\t2\tmWos\t1\tgroj\n",
      "606\tf5\t36\tjI\t7\tAg\t2\tmut\t1\tgrIg\n",
      "598\tr6\t36\tfrJar\t6\tzWa\t2\tmuk\t1\tgov\n",
      "597\tvaW\t36\tfrJa\t6\tviv\t2\tmoWd\t1\tgoJs\n",
      "596\tjAW\t35\ttl!\t6\tviJ\t2\tmJers\t1\tgoh\n",
      "593\tvJo\t35\tpA\t6\tUt\t2\tmeJs\t1\tgma\n",
      "589\tbeW\t35\tnak\t6\turss\t2\tmay\t1\tglis\n",
      "569\tbriW\t35\tmOd\t6\ttUg\t2\tmans\t1\tgji\n",
      "564\tsJe\t35\tLEJ\t6\ttSes\t2\tmalls\t1\tgeJs\n",
      "562\tsJar\t35\td!J\t6\ttrWa\t2\tmAd\t1\tgEd\n",
      "560\ttraW\t34\tW1\t6\ttroJd\t2\tlWar\t1\tgat\n",
      "558\tmor\t34\tsad\t6\ttoyo\t2\tlov\t1\tgarh\n",
      "556\tzOJs\t34\treW\t6\ttov\t2\tloss\t1\tgap\n",
      "545\tmir\t34\tof\t6\ttAg\t2\tlors\t1\tgah\n",
      "541\tvra\t34\tN1\t6\tt$\t2\tloj\t1\tg4s\n",
      "534\tnWa\t34\tdWas\t6\tSet\t2\tlJash\t1\tg#\n",
      "534\tLeJ\t34\tbA\t6\tSek\t2\tl!J\t1\tfyIg\n",
      "532\tgra\t34\tab\t6\trIg\t2\tliWs\t1\tfuss\n",
      "522\tples\t33\tkreW\t6\traf\t2\tlig\t1\tfuS\n",
      "518\tis\t33\tkJo\t6\tpJO\t2\tleWrs\t1\tfus\n",
      "517\tfJa\t33\tkJas\t6\tpIs\t2\tleh\t1\tfrut\n",
      "513\tluJs\t33\tkAp\t6\tpek\t2\tlAt\t1\tfruJ\n",
      "512\tbJo\t33\tit\t6\toWd\t2\tlat\t1\tfru\n",
      "502\tJos\t33\tg5\t6\tolf\t2\tl$\t1\tfroW\n",
      "492\ttrJa\t33\tfer\t6\toh\t2\tkWah\t1\tfreJs\n",
      "492\tSas\t32\tUg\t6\tnUs\t2\tkWab\t1\tfOk\n",
      "489\tTJo\t32\tsid\t6\tnJOs\t2\tkuJ\t1\tflyIg\n",
      "485\tbrir\t32\tpad\t6\tNEJ\t2\tkrJo\t1\tflO\n",
      "481\tgles\t32\tnJer\t6\tmUd\t2\tkrit\t1\tfler\n",
      "480\tkaJs\t32\tmek\t6\tmId\t2\tkors\t1\tflan\n",
      "479\tpJor\t32\tlJer\t6\tlJes\t2\tkOp\t1\tfl5\n",
      "475\tNJa\t32\tkWa\t6\tlaJ\t2\tklaWs\t1\tfir\n",
      "474\tneJ\t32\tfrJas\t6\tkWas\t2\tkiW\t1\tfin\n",
      "468\tzJo\t32\tdAs\t6\tkU\t2\tkik\t1\tfers\n",
      "468\tvre\t31\tzJos\t6\tkrO\t2\tkId\t1\tfeJk\n",
      "467\tvor\t31\tsih\t6\tkras\t2\tkEs\t1\tfaWt\n",
      "464\tpes\t31\tmoWr\t6\tkraJg\t2\tkEd\t1\tfak\n",
      "458\tpy\t31\tjaJr\t6\tkop\t2\tkeb\t1\tfaJW\n",
      "458\tneW\t31\thiW\t6\tkoJs\t2\tkAs\t1\tfag\n",
      "456\tLoW\t31\test\t6\tkloW\t2\tkaJd\t1\tev\n",
      "453\tzir\t31\tdrid\t6\tklis\t2\tk#\t1\tess\n",
      "451\tw\t31\tb6s\t6\tkaJW\t2\tjOs\t1\tesg\n",
      "450\ttOJs\t31\t5s\t6\tkab\t2\tjog\t1\tEp\n",
      "442\tbr1s\t30\tzis\t6\tk%\t2\tjO\t1\telf\n",
      "441\trer\t30\tm1s\t6\tjJO\t2\tJes\t1\tEJs\n",
      "436\tjiW\t30\tl1s\t6\tjit\t2\tJers\t1\teJd\n",
      "434\tWa\t30\tk6\t6\tjers\t2\tJer\t1\tDyb\n",
      "434\tJas\t30\tgaJ\t6\tjed\t2\tjek\t1\tduy\n",
      "427\tu\t29\tUd\t6\tjat\t2\tjEd\t1\tdur\n",
      "427\tsaW\t29\ttU\t6\thoyaW\t2\tj5s\t1\tdSEJ\n",
      "425\tdrAW\t29\tTJA\t6\thaf\t2\tJ1\t1\tdrug\n",
      "422\tlJo\t29\tsus\t6\tgris\t2\tj$\t1\tdrJo\n",
      "417\tvEs\t29\tsu\t6\tgreg\t2\tills\t1\tdrJes\n",
      "413\tdu\t29\tsEs\t6\tgraJs\t2\tild\t1\tdrJas\n",
      "413\tdra\t29\tmak\t6\tfryer\t2\thus\t1\tdriy\n",
      "410\tv5s\t29\tmaJls\t6\tfik\t2\thOs\t1\tdriss\n",
      "410\tmU\t29\tm!\t6\tf5s\t2\thoJr\t1\tdrip\n",
      "410\thWas\t29\tlir\t6\tdriW\t2\thJo\t1\tdrik\n",
      "408\tzaW\t29\tjor\t6\tdrI\t2\thJes\t1\tdrens\n",
      "408\tfa\t29\tiJ\t6\tdreJ\t2\thJAW\t1\tdrej\n",
      "404\tpoW\t29\th5\t6\tdok\t2\thJar\t1\tdraJs\n",
      "397\t1s\t29\tglJo\t6\tDJer\t2\thEt\t1\tdraJls\n",
      "388\tlJas\t29\tfro\t6\tbWas\t2\thaJ\t1\tdoWs\n",
      "388\tbos\t28\tzJar\t6\tboJs\t2\thaj\t1\tdoWr\n",
      "386\tbJa\t28\tt!\t6\tbJA\t2\th5s\t1\tdoWg\n",
      "382\tmEs\t28\ts1b\t6\tbat\t2\th1s\t1\tdot\n",
      "381\tfo\t28\tprAW\t6\tb1s\t2\tgrU\t1\tdOg\n",
      "374\tnWar\t28\tplJa\t5\tzu\t2\tgrey\t1\tdli\n",
      "371\tzeJ\t28\tpaes\t5\tzab\t2\tgrAt\t1\tdles\n",
      "369\tpJo\t28\tn6\t5\tWard\t2\tgrass\t1\tDiy\n",
      "369\tlus\t28\tglos\t5\tvroW\t2\tgrad\t1\tDiJ\n",
      "359\tkrJar\t28\tg1\t5\tvrOJs\t2\tgrA\t1\tDih\n",
      "353\ttreJ\t28\tep\t5\tvok\t2\tgOJ\t1\tdi\n",
      "352\tnir\t28\tbuW\t5\tvOJs\t2\tglUd\t1\tdey\n",
      "351\tzeW\t28\tble\t5\ttWos\t2\tgl!s\t1\tdet\n",
      "351\tris\t27\tz6\t5\ttud\t2\tglAd\t1\tdess\n",
      "348\tjas\t27\tWo\t5\ttrus\t2\tgiW\t1\tdels\n",
      "343\tr5\t27\tsJA\t5\ttrov\t2\tgIs\t1\tdEJs\n",
      "330\tger\t27\top\t5\ttrolls\t2\tgi\t1\tdeJr\n",
      "330\teJ\t27\tmuy\t5\ttlJe\t2\tfuW\t1\tdeJk\n",
      "329\tTI\t27\tmet\t5\tSJes\t2\tfrOJs\t1\tdehs\n",
      "329\tpras\t27\tlaW\t5\tSik\t2\tfrJed\t1\tdap\n",
      "328\tjer\t27\tkra\t5\tsig\t2\tfris\t1\tdaJr\n",
      "321\tpJa\t27\tkat\t5\tSEt\t2\tfO\t1\tdAg\n",
      "321\tbrAW\t27\tglo\t5\ts5s\t2\tflWa\t1\td6\n",
      "320\trir\t26\tSu\t5\troy\t2\tflog\t1\td1s\n",
      "320\tpla\t26\tSJa\t5\tror\t2\tfJev\t1\td#\n",
      "319\tA\t26\tr8\t5\triWs\t2\tfils\t1\tbyars\n",
      "318\tt6\t26\tr1s\t5\trey\t2\tfeWr\t1\tbut\n",
      "318\tkor\t26\tpJar\t5\tray\t2\tfaJ\t1\tbur\n",
      "317\tbaW\t26\tmJar\t5\tr#\t2\tfab\t1\tbse\n",
      "313\tSos\t26\tlu\t5\tpU\t2\tf!\t1\tbryIg\n",
      "305\tTJAs\t26\tkoJ\t5\tprJo\t2\terd\t1\tbryAt\n",
      "304\tgre\t26\tfoW\t5\tpoWr\t2\telp\t1\tbruJ\n",
      "301\ttruJr\t25\tzI\t5\tplAW\t2\tEg\t1\tbrOJs\n",
      "300\tkaJ\t25\ttWo\t5\tpeJs\t2\tdyy\t1\tbris\n",
      "298\tgWas\t25\tSEJ\t5\toWs\t2\tdWar\t1\tbrig\n"
     ]
    },
    {
     "name": "stdout",
     "output_type": "stream",
     "text": [
      "297\tmJo\t25\tprEJ\t5\tnWos\t2\tdUs\t1\tbrI\n",
      "295\tbir\t25\tneWs\t5\tNAs\t2\tdU\t1\tboyJsh\n",
      "294\tLes\t25\tn!\t5\tmlI\t2\tdrus\t1\tboWs\n",
      "293\tkJa\t25\tmus\t5\tmills\t2\tdroW\t1\tboWr\n",
      "291\tok\t25\tksos\t5\tmIh\t2\tdrIg\t1\tblos\n",
      "290\toJ\t25\tklar\t5\tmeg\t2\tdoyEJ\t1\tblok\n",
      "290\tdre\t25\tkey\t5\tmass\t2\tdays\t1\tbliW\n",
      "288\tmeJ\t25\thaW\t5\tm$\t2\tdag\t1\tblId\n",
      "284\ttu\t25\tglJa\t5\tlWAsk\t2\tbye\t1\tblEJ\n",
      "281\tgraW\t25\teJs\t5\tloWs\t2\tbulls\t1\tbleh\n",
      "280\thas\t24\tzJO\t5\tlof\t2\tbru\t1\tblAt\n",
      "278\tbroW\t24\tzik\t5\tlib\t2\tbrJas\t1\tblat\n",
      "276\tmi\t24\tult\t5\tlEs\t2\tbrJar\t1\tbJes\n",
      "276\tgras\t24\tSris\t5\tleJW\t2\tbrik\t1\tb!J\n",
      "271\tdus\t24\tsir\t5\tlaJs\t2\tbrAt\t1\tbIg\n",
      "270\tvros\t24\tS5\t5\tkur\t2\tbrap\t1\tbells\n",
      "269\tbiW\t24\tmed\t5\tkroW\t2\tbrah\t1\tbek\n",
      "268\tn1\t24\tLaW\t5\tkross\t2\tbrad\t1\tbEd\n",
      "267\tSi\t24\tklos\t5\tkler\t2\tboWt\t1\tbE\n",
      "263\tpros\t24\tbev\t5\tkiss\t2\tbok\t1\tbaSs\n",
      "261\tbAW\t23\tsAt\t5\tk3J\t2\tbma\t1\tbars\n",
      "258\ttrEJ\t23\tm5\t5\tjur\t2\tblus\t1\tb8\n",
      "258\trJe\t23\tlah\t5\tjOJs\t2\tbloW\t1\tb7\n",
      "257\tOg\t23\tl7\t5\tjIg\t2\tbler\t1\tb$r\n",
      "257\tdr5\t23\tkup\t5\tIv\t2\tbled\t1\tb$\n",
      "252\tbas\t23\tjis\t5\tik\t2\tblAW\t1\tayev\n",
      "250\tkI\t23\tgWar\t5\thob\t2\tblaJr\t1\taye\n",
      "247\tzuW\t23\tgrid\t5\thJors\t2\tbJO\t1\tayA\n",
      "245\tksAW\t23\tgrAd\t5\thip\t2\tbJar\t1\tatt\n",
      "243\thAW\t23\tgOJs\t5\tgWir\t2\tbit\t1\tass\n",
      "239\tpJos\t23\tEt\t5\tgW7W\t2\tbik\t1\tarf\n",
      "237\ttA\t23\tesp\t5\tguJs\t2\tbey\t1\tan\n",
      "237\tnis\t23\tbWa\t5\tgrir\t2\tbeJt\t1\talp\n",
      "236\tjJas\t22\tzuJs\t5\tgoyEJ\t2\tballs\t1\talf\n",
      "234\tguJ\t22\tvy\t5\tglu\t2\tb5s\t1\tald\n",
      "234\tgro\t22\tsop\t5\tgler\t2\tays\t1\tag\n",
      "234\tbor\t22\tpir\t5\tgleb\t2\tayes\t1\taf\n",
      "232\tbEs\t22\tneJW\t5\tg!\t2\taya\t1\t7r\n",
      "229\tproW\t22\tmaWs\t5\tfrey\t2\tAt\t1\t7h\n",
      "228\tbOs\t22\tlers\t5\tflu\t2\tast\t1\t5W\n",
      "227\tmiW\t22\tkOJs\t5\tflar\t2\tAr\n",
      "222\tlEJ\t22\thu\t5\tfaJrs\t2\t9\n"
     ]
    }
   ],
   "source": [
    "tail -n +2 /tmp/CorpusABGv2spell.csv | \n",
    "  awk -F',' '{n=split($5,syl,\"-\"); syllable[syl[n]]+=$9} END{for (s in syllable) print syllable[s]\"\\t\"s}' | \n",
    "  sort -rn | tee >/tmp/end_syllables_freqocc_abg >(nl | gnuplot -e \"set terminal png; set output '/tmp/end_syllables_freqocc_abg_loglog.png'; set xlabel 'end syllables'; set ylabel 'frequency of occurence'; set logscale xy; plot '/dev/stdin' with lines title 'abgcorpus'\") >(column)\n",
    "  \n",
    "cp /tmp/end_syllables_freqocc_abg .\n",
    "cp /tmp/end_syllables_freqocc_abg_loglog.png images/."
   ]
  },
  {
   "cell_type": "markdown",
   "metadata": {
    "kernel": "Bash"
   },
   "source": [
    "![](images/end_syllables_freqocc_abg_loglog.png)"
   ]
  },
  {
   "cell_type": "markdown",
   "metadata": {
    "kernel": "Bash"
   },
   "source": [
    "## Syllabic structure frequency\n",
    "\n",
    "The same analysis and scripts from before, but now considering the 7th field (ESTSILABICA)."
   ]
  },
  {
   "cell_type": "code",
   "execution_count": 17,
   "metadata": {
    "kernel": "Bash"
   },
   "outputs": [
    {
     "name": "stdout",
     "output_type": "stream",
     "text": [
      " 194786 CV\t    512 VS\t     31 CCGVS\t      6 CVGV\t      2 CCVCCS\n",
      "  26005 V\t    474 CVGC\t     23 CVGG\t      5 CGVGC\t      2 \n",
      "  23325 CVC\t    450 CCGV\t     20 CC\t      4 CVVS\t      1 VGGG\n",
      "  20525 CVG\t    344 CCVS\t     19 VCS\t      4 CCVVC\t      1 VGGC\n",
      "  15298 CCV\t    208 VGS\t     17 CGVCC\t      3 VGVS\t      1 VGCC\n",
      "  14210 CVS\t    151 CVCS\t     16 CVV\t      3 GVG\t      1 VCG\n",
      "   9786 CGV\t    108 VGC\t     13 CVCCS\t      3 GVCC\t      1 GyVC\n",
      "   5023 VC\t     84 GVS\t     11 CVVC\t      3 CVGGS\t      1 GVGS\n",
      "   3349 VG\t     70 VCC\t     11 CCVCS\t      3 CGyVC\t      1 CVGVG\n",
      "   1570 CVGS\t     69 GVC\t     10 CVGCS\t      3 CGVGS\t      1 CVGGCC\n",
      "   1116 CCVC\t     62 CGVG\t     10 CGVCS\t      2 VGVC\t      1 CVGGC\n",
      "   1099 CGVS\t     62 CCVGC\t      9 VGG\t      2 VGCS\t      1 CS\n",
      "    840 CCVG\t     42 CCVGS\t      7 G\t      2 GVCS\t      1 CGyV\n",
      "    734 GV\t     41 CVCC\t      6 VGV\t      2 CVVCS\t      1 CCVV\n",
      "    693 CGVC\t     40 CCGVC\t      6 VCCS\t      2 CVGGG\t      1 CCVGCS\n"
     ]
    }
   ],
   "source": [
    "tail -n +2 /tmp/CorpusABGv2spell.csv | \n",
    "  awk -F',' '{n=split($7,syl,\"-\"); for(i=0;++i<=n;) print syl[i]}' | \n",
    "  sort | uniq -c | sort -rn | tee >/tmp/syllabic_struct_freq_abg >(nl | gnuplot -e \"set terminal png; set output '/tmp/syllabic_struct_freq_abg_loglog.png'; set xlabel 'syllabic structure'; set ylabel 'frequency'; set logscale xy; plot '/dev/stdin' with lines title 'abgcorpus'\") >(column) \n",
    "cp /tmp/syllabic_struct_freq_abg .\n",
    "cp /tmp/syllabic_struct_freq_abg_loglog.png images/."
   ]
  },
  {
   "cell_type": "markdown",
   "metadata": {
    "kernel": "Bash"
   },
   "source": [
    "![](images/syllabic_struct_freq_abg_loglog.png)"
   ]
  },
  {
   "cell_type": "markdown",
   "metadata": {
    "kernel": "Bash"
   },
   "source": [
    "Considering only syllabic structures in the beggining of a word."
   ]
  },
  {
   "cell_type": "code",
   "execution_count": 18,
   "metadata": {
    "kernel": "Bash"
   },
   "outputs": [
    {
     "name": "stdout",
     "output_type": "stream",
     "text": [
      "  45399 CV\t    116 CVS\t     13 GV\t      3 VGVS\t      1 VGGG\n",
      "  20269 V\t     63 VGC\t      9 VGG\t      3 CVGCS\t      1 VGGC\n",
      "   8156 CVC\t     45 VCC\t      9 VCS\t      2 VGCS\t      1 VGCC\n",
      "   6094 CCV\t     45 CCVS\t      8 VGS\t      2 GVC\t      1 VCG\n",
      "   4285 VC\t     41 CVGS\t      8 CVCCS\t      2 CVVCS\t      1 GVG\n",
      "   3813 CVG\t     29 VS\t      6 VCCS\t      2 CVVC\t      1 CVVS\n",
      "   1585 VG\t     27 CCVGC\t      6 G\t      2 CVV\t      1 CVGVG\n",
      "    997 CGV\t     24 CGVG\t      6 CGVCC\t      2 CVGGS\t      1 CVGGCC\n",
      "    629 CCVC\t     22 CVCS\t      5 VGV\t      2 CVGGG\t      1 CVGGC\n",
      "    306 CCVG\t     22 CGVS\t      5 CGVGC\t      2 CGyVC\t      1 CGyV\n",
      "    177 CGVC\t     20 CVCC\t      5 CCGVS\t      2 CGVCS\t      1 CCVV\n",
      "    141 CVGC\t     16 CCGVC\t      4 CVGV\t      2 CCVVC\t      1 CCVCS\n",
      "    128 CCGV\t     14 CVGG\t      4 CCVGS\t      2 \n"
     ]
    }
   ],
   "source": [
    "tail -n +2 /tmp/CorpusABGv2spell.csv | \n",
    "  awk -F',' '{n=split($7,syl,\"-\"); print syl[1]}' | \n",
    "  sort | uniq -c | sort -rn | tee >/tmp/start_syllabic_struct_freq_abg >(nl | gnuplot -e \"set terminal png; set output '/tmp/start_syllabic_struct_freq_abg_loglog.png'; set xlabel 'start syllabic structure'; set ylabel 'frequency'; set logscale xy; plot '/dev/stdin' with lines title 'abgcorpus'\") >(column)\n",
    "cp /tmp/start_syllabic_struct_freq_abg .\n",
    "cp /tmp/start_syllabic_struct_freq_abg_loglog.png images/."
   ]
  },
  {
   "cell_type": "markdown",
   "metadata": {
    "kernel": "Bash"
   },
   "source": [
    "![](images/start_syllabic_struct_freq_abg_loglog.png)"
   ]
  },
  {
   "cell_type": "markdown",
   "metadata": {
    "kernel": "Bash"
   },
   "source": [
    "And now considering only those at the end of a word."
   ]
  },
  {
   "cell_type": "code",
   "execution_count": 19,
   "metadata": {
    "kernel": "Bash"
   },
   "outputs": [
    {
     "name": "stdout",
     "output_type": "stream",
     "text": [
      "  43985 CV\t    399 CCVG\t     24 CGVG\t      4 VGV\t      2 CGVGC\n",
      "  14210 CVS\t    352 CCVC\t     19 VCS\t      4 CVVS\t      2 CCVCCS\n",
      "  12279 CVG\t    345 CVGC\t     19 CCGVC\t      4 CCVVC\t      1 VGGG\n",
      "   6741 CVC\t    344 CCVS\t     18 CC\t      3 VGVS\t      1 VGCC\n",
      "   4642 CGV\t    208 VGS\t     14 CVGG\t      3 GVCC\t      1 GyVC\n",
      "   1570 CVGS\t    151 CVCS\t     13 CVCCS\t      3 CVGV\t      1 GVGS\n",
      "   1482 VG\t    134 CCGV\t     13 CGVCC\t      3 CVGGS\t      1 G\n",
      "   1252 V\t     84 GVS\t     11 CCVCS\t      3 CVCC\t      1 CVGVG\n",
      "   1099 CGVS\t     60 VCC\t     10 CVGCS\t      3 CGVGS\t      1 CVGGCC\n",
      "    993 CCV\t     54 VGC\t     10 CGVCS\t      2 VGVC\t      1 CS\n",
      "    512 VS\t     44 CCVGC\t      8 CVV\t      2 VGCS\t      1 CCVGCS\n",
      "    494 VC\t     42 CCVGS\t      7 CVVC\t      2 GVCS\n",
      "    409 CGVC\t     41 GVC\t      6 VCCS\t      2 CVVCS\n",
      "    404 GV\t     31 CCGVS\t      5 VGG\t      2 CGyVC\n"
     ]
    }
   ],
   "source": [
    "tail -n +2 /tmp/CorpusABGv2spell.csv | \n",
    "  awk -F',' '{n=split($7,syl,\"-\"); print syl[n]}' | \n",
    "  sort | uniq -c | sort -rn | tee >/tmp/end_syllabic_struct_freq_abg >(nl | gnuplot -e \"set terminal png; set output '/tmp/end_syllabic_struct_freq_abg_loglog.png'; set xlabel 'end syllabic structure'; set ylabel 'frequency'; set logscale xy; plot '/dev/stdin' with lines title 'abgcorpus'\") >(column)\n",
    "cp /tmp/end_syllabic_struct_freq_abg .\n",
    "cp /tmp/end_syllabic_struct_freq_abg_loglog.png images/."
   ]
  },
  {
   "cell_type": "markdown",
   "metadata": {
    "kernel": "Bash"
   },
   "source": [
    "![](images/end_syllabic_struct_freq_abg_loglog.png)"
   ]
  },
  {
   "cell_type": "markdown",
   "metadata": {
    "kernel": "Bash"
   },
   "source": [
    "And now lets take in account the frequency of occurrence of the words in the corpus."
   ]
  },
  {
   "cell_type": "code",
   "execution_count": 20,
   "metadata": {
    "kernel": "Bash"
   },
   "outputs": [
    {
     "name": "stdout",
     "output_type": "stream",
     "text": [
      "4105107\tCV\t10055\tCVGS\t301\tCCVGS\t20\tG\t2\tGVCS\n",
      "1031151\tV\t6583\tCGVS\t255\tCCGVS\t19\tCVGGS\t2\tCVVCS\n",
      "647318\tCVC\t5145\tCCGV\t171\tCVGG\t17\tVGG\t2\tCVGVG\n",
      "567467\tCVG\t4701\tCGVG\t147\tGVG\t17\tCVGV\t2\tCVGGG\n",
      "275931\tCCV\t3274\tGVC\t125\tCC\t14\tVCCS\t2\t\n",
      "162688\tVG\t3202\tCCGVC\t91\tCVV\t12\tVGV\t1\tVGGG\n",
      "152647\tVC\t2572\tVS\t74\tCGVGS\t9\tCCVVC\t1\tVCG\n",
      "146831\tCGV\t2222\tCCVS\t59\tVCS\t6\tVGCS\t1\tGyVC\n",
      "80644\tCVS\t1782\tVGS\t46\tCVCCS\t5\tVGVS\t1\tGVGS\n",
      "51313\tCVGC\t696\tCCVGC\t42\tCVGCS\t5\tGVCC\t1\tCVGGCC\n",
      "25641\tCCVC\t678\tCGVGC\t31\tCVVS\t5\tCCVCCS\t1\tCVGGC\n",
      "21685\tCGVC\t676\tGVS\t31\tCGVCS\t4\tVGCC\t1\tCS\n",
      "14417\tGV\t387\tVCC\t29\tCCVCS\t3\tCGyVC\t1\tCGyV\n",
      "11488\tCCVG\t346\tCVCS\t28\tCGVCC\t2\tVGVC\t1\tCCVV\n",
      "10240\tVGC\t327\tCVCC\t26\tCVVC\t2\tVGGC\t1\tCCVGCS\n"
     ]
    }
   ],
   "source": [
    "tail -n +2 /tmp/CorpusABGv2spell.csv | \n",
    "  awk -F',' '{n=split($7,syl,\"-\"); for(i=0;++i<=n;) syllable[syl[i]]+=$9} END{for (s in syllable) print syllable[s]\"\\t\"s}' | \n",
    "  sort -rn | tee >/tmp/syllabic_struct_freqocc_abg >(nl | gnuplot -e \"set terminal png; set output '/tmp/syllabic_struct_freqocc_abg_loglog.png'; set xlabel 'syllabic structure'; set ylabel 'frequency of occurrence'; set logscale xy; plot '/dev/stdin' with lines title 'abgcorpus'\") >(column) \n",
    "cp /tmp/syllabic_struct_freqocc_abg .\n",
    "cp /tmp/syllabic_struct_freqocc_abg_loglog.png images/."
   ]
  },
  {
   "cell_type": "markdown",
   "metadata": {
    "kernel": "Bash"
   },
   "source": [
    "![](images/syllabic_struct_freqocc_abg_loglog.png)"
   ]
  },
  {
   "cell_type": "markdown",
   "metadata": {
    "kernel": "Bash"
   },
   "source": [
    "Now lets considere only syllabic structures at the beggining of a word."
   ]
  },
  {
   "cell_type": "code",
   "execution_count": 21,
   "metadata": {
    "kernel": "Bash"
   },
   "outputs": [
    {
     "name": "stdout",
     "output_type": "stream",
     "text": [
      "1644869\tCV\t2818\tCCGVC\t107\tCCVGC\t14\tVCCS\t2\tCVGVG\n",
      "927315\tV\t1978\tCCGV\t61\tCCVGS\t11\tVGV\t2\tCVGGG\n",
      "272956\tCVG\t720\tCVS\t59\tCVCS\t11\tCVGV\t2\tCGyVC\n",
      "269642\tCVC\t678\tCGVGC\t52\tCCGVS\t10\tCGVCC\t2\tCCVVC\n",
      "142196\tCCV\t365\tCVGS\t41\tVGS\t9\tCVV\t2\t\n",
      "136148\tVG\t353\tVGC\t41\tVCS\t6\tVGCS\t1\tVGGG\n",
      "130300\tVC\t329\tVCC\t41\tCVGG\t5\tVGVS\t1\tVCG\n",
      "30140\tCGV\t305\tCCVS\t33\tCVCCS\t4\tVGCC\t1\tCVGGCC\n",
      "29994\tCVGC\t296\tCVCC\t28\tCVVS\t3\tCVGCS\t1\tCVGGC\n",
      "9439\tCCVC\t216\tCGVS\t21\tGV\t3\tCGVCS\t1\tCGyV\n",
      "7190\tCGVC\t180\tGVC\t19\tG\t2\tVGGC\t1\tCCVV\n",
      "3392\tCGVG\t136\tVS\t18\tCVGGS\t2\tCVVCS\t1\tCCVCS\n",
      "2879\tCCVG\t136\tGVG\t17\tVGG\t2\tCVVC\n"
     ]
    }
   ],
   "source": [
    "tail -n +2 /tmp/CorpusABGv2spell.csv | \n",
    "  awk -F',' '{n=split($7,syl,\"-\"); syllable[syl[1]]+=$9} END{for (s in syllable) print syllable[s]\"\\t\"s}' | \n",
    "  sort -rn | tee >/tmp/start_syllabic_struct_freqocc_abg >(nl | gnuplot -e \"set terminal png; set output '/tmp/start_syllabic_struct_freqocc_abg_loglog.png'; set xlabel 'start syllabic structure'; set ylabel 'frequency of occurrence'; set logscale xy; plot '/dev/stdin' with lines title 'abgcorpus'\") >(column) \n",
    "cp /tmp/start_syllabic_struct_freqocc_abg .\n",
    "cp /tmp/start_syllabic_struct_freqocc_abg_loglog.png images/."
   ]
  },
  {
   "cell_type": "markdown",
   "metadata": {
    "kernel": "Bash"
   },
   "source": [
    "![](images/start_syllabic_struct_freqocc_abg_loglog.png)"
   ]
  },
  {
   "cell_type": "markdown",
   "metadata": {
    "kernel": "Bash"
   },
   "source": [
    "And now, syllabic structures at the end of words."
   ]
  },
  {
   "cell_type": "code",
   "execution_count": 22,
   "metadata": {
    "kernel": "Bash"
   },
   "outputs": [
    {
     "name": "stdout",
     "output_type": "stream",
     "text": [
      "1816902\tCV\t9966\tVGC\t346\tCVCS\t14\tVCCS\t2\tGVCS\n",
      "445946\tV\t8704\tCCVG\t301\tCCVGS\t14\tCVVC\t2\tCVVCS\n",
      "398640\tCVG\t6583\tCGVS\t255\tCCGVS\t12\tVGG\t2\tCVGVG\n",
      "376240\tCVC\t3031\tGVC\t156\tCVGG\t11\tCVV\t2\tCGyVC\n",
      "118656\tVG\t2785\tCGVG\t123\tCC\t9\tCCVVC\t1\tVGGG\n",
      "88534\tCGV\t2572\tVS\t74\tCGVGS\t8\tCVGV\t1\tGyVC\n",
      "80644\tCVS\t2222\tCCVS\t59\tVCS\t6\tVGV\t1\tGVGS\n",
      "72341\tCCV\t1841\tCCGV\t46\tCVCCS\t6\tVGCS\t1\tG\n",
      "64024\tVC\t1782\tVGS\t42\tCVGCS\t5\tVGVS\t1\tCVGGCC\n",
      "50962\tCVGC\t709\tCCGVC\t31\tCVVS\t5\tGVCC\t1\tCS\n",
      "19904\tCCVC\t676\tGVS\t31\tCGVCS\t5\tCCVCCS\t1\tCCVGCS\n",
      "17120\tCGVC\t650\tCCVGC\t29\tCCVCS\t4\tVGCC\n",
      "11454\tGV\t649\tCGVGC\t21\tCGVCC\t3\tCVCC\n",
      "10055\tCVGS\t363\tVCC\t19\tCVGGS\t2\tVGVC\n"
     ]
    }
   ],
   "source": [
    "tail -n +2 /tmp/CorpusABGv2spell.csv | \n",
    "  awk -F',' '{n=split($7,syl,\"-\"); syllable[syl[n]]+=$9} END{for (s in syllable) print syllable[s]\"\\t\"s}' | \n",
    "  sort -rn | tee >/tmp/end_syllabic_struct_freqocc_abg >(nl | gnuplot -e \"set terminal png; set output '/tmp/end_syllabic_struct_freqocc_abg_loglog.png'; set xlabel 'end syllabic structure'; set ylabel 'frequency of occurrence'; set logscale xy; plot '/dev/stdin' with lines title 'abgcorpus'\") >(column) \n",
    "cp /tmp/end_syllabic_struct_freqocc_abg .\n",
    "cp /tmp/end_syllabic_struct_freqocc_abg_loglog.png images/."
   ]
  },
  {
   "cell_type": "markdown",
   "metadata": {
    "kernel": "Bash"
   },
   "source": [
    "![](images/end_syllabic_struct_freqocc_abg_loglog.png)"
   ]
  },
  {
   "cell_type": "code",
   "execution_count": null,
   "metadata": {
    "kernel": "Bash"
   },
   "outputs": [],
   "source": []
  }
 ],
 "metadata": {
  "kernelspec": {
   "display_name": "SoS",
   "language": "sos",
   "name": "sos"
  },
  "language_info": {
   "codemirror_mode": "sos",
   "file_extension": ".sos",
   "mimetype": "text/x-sos",
   "name": "sos",
   "nbconvert_exporter": "sos_notebook.converter.SoS_Exporter",
   "pygments_lexer": "sos"
  },
  "sos": {
   "kernels": [
    [
     "Bash",
     "bash",
     "Bash",
     "#E6EEFF",
     "shell"
    ]
   ],
   "panel": {
    "displayed": false,
    "height": 0
   },
   "version": "0.19.15"
  }
 },
 "nbformat": 4,
 "nbformat_minor": 2
}
